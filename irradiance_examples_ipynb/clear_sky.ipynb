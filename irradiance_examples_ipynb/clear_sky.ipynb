{
 "cells": [
  {
   "cell_type": "markdown",
   "source": [
    "# Preliminary  assessment of Plane of Array irradiance measurements against theoretical sun path\n",
    "The algorithm hereby described flags possible disconnections and outliers of thermoelectric pyranometer hourly\n",
    "spot measurements corresponding to the lowest class of monitoring by comparing them to the theoretical sun path.\n",
    "\n",
    "## Sun position algorithm\n",
    "The theoretical sun path is obtained through the widely used NREL algorithm.\n",
    "This algorithm is implemented by SNL in the [python library pvlib](https://github.com/pvlib/pvlib-python/tree/master/pvlib)."
   ],
   "metadata": {
    "collapsed": false,
    "pycharm": {
     "name": "#%% md\n"
    }
   }
  },
  {
   "cell_type": "code",
   "execution_count": 105,
   "outputs": [],
   "source": [
    "from pandas import DataFrame, Series, DatetimeIndex, merge, set_option\n",
    "from pvlib import spa as spnrel\n",
    "from clear_sky import datetime_to_utc\n",
    "from datetime import datetime\n",
    "from os import getcwd, listdir\n",
    "from os.path import join, dirname\n",
    "\n",
    "set_option('display.max_columns', 10)\n",
    "\n",
    "#Module position is retrieved through [digimap](#https://digimap.edina.ac.uk/)\n",
    "LATITUDE = 52.7616\n",
    "#negative longitude based on solar convention\n",
    "LONGITUDE =  - (1.2406)\n",
    "ALTITUDE = 79\n",
    "PRESSURE = 101325.\n",
    "TEMPERATURE = 12\n",
    "DELTA_T = 67.0\n",
    "ATMOS_REFRACT = 0.5667\n",
    "TRANSMITTANCE = 0.5\n",
    "\n",
    "SURFACE_ZENITH = 34\n",
    "SURFACE_AZIMUTH = 180\n",
    "\n",
    "NUMTHREADS = 4\n",
    "\n",
    "ASSETS_FOLDER = join(dirname(getcwd()) + r\"/assets/\")\n",
    "\n",
    "\n",
    "delta_t = DELTA_T\n",
    "observer_longitude = LONGITUDE\n",
    "observer_latitude = LATITUDE\n",
    "observer_elevation = ALTITUDE\n",
    "local_pressure =PRESSURE\n",
    "local_temp = TEMPERATURE\n",
    "atmos_refract = ATMOS_REFRACT\n",
    "numthreads = NUMTHREADS"
   ],
   "metadata": {
    "collapsed": false,
    "pycharm": {
     "name": "#%%\n"
    }
   }
  },
  {
   "cell_type": "markdown",
   "source": [
    "### SPA calculation example"
   ],
   "metadata": {
    "collapsed": false,
    "pycharm": {
     "name": "#%% md\n"
    }
   }
  },
  {
   "cell_type": "code",
   "execution_count": null,
   "outputs": [],
   "source": [
    "year, month, day, hour, minute, second, microsecond = 2019, 4, 16, 12, 0, 0, 0\n",
    "unixtime = datetime_to_utc(datetime(year, month, day, hour, minute, second, microsecond))\n",
    "julian_day_dt = spnrel.julian_day_dt(year, month, day, hour, minute, second, microsecond)\n",
    "julian_day_dt"
   ],
   "metadata": {
    "collapsed": false,
    "pycharm": {
     "name": "#%%\n"
    }
   }
  },
  {
   "cell_type": "code",
   "execution_count": null,
   "outputs": [],
   "source": [
    "julian_day = spnrel.julian_day(unixtime)\n",
    "julian_day"
   ],
   "metadata": {
    "collapsed": false,
    "pycharm": {
     "name": "#%%\n"
    }
   }
  },
  {
   "cell_type": "code",
   "execution_count": null,
   "outputs": [],
   "source": [
    "julian_ephemeris_day = spnrel.julian_ephemeris_day(julian_day, delta_t)\n",
    "julian_ephemeris_day"
   ],
   "metadata": {
    "collapsed": false,
    "pycharm": {
     "name": "#%%\n"
    }
   }
  },
  {
   "cell_type": "code",
   "execution_count": null,
   "outputs": [],
   "source": [
    "julian_century = spnrel.julian_century(julian_day)\n",
    "julian_century"
   ],
   "metadata": {
    "collapsed": false,
    "pycharm": {
     "name": "#%%\n"
    }
   }
  },
  {
   "cell_type": "code",
   "execution_count": null,
   "outputs": [],
   "source": [
    "julian_ephemeris_century = spnrel.julian_ephemeris_century(julian_ephemeris_day)\n",
    "julian_ephemeris_century"
   ],
   "metadata": {
    "collapsed": false,
    "pycharm": {
     "name": "#%%\n"
    }
   }
  },
  {
   "cell_type": "code",
   "execution_count": null,
   "outputs": [],
   "source": [
    "julian_ephemeris_millennium = spnrel.julian_ephemeris_millennium(julian_ephemeris_century)\n",
    "julian_ephemeris_millennium"
   ],
   "metadata": {
    "collapsed": false,
    "pycharm": {
     "name": "#%%\n"
    }
   }
  },
  {
   "cell_type": "code",
   "execution_count": null,
   "outputs": [],
   "source": [
    "#renaming\n",
    "jme = julian_ephemeris_millennium\n",
    "heliocentric_longitude = spnrel.heliocentric_longitude(jme)\n",
    "heliocentric_longitude"
   ],
   "metadata": {
    "collapsed": false,
    "pycharm": {
     "name": "#%%\n"
    }
   }
  },
  {
   "cell_type": "code",
   "execution_count": null,
   "outputs": [],
   "source": [
    "heliocentric_latitude = spnrel.heliocentric_latitude(jme)\n",
    "heliocentric_latitude"
   ],
   "metadata": {
    "collapsed": false,
    "pycharm": {
     "name": "#%%\n"
    }
   }
  },
  {
   "cell_type": "code",
   "execution_count": null,
   "outputs": [],
   "source": [
    "heliocentric_radius_vector= spnrel.heliocentric_radius_vector(jme)\n",
    "heliocentric_radius_vector"
   ],
   "metadata": {
    "collapsed": false,
    "pycharm": {
     "name": "#%%\n"
    }
   }
  },
  {
   "cell_type": "code",
   "execution_count": null,
   "outputs": [],
   "source": [
    "geocentric_longitude = spnrel.geocentric_longitude(heliocentric_longitude)\n",
    "geocentric_longitude"
   ],
   "metadata": {
    "collapsed": false,
    "pycharm": {
     "name": "#%%\n"
    }
   }
  },
  {
   "cell_type": "code",
   "execution_count": null,
   "outputs": [],
   "source": [
    "geocentric_latitude = spnrel.geocentric_latitude(heliocentric_latitude)\n",
    "geocentric_latitude"
   ],
   "metadata": {
    "collapsed": false,
    "pycharm": {
     "name": "#%%\n"
    }
   }
  },
  {
   "cell_type": "code",
   "execution_count": null,
   "outputs": [],
   "source": [
    "mean_elongation = spnrel.mean_elongation(julian_ephemeris_century)\n",
    "mean_elongation"
   ],
   "metadata": {
    "collapsed": false,
    "pycharm": {
     "name": "#%%\n"
    }
   }
  },
  {
   "cell_type": "code",
   "execution_count": null,
   "outputs": [],
   "source": [
    "mean_anomaly_sun = spnrel.mean_anomaly_sun(julian_ephemeris_century)\n",
    "mean_anomaly_sun"
   ],
   "metadata": {
    "collapsed": false,
    "pycharm": {
     "name": "#%%\n"
    }
   }
  },
  {
   "cell_type": "code",
   "execution_count": null,
   "outputs": [],
   "source": [
    "mean_anomaly_moon = spnrel.mean_anomaly_moon(julian_ephemeris_century)\n",
    "mean_anomaly_moon"
   ],
   "metadata": {
    "collapsed": false,
    "pycharm": {
     "name": "#%%\n"
    }
   }
  },
  {
   "cell_type": "code",
   "execution_count": null,
   "outputs": [],
   "source": [
    "moon_argument_latitude = spnrel.moon_argument_latitude(julian_ephemeris_century)\n",
    "moon_argument_latitude"
   ],
   "metadata": {
    "collapsed": false,
    "pycharm": {
     "name": "#%%\n"
    }
   }
  },
  {
   "cell_type": "code",
   "execution_count": null,
   "outputs": [],
   "source": [
    "moon_ascending_longitude = spnrel.moon_ascending_longitude(julian_ephemeris_century)\n",
    "moon_ascending_longitude"
   ],
   "metadata": {
    "collapsed": false,
    "pycharm": {
     "name": "#%%\n"
    }
   }
  },
  {
   "cell_type": "code",
   "execution_count": null,
   "outputs": [],
   "source": [
    "#TBC\n",
    "x0, x1, x2, x3, x4 = mean_elongation, mean_anomaly_sun, mean_anomaly_moon, moon_argument_latitude, moon_ascending_longitude\n",
    "longitude_nutation = spnrel.longitude_nutation(julian_ephemeris_century, x0, x1, x2, x3, x4)\n",
    "longitude_nutation"
   ],
   "metadata": {
    "collapsed": false,
    "pycharm": {
     "name": "#%%\n"
    }
   }
  },
  {
   "cell_type": "code",
   "execution_count": null,
   "outputs": [],
   "source": [
    "obliquity_nutation = spnrel.obliquity_nutation(julian_ephemeris_century, x0, x1, x2, x3, x4)\n",
    "obliquity_nutation"
   ],
   "metadata": {
    "collapsed": false,
    "pycharm": {
     "name": "#%%\n"
    }
   }
  },
  {
   "cell_type": "code",
   "execution_count": null,
   "outputs": [],
   "source": [
    "mean_ecliptic_obliquity = spnrel.mean_ecliptic_obliquity(julian_ephemeris_millennium)\n",
    "mean_ecliptic_obliquity"
   ],
   "metadata": {
    "collapsed": false,
    "pycharm": {
     "name": "#%%\n"
    }
   }
  },
  {
   "cell_type": "code",
   "execution_count": null,
   "outputs": [],
   "source": [
    "true_ecliptic_obliquity = spnrel.true_ecliptic_obliquity(mean_ecliptic_obliquity, obliquity_nutation)\n",
    "true_ecliptic_obliquity"
   ],
   "metadata": {
    "collapsed": false,
    "pycharm": {
     "name": "#%%\n"
    }
   }
  },
  {
   "cell_type": "code",
   "execution_count": 22,
   "outputs": [
    {
     "data": {
      "text/plain": "-0.005671989558637529"
     },
     "execution_count": 22,
     "metadata": {},
     "output_type": "execute_result"
    }
   ],
   "source": [
    "#TBC renaming\n",
    "earth_radius_vector=heliocentric_radius_vector\n",
    "aberration_correction = spnrel.aberration_correction(earth_radius_vector)\n",
    "aberration_correction"
   ],
   "metadata": {
    "collapsed": false,
    "pycharm": {
     "name": "#%%\n"
    }
   }
  },
  {
   "cell_type": "code",
   "execution_count": 23,
   "outputs": [
    {
     "data": {
      "text/plain": "26.216447430291836"
     },
     "execution_count": 23,
     "metadata": {},
     "output_type": "execute_result"
    }
   ],
   "source": [
    "apparent_sun_longitude = spnrel.apparent_sun_longitude(geocentric_longitude, longitude_nutation, aberration_correction)\n",
    "apparent_sun_longitude"
   ],
   "metadata": {
    "collapsed": false,
    "pycharm": {
     "name": "#%%\n"
    }
   }
  },
  {
   "cell_type": "code",
   "execution_count": 24,
   "outputs": [
    {
     "data": {
      "text/plain": "24.34632831532508"
     },
     "execution_count": 24,
     "metadata": {},
     "output_type": "execute_result"
    }
   ],
   "source": [
    "mean_sidereal_time = spnrel.mean_sidereal_time(julian_day, julian_century)\n",
    "mean_sidereal_time"
   ],
   "metadata": {
    "collapsed": false,
    "pycharm": {
     "name": "#%%\n"
    }
   }
  },
  {
   "cell_type": "code",
   "execution_count": 25,
   "outputs": [
    {
     "data": {
      "text/plain": "24.342033968779937"
     },
     "execution_count": 25,
     "metadata": {},
     "output_type": "execute_result"
    }
   ],
   "source": [
    "apparent_sidereal_time = spnrel.apparent_sidereal_time(mean_sidereal_time, longitude_nutation, true_ecliptic_obliquity)\n",
    "apparent_sidereal_time"
   ],
   "metadata": {
    "collapsed": false,
    "pycharm": {
     "name": "#%%\n"
    }
   }
  },
  {
   "cell_type": "code",
   "execution_count": 26,
   "outputs": [
    {
     "data": {
      "text/plain": "24.31319035809793"
     },
     "execution_count": 26,
     "metadata": {},
     "output_type": "execute_result"
    }
   ],
   "source": [
    "geocentric_sun_right_ascension = spnrel.geocentric_sun_right_ascension(apparent_sun_longitude, true_ecliptic_obliquity,\n",
    "                                   geocentric_latitude)\n",
    "geocentric_sun_right_ascension"
   ],
   "metadata": {
    "collapsed": false,
    "pycharm": {
     "name": "#%%\n"
    }
   }
  },
  {
   "cell_type": "code",
   "execution_count": 27,
   "outputs": [
    {
     "data": {
      "text/plain": "10.119534241416368"
     },
     "execution_count": 27,
     "metadata": {},
     "output_type": "execute_result"
    }
   ],
   "source": [
    "geocentric_sun_declination = spnrel.geocentric_sun_declination(apparent_sun_longitude, true_ecliptic_obliquity,\n",
    "                               geocentric_latitude)\n",
    "geocentric_sun_declination"
   ],
   "metadata": {
    "collapsed": false,
    "pycharm": {
     "name": "#%%\n"
    }
   }
  },
  {
   "cell_type": "code",
   "execution_count": 28,
   "outputs": [
    {
     "data": {
      "text/plain": "358.788243610682"
     },
     "execution_count": 28,
     "metadata": {},
     "output_type": "execute_result"
    }
   ],
   "source": [
    "#renaming\n",
    "sun_right_ascension=geocentric_sun_right_ascension\n",
    "local_hour_angle = spnrel.local_hour_angle(apparent_sidereal_time, observer_longitude,\n",
    "                     sun_right_ascension)\n",
    "local_hour_angle"
   ],
   "metadata": {
    "collapsed": false,
    "pycharm": {
     "name": "#%%\n"
    }
   }
  },
  {
   "cell_type": "code",
   "execution_count": 29,
   "outputs": [
    {
     "data": {
      "text/plain": "0.0024343564202021707"
     },
     "execution_count": 29,
     "metadata": {},
     "output_type": "execute_result"
    }
   ],
   "source": [
    "equatorial_horizontal_parallax = spnrel.equatorial_horizontal_parallax(earth_radius_vector)\n",
    "equatorial_horizontal_parallax"
   ],
   "metadata": {
    "collapsed": false,
    "pycharm": {
     "name": "#%%\n"
    }
   }
  },
  {
   "cell_type": "code",
   "execution_count": 30,
   "outputs": [
    {
     "data": {
      "text/plain": "0.9192449468406798"
     },
     "execution_count": 30,
     "metadata": {},
     "output_type": "execute_result"
    }
   ],
   "source": [
    "uterm = spnrel.uterm(observer_latitude)\n",
    "uterm"
   ],
   "metadata": {
    "collapsed": false,
    "pycharm": {
     "name": "#%%\n"
    }
   }
  },
  {
   "cell_type": "code",
   "execution_count": 31,
   "outputs": [
    {
     "data": {
      "text/plain": "0.6064282006215796"
     },
     "execution_count": 31,
     "metadata": {},
     "output_type": "execute_result"
    }
   ],
   "source": [
    "#renaming\n",
    "u = uterm\n",
    "xterm = spnrel.xterm(u, observer_latitude, observer_elevation)\n",
    "xterm"
   ],
   "metadata": {
    "collapsed": false,
    "pycharm": {
     "name": "#%%\n"
    }
   }
  },
  {
   "cell_type": "code",
   "execution_count": 32,
   "outputs": [
    {
     "data": {
      "text/plain": "0.7924878610678376"
     },
     "execution_count": 32,
     "metadata": {},
     "output_type": "execute_result"
    }
   ],
   "source": [
    "yterm = spnrel.yterm(u, observer_latitude, observer_elevation)\n",
    "yterm"
   ],
   "metadata": {
    "collapsed": false,
    "pycharm": {
     "name": "#%%\n"
    }
   }
  },
  {
   "cell_type": "code",
   "execution_count": 33,
   "outputs": [
    {
     "data": {
      "text/plain": "3.171352413077448e-05"
     },
     "execution_count": 33,
     "metadata": {},
     "output_type": "execute_result"
    }
   ],
   "source": [
    "parallax_sun_right_ascension = spnrel.parallax_sun_right_ascension(xterm, equatorial_horizontal_parallax,\n",
    "                                 local_hour_angle, geocentric_sun_declination)\n",
    "parallax_sun_right_ascension"
   ],
   "metadata": {
    "collapsed": false,
    "pycharm": {
     "name": "#%%\n"
    }
   }
  },
  {
   "cell_type": "code",
   "execution_count": 34,
   "outputs": [
    {
     "data": {
      "text/plain": "24.31322207162206"
     },
     "execution_count": 34,
     "metadata": {},
     "output_type": "execute_result"
    }
   ],
   "source": [
    "topocentric_sun_right_ascension = spnrel.topocentric_sun_right_ascension(geocentric_sun_right_ascension,\n",
    "                                    parallax_sun_right_ascension)\n",
    "topocentric_sun_right_ascension"
   ],
   "metadata": {
    "collapsed": false,
    "pycharm": {
     "name": "#%%\n"
    }
   }
  },
  {
   "cell_type": "code",
   "execution_count": 35,
   "outputs": [
    {
     "data": {
      "text/plain": "10.117894328894177"
     },
     "execution_count": 35,
     "metadata": {},
     "output_type": "execute_result"
    }
   ],
   "source": [
    "topocentric_sun_declination = spnrel.topocentric_sun_declination(\n",
    "                            geocentric_sun_declination,\n",
    "                            xterm,\n",
    "                            yterm,\n",
    "                            equatorial_horizontal_parallax,\n",
    "                            parallax_sun_right_ascension,\n",
    "                            local_hour_angle)\n",
    "topocentric_sun_declination"
   ],
   "metadata": {
    "collapsed": false,
    "pycharm": {
     "name": "#%%\n"
    }
   }
  },
  {
   "cell_type": "code",
   "execution_count": 36,
   "outputs": [
    {
     "data": {
      "text/plain": "358.78821189715785"
     },
     "execution_count": 36,
     "metadata": {},
     "output_type": "execute_result"
    }
   ],
   "source": [
    "topocentric_local_hour_angle = spnrel.topocentric_local_hour_angle(local_hour_angle,\n",
    "                                 parallax_sun_right_ascension)\n",
    "topocentric_local_hour_angle"
   ],
   "metadata": {
    "collapsed": false,
    "pycharm": {
     "name": "#%%\n"
    }
   }
  },
  {
   "cell_type": "code",
   "execution_count": 37,
   "outputs": [
    {
     "data": {
      "text/plain": "47.34502721330034"
     },
     "execution_count": 37,
     "metadata": {},
     "output_type": "execute_result"
    }
   ],
   "source": [
    "topocentric_elevation_angle_without_atmosphere = spnrel.topocentric_elevation_angle_without_atmosphere(observer_latitude,\n",
    "                                                   topocentric_sun_declination,\n",
    "                                                   topocentric_local_hour_angle\n",
    "                                                   )\n",
    "topocentric_elevation_angle_without_atmosphere"
   ],
   "metadata": {
    "collapsed": false,
    "pycharm": {
     "name": "#%%\n"
    }
   }
  },
  {
   "cell_type": "code",
   "execution_count": 38,
   "outputs": [
    {
     "data": {
      "text/plain": "47.34502721330034"
     },
     "execution_count": 38,
     "metadata": {},
     "output_type": "execute_result"
    }
   ],
   "source": [
    "#renaming\n",
    "topocentric_elevation_angle_wo_atmosphere = topocentric_elevation_angle_without_atmosphere\n",
    "topocentric_elevation_angle_wo_atmosphere"
   ],
   "metadata": {
    "collapsed": false,
    "pycharm": {
     "name": "#%%\n"
    }
   }
  },
  {
   "cell_type": "code",
   "execution_count": 39,
   "outputs": [
    {
     "data": {
      "text/plain": "1.549559872578202"
     },
     "execution_count": 39,
     "metadata": {},
     "output_type": "execute_result"
    }
   ],
   "source": [
    "atmospheric_refraction_correction = spnrel.atmospheric_refraction_correction(local_pressure, local_temp,\n",
    "                                      topocentric_elevation_angle_wo_atmosphere, atmos_refract)\n",
    "atmospheric_refraction_correction"
   ],
   "metadata": {
    "collapsed": false,
    "pycharm": {
     "name": "#%%\n"
    }
   }
  },
  {
   "cell_type": "code",
   "execution_count": 40,
   "outputs": [
    {
     "data": {
      "text/plain": "48.89458708587854"
     },
     "execution_count": 40,
     "metadata": {},
     "output_type": "execute_result"
    }
   ],
   "source": [
    "topocentric_elevation_angle = spnrel.topocentric_elevation_angle(\n",
    "                                topocentric_elevation_angle_without_atmosphere,\n",
    "                                atmospheric_refraction_correction)\n",
    "topocentric_elevation_angle"
   ],
   "metadata": {
    "collapsed": false,
    "pycharm": {
     "name": "#%%\n"
    }
   }
  },
  {
   "cell_type": "code",
   "execution_count": 41,
   "outputs": [
    {
     "data": {
      "text/plain": "41.10541291412146"
     },
     "execution_count": 41,
     "metadata": {},
     "output_type": "execute_result"
    }
   ],
   "source": [
    "topocentric_elevation_angle = spnrel.topocentric_zenith_angle(topocentric_elevation_angle)\n",
    "topocentric_elevation_angle"
   ],
   "metadata": {
    "collapsed": false,
    "pycharm": {
     "name": "#%%\n"
    }
   }
  },
  {
   "cell_type": "code",
   "execution_count": 42,
   "outputs": [
    {
     "data": {
      "text/plain": "358.2392657915521"
     },
     "execution_count": 42,
     "metadata": {},
     "output_type": "execute_result"
    }
   ],
   "source": [
    "topocentric_astronomers_azimuth = spnrel.topocentric_astronomers_azimuth(topocentric_local_hour_angle,\n",
    "                                    topocentric_sun_declination,\n",
    "                                    observer_latitude)\n",
    "topocentric_astronomers_azimuth"
   ],
   "metadata": {
    "collapsed": false,
    "pycharm": {
     "name": "#%%\n"
    }
   }
  },
  {
   "cell_type": "code",
   "execution_count": 43,
   "outputs": [
    {
     "data": {
      "text/plain": "178.23926579155204"
     },
     "execution_count": 43,
     "metadata": {},
     "output_type": "execute_result"
    }
   ],
   "source": [
    "topocentric_azimuth_angle = spnrel.topocentric_azimuth_angle(topocentric_astronomers_azimuth)\n",
    "topocentric_azimuth_angle"
   ],
   "metadata": {
    "collapsed": false,
    "pycharm": {
     "name": "#%%\n"
    }
   }
  },
  {
   "cell_type": "code",
   "execution_count": 44,
   "outputs": [
    {
     "data": {
      "text/plain": "7224.352884244311"
     },
     "execution_count": 44,
     "metadata": {},
     "output_type": "execute_result"
    }
   ],
   "source": [
    "sun_mean_longitude = spnrel.sun_mean_longitude(julian_ephemeris_millennium)\n",
    "sun_mean_longitude"
   ],
   "metadata": {
    "collapsed": false,
    "pycharm": {
     "name": "#%%\n"
    }
   }
  },
  {
   "cell_type": "code",
   "execution_count": 45,
   "outputs": [
    {
     "data": {
      "text/plain": "0.1187249586728285"
     },
     "execution_count": 45,
     "metadata": {},
     "output_type": "execute_result"
    }
   ],
   "source": [
    "equation_of_time = spnrel.equation_of_time(sun_mean_longitude, geocentric_sun_right_ascension,\n",
    "                     longitude_nutation, true_ecliptic_obliquity)\n",
    "equation_of_time"
   ],
   "metadata": {
    "collapsed": false,
    "pycharm": {
     "name": "#%%\n"
    }
   }
  },
  {
   "cell_type": "code",
   "execution_count": 46,
   "outputs": [
    {
     "data": {
      "text/plain": "41.10541291412146"
     },
     "execution_count": 46,
     "metadata": {},
     "output_type": "execute_result"
    }
   ],
   "source": [
    "#solar_position_numpy\n",
    "#renaming\n",
    "lat = observer_latitude\n",
    "lon = observer_longitude\n",
    "elev = observer_elevation\n",
    "pressure = local_pressure\n",
    "temp = local_temp\n",
    "# Calculate the solar position assuming unixtime is a numpy array\n",
    "theta, theta0, e, e0, phi, eot = spnrel.solar_position_numpy(unixtime, lat, lon, elev, pressure, temp, delta_t,\n",
    "                         atmos_refract, numthreads, sst=False, esd=False)\n",
    "#topocentric_zenith_angle\n",
    "theta"
   ],
   "metadata": {
    "collapsed": false,
    "pycharm": {
     "name": "#%%\n"
    }
   }
  },
  {
   "cell_type": "code",
   "execution_count": 47,
   "outputs": [
    {
     "data": {
      "text/plain": "42.65497278669966"
     },
     "execution_count": 47,
     "metadata": {},
     "output_type": "execute_result"
    }
   ],
   "source": [
    "#topocentric_zenith_angle WITHOUT atmospheric refraction correction\n",
    "theta0"
   ],
   "metadata": {
    "collapsed": false,
    "pycharm": {
     "name": "#%%\n"
    }
   }
  },
  {
   "cell_type": "code",
   "execution_count": 48,
   "outputs": [
    {
     "data": {
      "text/plain": "48.89458708587854"
     },
     "execution_count": 48,
     "metadata": {},
     "output_type": "execute_result"
    }
   ],
   "source": [
    "#topocentric_elevation_angle\n",
    "e"
   ],
   "metadata": {
    "collapsed": false,
    "pycharm": {
     "name": "#%%\n"
    }
   }
  },
  {
   "cell_type": "code",
   "execution_count": 49,
   "outputs": [
    {
     "data": {
      "text/plain": "47.34502721330034"
     },
     "execution_count": 49,
     "metadata": {},
     "output_type": "execute_result"
    }
   ],
   "source": [
    "#topocentric_elevation_angle WITHOUT atmospheric refraction correction\n",
    "e0"
   ],
   "metadata": {
    "collapsed": false,
    "pycharm": {
     "name": "#%%\n"
    }
   }
  },
  {
   "cell_type": "code",
   "execution_count": 50,
   "outputs": [
    {
     "data": {
      "text/plain": "178.23926579155204"
     },
     "execution_count": 50,
     "metadata": {},
     "output_type": "execute_result"
    }
   ],
   "source": [
    "#topocentric_azimuth_angle\n",
    "phi"
   ],
   "metadata": {
    "collapsed": false,
    "pycharm": {
     "name": "#%%\n"
    }
   }
  },
  {
   "cell_type": "code",
   "execution_count": 51,
   "outputs": [
    {
     "data": {
      "text/plain": "0.1187249586728285"
     },
     "execution_count": 51,
     "metadata": {},
     "output_type": "execute_result"
    }
   ],
   "source": [
    "#equation_of_time\n",
    "eot"
   ],
   "metadata": {
    "collapsed": false,
    "pycharm": {
     "name": "#%%\n"
    }
   }
  },
  {
   "cell_type": "markdown",
   "source": [
    "### Comparison between CREST solar position algorithm (no atmosphere correction) and python implementation"
   ],
   "metadata": {
    "collapsed": false,
    "pycharm": {
     "name": "#%% md\n"
    }
   }
  },
  {
   "cell_type": "code",
   "execution_count": 52,
   "outputs": [],
   "source": [
    "from clear_sky import SolarLibrary\n",
    "from clear_sky import csv_read_datetime_format\n",
    "\n",
    "crest_spa, errors = csv_read_datetime_format(filepath=join(ASSETS_FOLDER,'crest_nrel_spa.csv'),\n",
    "                                     datetime_column=\"SPA_Datetime\")\n",
    "#surface zenith & azimuth not used at this point but later\n",
    "sl = SolarLibrary(latitude=LATITUDE, longitude=LONGITUDE, altitude=ALTITUDE,\n",
    "                 temperature=TEMPERATURE, delta_t=DELTA_T, pressure=PRESSURE,\n",
    "                  surface_zenith=SURFACE_ZENITH, surface_azimuth=SURFACE_AZIMUTH,\n",
    "                  atmos_refract=ATMOS_REFRACT, transmittance=TRANSMITTANCE)\n",
    "outputs = [\"apparentzenith\",\"zenith\",\"azimuth\",\"equation_of_time\", \"elevation\", \"apparentelevation\"]"
   ],
   "metadata": {
    "collapsed": false,
    "pycharm": {
     "name": "#%%\n"
    }
   }
  },
  {
   "cell_type": "code",
   "execution_count": 53,
   "outputs": [
    {
     "data": {
      "text/plain": "['extraradiation',\n 'airmassabsolute',\n 'irradiancebeam',\n 'zenith',\n 'irradiancetotal',\n 'dayofyear',\n 'irradiancediffuseskypoa',\n 'azimuth',\n 'apparentelevation',\n 'angleofincidenceprojection',\n 'linketurbidity',\n 'angleofincidence',\n 'apparentzenith',\n 'irradiancediffusegroundpoa',\n 'irradiancediffuse',\n 'irradiancetotalpoa',\n 'irradiancediffusepoa',\n 'irradiancebeampoa',\n 'equation_of_time',\n 'airmassrelative',\n 'elevation']"
     },
     "execution_count": 53,
     "metadata": {},
     "output_type": "execute_result"
    }
   ],
   "source": [
    "#DEV NOTE 1/3/21: elevation not showed but calculated\n",
    "sl._outputs"
   ],
   "metadata": {
    "collapsed": false,
    "pycharm": {
     "name": "#%%\n"
    }
   }
  },
  {
   "cell_type": "code",
   "execution_count": 54,
   "outputs": [],
   "source": [
    "spa_outputs = sl.getsolardataframe(datetimeindex_utc=DatetimeIndex(crest_spa[\"SPA_Datetime\"]), outputs=outputs)"
   ],
   "metadata": {
    "collapsed": false,
    "pycharm": {
     "name": "#%%\n"
    }
   }
  },
  {
   "cell_type": "code",
   "execution_count": 55,
   "outputs": [
    {
     "data": {
      "text/plain": "          SPA_Datetime  Declination  Elevation  ZenithAngle  Azimuth  ...  \\\n0  2019-04-16 00:00:00        9.940    -27.324      117.324  178.624  ...   \n3  2019-04-16 00:03:00        9.940    -27.331      117.331  179.455  ...   \n6  2019-04-16 00:06:00        9.941    -27.332      117.332 -179.713  ...   \n9  2019-04-16 00:09:00        9.942    -27.325      117.325 -178.882  ...   \n12 2019-04-16 00:12:00        9.943    -27.312      117.312 -178.051  ...   \n15 2019-04-16 00:15:00        9.943    -27.293      117.293 -177.220  ...   \n18 2019-04-16 00:18:00        9.944    -27.267      117.267 -176.389  ...   \n21 2019-04-16 00:21:00        9.945    -27.234      117.234 -175.559  ...   \n\n    apparentzenith      zenith     azimuth apparentelevation  elevation  \n0       117.289659  117.289659  358.623840        -27.289659 -27.289659  \n3       117.296526  117.296526  359.455209        -27.296526 -27.296526  \n6       117.296807  117.296807    0.286640        -27.296807 -27.296807  \n9       117.290501  117.290501    1.118016        -27.290501 -27.290501  \n12      117.277611  117.277611    1.949221        -27.277611 -27.277611  \n15      117.258142  117.258142    2.780142        -27.258142 -27.258142  \n18      117.232098  117.232098    3.610663        -27.232098 -27.232098  \n21      117.199491  117.199491    4.440670        -27.199491 -27.199491  \n\n[8 rows x 15 columns]",
      "text/html": "<div>\n<style scoped>\n    .dataframe tbody tr th:only-of-type {\n        vertical-align: middle;\n    }\n\n    .dataframe tbody tr th {\n        vertical-align: top;\n    }\n\n    .dataframe thead th {\n        text-align: right;\n    }\n</style>\n<table border=\"1\" class=\"dataframe\">\n  <thead>\n    <tr style=\"text-align: right;\">\n      <th></th>\n      <th>SPA_Datetime</th>\n      <th>Declination</th>\n      <th>Elevation</th>\n      <th>ZenithAngle</th>\n      <th>Azimuth</th>\n      <th>...</th>\n      <th>apparentzenith</th>\n      <th>zenith</th>\n      <th>azimuth</th>\n      <th>apparentelevation</th>\n      <th>elevation</th>\n    </tr>\n  </thead>\n  <tbody>\n    <tr>\n      <th>0</th>\n      <td>2019-04-16 00:00:00</td>\n      <td>9.940</td>\n      <td>-27.324</td>\n      <td>117.324</td>\n      <td>178.624</td>\n      <td>...</td>\n      <td>117.289659</td>\n      <td>117.289659</td>\n      <td>358.623840</td>\n      <td>-27.289659</td>\n      <td>-27.289659</td>\n    </tr>\n    <tr>\n      <th>3</th>\n      <td>2019-04-16 00:03:00</td>\n      <td>9.940</td>\n      <td>-27.331</td>\n      <td>117.331</td>\n      <td>179.455</td>\n      <td>...</td>\n      <td>117.296526</td>\n      <td>117.296526</td>\n      <td>359.455209</td>\n      <td>-27.296526</td>\n      <td>-27.296526</td>\n    </tr>\n    <tr>\n      <th>6</th>\n      <td>2019-04-16 00:06:00</td>\n      <td>9.941</td>\n      <td>-27.332</td>\n      <td>117.332</td>\n      <td>-179.713</td>\n      <td>...</td>\n      <td>117.296807</td>\n      <td>117.296807</td>\n      <td>0.286640</td>\n      <td>-27.296807</td>\n      <td>-27.296807</td>\n    </tr>\n    <tr>\n      <th>9</th>\n      <td>2019-04-16 00:09:00</td>\n      <td>9.942</td>\n      <td>-27.325</td>\n      <td>117.325</td>\n      <td>-178.882</td>\n      <td>...</td>\n      <td>117.290501</td>\n      <td>117.290501</td>\n      <td>1.118016</td>\n      <td>-27.290501</td>\n      <td>-27.290501</td>\n    </tr>\n    <tr>\n      <th>12</th>\n      <td>2019-04-16 00:12:00</td>\n      <td>9.943</td>\n      <td>-27.312</td>\n      <td>117.312</td>\n      <td>-178.051</td>\n      <td>...</td>\n      <td>117.277611</td>\n      <td>117.277611</td>\n      <td>1.949221</td>\n      <td>-27.277611</td>\n      <td>-27.277611</td>\n    </tr>\n    <tr>\n      <th>15</th>\n      <td>2019-04-16 00:15:00</td>\n      <td>9.943</td>\n      <td>-27.293</td>\n      <td>117.293</td>\n      <td>-177.220</td>\n      <td>...</td>\n      <td>117.258142</td>\n      <td>117.258142</td>\n      <td>2.780142</td>\n      <td>-27.258142</td>\n      <td>-27.258142</td>\n    </tr>\n    <tr>\n      <th>18</th>\n      <td>2019-04-16 00:18:00</td>\n      <td>9.944</td>\n      <td>-27.267</td>\n      <td>117.267</td>\n      <td>-176.389</td>\n      <td>...</td>\n      <td>117.232098</td>\n      <td>117.232098</td>\n      <td>3.610663</td>\n      <td>-27.232098</td>\n      <td>-27.232098</td>\n    </tr>\n    <tr>\n      <th>21</th>\n      <td>2019-04-16 00:21:00</td>\n      <td>9.945</td>\n      <td>-27.234</td>\n      <td>117.234</td>\n      <td>-175.559</td>\n      <td>...</td>\n      <td>117.199491</td>\n      <td>117.199491</td>\n      <td>4.440670</td>\n      <td>-27.199491</td>\n      <td>-27.199491</td>\n    </tr>\n  </tbody>\n</table>\n<p>8 rows × 15 columns</p>\n</div>"
     },
     "execution_count": 55,
     "metadata": {},
     "output_type": "execute_result"
    }
   ],
   "source": [
    "comparison = merge(crest_spa, spa_outputs, left_on=\"SPA_Datetime\", right_on=\"SPA_Datetime\", suffixes=(\"_crest\", \"_nrel\"))\n",
    "comparison.iloc[[0,3,6,9,12,15,18,21],:]"
   ],
   "metadata": {
    "collapsed": false,
    "pycharm": {
     "name": "#%%\n"
    }
   }
  },
  {
   "cell_type": "markdown",
   "source": [
    "## Example of clear sky days"
   ],
   "metadata": {
    "collapsed": false,
    "pycharm": {
     "name": "#%% md\n"
    }
   }
  },
  {
   "cell_type": "markdown",
   "source": [
    "## Clear sky days\n",
    "Examples of clear sky day are previously identified to be used as comparison later: 14/2/19, 21/4/19, 29/6/19, 29/6/19\n",
    "and 29/11/19."
   ],
   "metadata": {
    "collapsed": false
   }
  },
  {
   "cell_type": "code",
   "execution_count": 56,
   "metadata": {
    "collapsed": true
   },
   "outputs": [],
   "source": [
    "#importing additional libraries for clear sky identification\n",
    "from database_operations import DatabaseEngine\n",
    "from data_operations import csv_read_datetime_format, get_min_max_by_date\n",
    "from clear_sky import SolarLibrary\n",
    "import matplotlib.pyplot as plt"
   ]
  },
  {
   "cell_type": "markdown",
   "source": [
    "## Comparison of hourly spot PoA irradiance measurements against clear sky path\n",
    "No disconnection issues are found. For each date 24 hourly spot measurements are available and no null values are found.\n",
    "Daily measurements start at 0:00 and end at 23:00.\n",
    "Maximum second derivative (corresponding to first and last ray of sun on the sensor) are distributed during the day,\n",
    "thus a comparison with theoretical sun path is required to assess them.\n",
    "\n",
    "### Calculating first and last ray on the sensor"
   ],
   "metadata": {
    "collapsed": false,
    "pycharm": {
     "name": "#%% md\n"
    }
   }
  },
  {
   "cell_type": "code",
   "source": [
    "ISC_IRRADIANCE_FILES_FOLDER = join(dirname(getcwd())+r\"/assets/isc_irradiance_files/\")\n",
    "gpoa, errors = csv_read_datetime_format(filepath_or_buffer=join(ISC_IRRADIANCE_FILES_FOLDER,'chpoa_y19.csv'),\n",
    "                                     datetime_column=\"date_trunc\")"
   ],
   "metadata": {
    "collapsed": false,
    "pycharm": {
     "name": "#%%\n"
    }
   },
   "execution_count": 103,
   "outputs": []
  },
  {
   "cell_type": "code",
   "execution_count": null,
   "outputs": [],
   "source": [
    "filenames = [f for f in listdir(ISC_IRRADIANCE_FILES_FOLDER) if f.endswith(r\".csv\") and f.startswith(r\"chpoa_y\")]\n",
    "gpoa = DataFrame()\n",
    "\n",
    "for f in filenames:\n",
    "    gpoa_y, errors = csv_read_datetime_format(filepath=join(ISC_IRRADIANCE_FILES_FOLDER, f),\n",
    "                                     datetime_column=\"date_trunc\")\n",
    "    gpoa = gpoa.append(gpoa_y, ignore_index=True)"
   ],
   "metadata": {
    "collapsed": false,
    "pycharm": {
     "name": "#%%\n"
    }
   }
  },
  {
   "cell_type": "code",
   "execution_count": 115,
   "outputs": [],
   "source": [
    "gpoa.sort_values(by='tmstamp', inplace=True)"
   ],
   "metadata": {
    "collapsed": false,
    "pycharm": {
     "name": "#%%\n"
    }
   }
  },
  {
   "cell_type": "code",
   "execution_count": 116,
   "outputs": [
    {
     "data": {
      "text/plain": "               len    null     hour_min  hour_value_2d_max_morning  \\\ncount  1459.000000  1459.0  1459.000000                1459.000000   \nmean     23.973269     0.0     0.006854                   9.866347   \nstd       0.444412     0.0     0.261802                   1.873382   \nmin      13.000000     0.0     0.000000                   2.000000   \n5%       24.000000     0.0     0.000000                   6.000000   \n25%      24.000000     0.0     0.000000                   9.000000   \n50%      24.000000     0.0     0.000000                  10.000000   \n75%      24.000000     0.0     0.000000                  11.000000   \n95%      24.000000     0.0     0.000000                  12.000000   \nmax      24.000000     0.0    10.000000                  12.000000   \n\n       value_2d_max_morning  hour_value_max    value_max  \\\ncount           1459.000000     1459.000000  1459.000000   \nmean             385.833160       11.965045   658.603500   \nstd              353.404237        1.493290   359.145807   \nmin             -171.704000        7.000000    11.477000   \n5%                28.135700        9.900000    80.000300   \n25%              124.773500       11.000000   325.682000   \n50%              270.454000       12.000000   687.614000   \n75%              557.897000       13.000000   983.523000   \n95%             1105.875500       15.000000  1162.500000   \nmax             2099.999000       17.000000  1500.000000   \n\n       hour_value_2d_max_afternoon  value_2d_max_afternoon     hour_max  \ncount                  1458.000000             1458.000000  1459.000000  \nmean                     14.043210              404.604124    22.991775  \nstd                       1.748865              369.525249     0.289151  \nmin                      12.000000                3.864000    12.000000  \n5%                       12.000000               28.943100    23.000000  \n25%                      13.000000              127.641750    23.000000  \n50%                      14.000000              293.295000    23.000000  \n75%                      15.000000              578.579000    23.000000  \n95%                      18.000000             1195.312100    23.000000  \nmax                      19.000000             2099.999000    23.000000  ",
      "text/html": "<div>\n<style scoped>\n    .dataframe tbody tr th:only-of-type {\n        vertical-align: middle;\n    }\n\n    .dataframe tbody tr th {\n        vertical-align: top;\n    }\n\n    .dataframe thead th {\n        text-align: right;\n    }\n</style>\n<table border=\"1\" class=\"dataframe\">\n  <thead>\n    <tr style=\"text-align: right;\">\n      <th></th>\n      <th>len</th>\n      <th>null</th>\n      <th>hour_min</th>\n      <th>hour_value_2d_max_morning</th>\n      <th>value_2d_max_morning</th>\n      <th>hour_value_max</th>\n      <th>value_max</th>\n      <th>hour_value_2d_max_afternoon</th>\n      <th>value_2d_max_afternoon</th>\n      <th>hour_max</th>\n    </tr>\n  </thead>\n  <tbody>\n    <tr>\n      <th>count</th>\n      <td>1459.000000</td>\n      <td>1459.0</td>\n      <td>1459.000000</td>\n      <td>1459.000000</td>\n      <td>1459.000000</td>\n      <td>1459.000000</td>\n      <td>1459.000000</td>\n      <td>1458.000000</td>\n      <td>1458.000000</td>\n      <td>1459.000000</td>\n    </tr>\n    <tr>\n      <th>mean</th>\n      <td>23.973269</td>\n      <td>0.0</td>\n      <td>0.006854</td>\n      <td>9.866347</td>\n      <td>385.833160</td>\n      <td>11.965045</td>\n      <td>658.603500</td>\n      <td>14.043210</td>\n      <td>404.604124</td>\n      <td>22.991775</td>\n    </tr>\n    <tr>\n      <th>std</th>\n      <td>0.444412</td>\n      <td>0.0</td>\n      <td>0.261802</td>\n      <td>1.873382</td>\n      <td>353.404237</td>\n      <td>1.493290</td>\n      <td>359.145807</td>\n      <td>1.748865</td>\n      <td>369.525249</td>\n      <td>0.289151</td>\n    </tr>\n    <tr>\n      <th>min</th>\n      <td>13.000000</td>\n      <td>0.0</td>\n      <td>0.000000</td>\n      <td>2.000000</td>\n      <td>-171.704000</td>\n      <td>7.000000</td>\n      <td>11.477000</td>\n      <td>12.000000</td>\n      <td>3.864000</td>\n      <td>12.000000</td>\n    </tr>\n    <tr>\n      <th>5%</th>\n      <td>24.000000</td>\n      <td>0.0</td>\n      <td>0.000000</td>\n      <td>6.000000</td>\n      <td>28.135700</td>\n      <td>9.900000</td>\n      <td>80.000300</td>\n      <td>12.000000</td>\n      <td>28.943100</td>\n      <td>23.000000</td>\n    </tr>\n    <tr>\n      <th>25%</th>\n      <td>24.000000</td>\n      <td>0.0</td>\n      <td>0.000000</td>\n      <td>9.000000</td>\n      <td>124.773500</td>\n      <td>11.000000</td>\n      <td>325.682000</td>\n      <td>13.000000</td>\n      <td>127.641750</td>\n      <td>23.000000</td>\n    </tr>\n    <tr>\n      <th>50%</th>\n      <td>24.000000</td>\n      <td>0.0</td>\n      <td>0.000000</td>\n      <td>10.000000</td>\n      <td>270.454000</td>\n      <td>12.000000</td>\n      <td>687.614000</td>\n      <td>14.000000</td>\n      <td>293.295000</td>\n      <td>23.000000</td>\n    </tr>\n    <tr>\n      <th>75%</th>\n      <td>24.000000</td>\n      <td>0.0</td>\n      <td>0.000000</td>\n      <td>11.000000</td>\n      <td>557.897000</td>\n      <td>13.000000</td>\n      <td>983.523000</td>\n      <td>15.000000</td>\n      <td>578.579000</td>\n      <td>23.000000</td>\n    </tr>\n    <tr>\n      <th>95%</th>\n      <td>24.000000</td>\n      <td>0.0</td>\n      <td>0.000000</td>\n      <td>12.000000</td>\n      <td>1105.875500</td>\n      <td>15.000000</td>\n      <td>1162.500000</td>\n      <td>18.000000</td>\n      <td>1195.312100</td>\n      <td>23.000000</td>\n    </tr>\n    <tr>\n      <th>max</th>\n      <td>24.000000</td>\n      <td>0.0</td>\n      <td>10.000000</td>\n      <td>12.000000</td>\n      <td>2099.999000</td>\n      <td>17.000000</td>\n      <td>1500.000000</td>\n      <td>19.000000</td>\n      <td>2099.999000</td>\n      <td>23.000000</td>\n    </tr>\n  </tbody>\n</table>\n</div>"
     },
     "execution_count": 116,
     "metadata": {},
     "output_type": "execute_result"
    }
   ],
   "source": [
    "gpoa_dly = get_min_max_by_date(values= Series(gpoa.g_cmp11_ppuk.values, index = gpoa.date_trunc.values))\n",
    "#overview of first and last sun ray on the sensor\n",
    "gpoa_dly.describe(percentiles=[0.05, 0.25, 0.5, 0.75, 0.95])"
   ],
   "metadata": {
    "collapsed": false,
    "pycharm": {
     "name": "#%%\n"
    }
   }
  },
  {
   "cell_type": "code",
   "execution_count": 117,
   "outputs": [
    {
     "data": {
      "text/plain": "Index(['date', 'len', 'null', 'hour_min', 'hour_first_ray',\n       'value_2d_max_morning', 'hour_value_max', 'value_max', 'hour_last_ray',\n       'value_2d_max_afternoon', 'hour_max'],\n      dtype='object')"
     },
     "execution_count": 117,
     "metadata": {},
     "output_type": "execute_result"
    }
   ],
   "source": [
    "gpoa_dly.rename(columns={'hour_value_2d_max_morning':'hour_first_ray', 'hour_value_2d_max_afternoon': 'hour_last_ray'},\n",
    "                inplace=True)\n",
    "#checking columns renamed\n",
    "gpoa_dly.columns"
   ],
   "metadata": {
    "collapsed": false,
    "pycharm": {
     "name": "#%%\n"
    }
   }
  },
  {
   "cell_type": "markdown",
   "source": [
    "## Comparison of first and last ray against clear sky path"
   ],
   "metadata": {
    "collapsed": false
   }
  },
  {
   "cell_type": "code",
   "execution_count": 2,
   "outputs": [
    {
     "ename": "NameError",
     "evalue": "name 'sl' is not defined",
     "output_type": "error",
     "traceback": [
      "\u001B[1;31m---------------------------------------------------------------------------\u001B[0m",
      "\u001B[1;31mNameError\u001B[0m                                 Traceback (most recent call last)",
      "\u001B[1;32m<ipython-input-2-82794d322559>\u001B[0m in \u001B[0;36m<module>\u001B[1;34m\u001B[0m\n\u001B[1;32m----> 1\u001B[1;33m \u001B[0msl\u001B[0m\u001B[1;33m\u001B[0m\u001B[1;33m\u001B[0m\u001B[0m\n\u001B[0m",
      "\u001B[1;31mNameError\u001B[0m: name 'sl' is not defined"
     ]
    }
   ],
   "source": [
    "cs_dly = sl.getsuninout(utc= gpoa.date_trunc, freq= \"H\")"
   ],
   "metadata": {
    "collapsed": false,
    "pycharm": {
     "name": "#%%\n"
    }
   }
  },
  {
   "cell_type": "code",
   "execution_count": 119,
   "outputs": [],
   "source": [
    "# extracting hour\n",
    "cs_dly.loc[:, 'hour_sun_on'] = cs_dly.loc[:, 'sun_on'].apply(lambda x: x.hour)\n",
    "cs_dly.loc[:, 'hour_sun_off'] = cs_dly.loc[:, 'sun_off'].apply(lambda x: x.hour)"
   ],
   "metadata": {
    "collapsed": false,
    "pycharm": {
     "name": "#%%\n"
    }
   }
  },
  {
   "cell_type": "code",
   "execution_count": 120,
   "outputs": [],
   "source": [
    "# extractin first and last ray as well as max from gpoa dataframe\n",
    "gpoa_cs_dly = gpoa_dly.copy(deep=True).loc[:,['hour_first_ray', 'hour_value_max', 'hour_last_ray']]"
   ],
   "metadata": {
    "collapsed": false,
    "pycharm": {
     "name": "#%%\n"
    }
   }
  },
  {
   "cell_type": "code",
   "execution_count": 121,
   "outputs": [],
   "source": [
    "# merge the two df for comparison\n",
    "gpoa_cs_dly = gpoa_cs_dly.merge(cs_dly.loc[:, ['hour_sun_on','hour_sun_off']], how='inner', left_index=True, right_index=True)"
   ],
   "metadata": {
    "collapsed": false,
    "pycharm": {
     "name": "#%%\n"
    }
   }
  },
  {
   "cell_type": "code",
   "execution_count": 122,
   "outputs": [],
   "source": [
    "# calculating delay of parameters from theoretical sun path\n",
    "gpoa_cs_dly[\"delay_first_ray\"] = gpoa_cs_dly[\"hour_first_ray\"] - gpoa_cs_dly[\"hour_sun_on\"]\n",
    "gpoa_cs_dly[\"delay_max_ray\"] = gpoa_cs_dly[\"hour_value_max\"] - 12\n",
    "gpoa_cs_dly[\"delay_last_ray\"] = gpoa_cs_dly[\"hour_last_ray\"] - gpoa_cs_dly[\"hour_sun_off\"]"
   ],
   "metadata": {
    "collapsed": false,
    "pycharm": {
     "name": "#%%\n"
    }
   }
  },
  {
   "cell_type": "code",
   "execution_count": 123,
   "outputs": [
    {
     "data": {
      "text/plain": "       hour_first_ray  hour_value_max  hour_last_ray  hour_sun_on  \\\ncount     1459.000000     1459.000000    1458.000000  1459.000000   \nmean         9.866347       11.965045      14.043210     6.495545   \nstd          1.873382        1.493290       1.748865     0.500152   \nmin          2.000000        7.000000      12.000000     6.000000   \n25%          9.000000       11.000000      13.000000     6.000000   \n50%         10.000000       12.000000      14.000000     6.000000   \n75%         11.000000       13.000000      15.000000     7.000000   \nmax         12.000000       17.000000      19.000000     7.000000   \n\n       hour_sun_off  delay_first_ray  delay_max_ray  delay_last_ray  \ncount   1459.000000      1459.000000    1459.000000     1458.000000  \nmean      17.603838         3.370802      -0.034955       -3.561043  \nstd        0.489266         1.909186       1.493290        1.755288  \nmin       17.000000        -5.000000      -5.000000       -6.000000  \n25%       17.000000         2.000000      -1.000000       -5.000000  \n50%       18.000000         4.000000       0.000000       -4.000000  \n75%       18.000000         5.000000       1.000000       -2.000000  \nmax       18.000000         6.000000       5.000000        1.000000  ",
      "text/html": "<div>\n<style scoped>\n    .dataframe tbody tr th:only-of-type {\n        vertical-align: middle;\n    }\n\n    .dataframe tbody tr th {\n        vertical-align: top;\n    }\n\n    .dataframe thead th {\n        text-align: right;\n    }\n</style>\n<table border=\"1\" class=\"dataframe\">\n  <thead>\n    <tr style=\"text-align: right;\">\n      <th></th>\n      <th>hour_first_ray</th>\n      <th>hour_value_max</th>\n      <th>hour_last_ray</th>\n      <th>hour_sun_on</th>\n      <th>hour_sun_off</th>\n      <th>delay_first_ray</th>\n      <th>delay_max_ray</th>\n      <th>delay_last_ray</th>\n    </tr>\n  </thead>\n  <tbody>\n    <tr>\n      <th>count</th>\n      <td>1459.000000</td>\n      <td>1459.000000</td>\n      <td>1458.000000</td>\n      <td>1459.000000</td>\n      <td>1459.000000</td>\n      <td>1459.000000</td>\n      <td>1459.000000</td>\n      <td>1458.000000</td>\n    </tr>\n    <tr>\n      <th>mean</th>\n      <td>9.866347</td>\n      <td>11.965045</td>\n      <td>14.043210</td>\n      <td>6.495545</td>\n      <td>17.603838</td>\n      <td>3.370802</td>\n      <td>-0.034955</td>\n      <td>-3.561043</td>\n    </tr>\n    <tr>\n      <th>std</th>\n      <td>1.873382</td>\n      <td>1.493290</td>\n      <td>1.748865</td>\n      <td>0.500152</td>\n      <td>0.489266</td>\n      <td>1.909186</td>\n      <td>1.493290</td>\n      <td>1.755288</td>\n    </tr>\n    <tr>\n      <th>min</th>\n      <td>2.000000</td>\n      <td>7.000000</td>\n      <td>12.000000</td>\n      <td>6.000000</td>\n      <td>17.000000</td>\n      <td>-5.000000</td>\n      <td>-5.000000</td>\n      <td>-6.000000</td>\n    </tr>\n    <tr>\n      <th>25%</th>\n      <td>9.000000</td>\n      <td>11.000000</td>\n      <td>13.000000</td>\n      <td>6.000000</td>\n      <td>17.000000</td>\n      <td>2.000000</td>\n      <td>-1.000000</td>\n      <td>-5.000000</td>\n    </tr>\n    <tr>\n      <th>50%</th>\n      <td>10.000000</td>\n      <td>12.000000</td>\n      <td>14.000000</td>\n      <td>6.000000</td>\n      <td>18.000000</td>\n      <td>4.000000</td>\n      <td>0.000000</td>\n      <td>-4.000000</td>\n    </tr>\n    <tr>\n      <th>75%</th>\n      <td>11.000000</td>\n      <td>13.000000</td>\n      <td>15.000000</td>\n      <td>7.000000</td>\n      <td>18.000000</td>\n      <td>5.000000</td>\n      <td>1.000000</td>\n      <td>-2.000000</td>\n    </tr>\n    <tr>\n      <th>max</th>\n      <td>12.000000</td>\n      <td>17.000000</td>\n      <td>19.000000</td>\n      <td>7.000000</td>\n      <td>18.000000</td>\n      <td>6.000000</td>\n      <td>5.000000</td>\n      <td>1.000000</td>\n    </tr>\n  </tbody>\n</table>\n</div>"
     },
     "execution_count": 123,
     "metadata": {},
     "output_type": "execute_result"
    }
   ],
   "source": [
    "gpoa_cs_dly.describe()"
   ],
   "metadata": {
    "collapsed": false,
    "pycharm": {
     "name": "#%%\n"
    }
   }
  },
  {
   "cell_type": "code",
   "execution_count": 165,
   "outputs": [
    {
     "name": "stdout",
     "output_type": "stream",
     "text": [
      "[datetime.date(2017, 3, 15), datetime.date(2017, 4, 8), datetime.date(2017, 5, 10), datetime.date(2017, 8, 28), datetime.date(2018, 4, 19), datetime.date(2018, 5, 6), datetime.date(2018, 5, 7), datetime.date(2018, 6, 30), datetime.date(2018, 8, 9), datetime.date(2018, 9, 29), datetime.date(2018, 10, 9), datetime.date(2018, 10, 22), datetime.date(2019, 4, 19), datetime.date(2019, 4, 21), datetime.date(2019, 8, 26), datetime.date(2019, 9, 13), datetime.date(2019, 9, 21), datetime.date(2020, 3, 24), datetime.date(2020, 4, 11), datetime.date(2020, 4, 14), datetime.date(2020, 4, 20), datetime.date(2020, 4, 21), datetime.date(2020, 5, 28), datetime.date(2020, 9, 14), datetime.date(2020, 9, 21)]\n"
     ]
    }
   ],
   "source": [
    "#identifying dates of clear sky candidates\n",
    "cs_candidate_days = gpoa_cs_dly.loc[(gpoa_cs_dly.delay_first_ray==0) & (gpoa_cs_dly.delay_last_ray==0) & (gpoa_cs_dly.delay_max_ray==0),:].index.to_list()\n",
    "print(cs_candidate_days)"
   ],
   "metadata": {
    "collapsed": false,
    "pycharm": {
     "name": "#%%\n"
    }
   }
  },
  {
   "cell_type": "code",
   "execution_count": 156,
   "outputs": [],
   "source": [
    "#manually indentified cs days tb\n",
    "cs_manual_days = [datetime(2019,2,14), datetime(2019,4,19), datetime(2019,6,29), datetime(2019,11,29)]"
   ],
   "metadata": {
    "collapsed": false,
    "pycharm": {
     "name": "#%%\n"
    }
   }
  },
  {
   "cell_type": "code",
   "execution_count": 133,
   "outputs": [],
   "source": [
    "gpoa[\"date\"] = DatetimeIndex(gpoa.date_trunc).date"
   ],
   "metadata": {
    "collapsed": false,
    "pycharm": {
     "name": "#%%\n"
    }
   }
  },
  {
   "cell_type": "code",
   "execution_count": 137,
   "outputs": [],
   "source": [
    "gpoa_cds = gpoa.loc[gpoa.date.isin(cs_candidate_days),['tmstamp','date_trunc','g_cmp11_ppuk','date']]\n",
    "#specifying index\n",
    "gpoa_cds.index = DatetimeIndex(gpoa_cds.tmstamp)"
   ],
   "metadata": {
    "collapsed": false,
    "pycharm": {
     "name": "#%%\n"
    }
   }
  },
  {
   "cell_type": "code",
   "execution_count": 138,
   "outputs": [
    {
     "name": "stdout",
     "output_type": "stream",
     "text": [
      "liujordan perez\n",
      "liujordan klucher1979\n",
      "ineichenperez klucher1979\n",
      "ineichenperez perez\n"
     ]
    }
   ],
   "source": [
    "sl.clear_sky_model = 'liujordan'\n",
    "# klucher1979\n",
    "print(sl.clear_sky_model, sl.poa_model)\n",
    "df_solar = sl.getsolardataframe(DatetimeIndex(gpoa_cds.tmstamp), outputs=[\"irradiancetotalpoa\"])\n",
    "gpoa_cds.loc[:, 'liujordan_perez'] = df_solar.loc[:, \"irradiancetotalpoa\"]\n",
    "sl.poa_model = 'klucher1979'\n",
    "print(sl.clear_sky_model, sl.poa_model)\n",
    "df_solar = sl.getsolardataframe(DatetimeIndex(gpoa_cds.tmstamp), outputs=[\"irradiancetotalpoa\"], solardataframe=df_solar)\n",
    "gpoa_cds.loc[:, 'liujordan_klucher'] = df_solar.loc[:, \"irradiancetotalpoa\"]\n",
    "sl.clear_sky_model = 'ineichenperez'\n",
    "print(sl.clear_sky_model, sl.poa_model)\n",
    "df_solar = sl.getsolardataframe(DatetimeIndex(gpoa_cds.tmstamp), outputs=[\"irradiancetotalpoa\"], solardataframe=df_solar)\n",
    "gpoa_cds.loc[:, 'ineichenperez_klucher'] = df_solar.loc[:, \"irradiancetotalpoa\"]\n",
    "sl.poa_model = 'perez'\n",
    "print(sl.clear_sky_model, sl.poa_model)\n",
    "df_solar = sl.getsolardataframe(DatetimeIndex(gpoa_cds.tmstamp), outputs=[\"irradiancetotalpoa\"], solardataframe=df_solar)\n",
    "gpoa_cds.loc[:, 'ineichenperez_perez'] = df_solar.loc[:, \"irradiancetotalpoa\"]"
   ],
   "metadata": {
    "collapsed": false,
    "pycharm": {
     "name": "#%%\n"
    }
   }
  },
  {
   "cell_type": "code",
   "execution_count": 145,
   "outputs": [
    {
     "data": {
      "text/plain": "<Figure size 1080x1080 with 25 Axes>",
      "image/png": "[encoded data removed]"
     },
     "metadata": {
      "needs_background": "light"
     },
     "output_type": "display_data"
    }
   ],
   "source": [
    "#legend and titles to be adjusted\n",
    "\n",
    "\n",
    "#comparing measured values against different clear sky models\n",
    "size = int(round(len(cs_candidate_days)**0.5, 0))+1\n",
    "#gpoa[\"date\"] = [dt.date() for dt in gpoa.date_trunc]\n",
    "fig = plt.figure(figsize=(15,15))\n",
    "i=1\n",
    "for cd in cs_candidate_days:\n",
    "    plt.subplot(size, size, i)\n",
    "    gpoa_cd = gpoa_cds.loc[gpoa_cds.date==cd]\n",
    "    plt.title(str(cd))\n",
    "    plt.plot(DatetimeIndex(gpoa_cd.tmstamp).hour, gpoa_cd.g_cmp11_ppuk)\n",
    "    cs_models = ['liujordan_perez', 'liujordan_klucher', 'ineichenperez_klucher', 'ineichenperez_perez']\n",
    "    for cs_m in cs_models:\n",
    "        plt.plot(DatetimeIndex(gpoa_cd.tmstamp).hour,gpoa_cd[cs_m])\n",
    "    #plt.plot(DatetimeIndex(gpoa_cd.tmstamp).hour,\n",
    "    #sl.getsolardataframe(gpoa_cd.tmstamp, outputs=[\"irradiancetotalpoa\"])[\"irradiancetotalpoa\"])\n",
    "    legends = [\"measured\"] + cs_models\n",
    "    i+=1\n",
    "plt.legend(legends, loc=\"center\") #best overlapping\n",
    "plt.show()"
   ],
   "metadata": {
    "collapsed": false,
    "pycharm": {
     "name": "#%%\n"
    }
   }
  },
  {
   "cell_type": "code",
   "execution_count": 100,
   "outputs": [
    {
     "data": {
      "text/plain": "                       liujordan_perez  liujordan_klucher  \\\nliujordan_perez               1.000000           0.999801   \nliujordan_klucher             0.999801           1.000000   \nineichenperez_klucher         0.994910           0.995890   \nineichenperez_perez           0.994256           0.995220   \ng_cmp11_ppuk                  0.980920           0.981837   \n\n                       ineichenperez_klucher  ineichenperez_perez  \\\nliujordan_perez                     0.994910             0.994256   \nliujordan_klucher                   0.995890             0.995220   \nineichenperez_klucher               1.000000             0.999967   \nineichenperez_perez                 0.999967             1.000000   \ng_cmp11_ppuk                        0.994261             0.994412   \n\n                       g_cmp11_ppuk  \nliujordan_perez            0.980920  \nliujordan_klucher          0.981837  \nineichenperez_klucher      0.994261  \nineichenperez_perez        0.994412  \ng_cmp11_ppuk               1.000000  ",
      "text/html": "<div>\n<style scoped>\n    .dataframe tbody tr th:only-of-type {\n        vertical-align: middle;\n    }\n\n    .dataframe tbody tr th {\n        vertical-align: top;\n    }\n\n    .dataframe thead th {\n        text-align: right;\n    }\n</style>\n<table border=\"1\" class=\"dataframe\">\n  <thead>\n    <tr style=\"text-align: right;\">\n      <th></th>\n      <th>liujordan_perez</th>\n      <th>liujordan_klucher</th>\n      <th>ineichenperez_klucher</th>\n      <th>ineichenperez_perez</th>\n      <th>g_cmp11_ppuk</th>\n    </tr>\n  </thead>\n  <tbody>\n    <tr>\n      <th>liujordan_perez</th>\n      <td>1.000000</td>\n      <td>0.999801</td>\n      <td>0.994910</td>\n      <td>0.994256</td>\n      <td>0.980920</td>\n    </tr>\n    <tr>\n      <th>liujordan_klucher</th>\n      <td>0.999801</td>\n      <td>1.000000</td>\n      <td>0.995890</td>\n      <td>0.995220</td>\n      <td>0.981837</td>\n    </tr>\n    <tr>\n      <th>ineichenperez_klucher</th>\n      <td>0.994910</td>\n      <td>0.995890</td>\n      <td>1.000000</td>\n      <td>0.999967</td>\n      <td>0.994261</td>\n    </tr>\n    <tr>\n      <th>ineichenperez_perez</th>\n      <td>0.994256</td>\n      <td>0.995220</td>\n      <td>0.999967</td>\n      <td>1.000000</td>\n      <td>0.994412</td>\n    </tr>\n    <tr>\n      <th>g_cmp11_ppuk</th>\n      <td>0.980920</td>\n      <td>0.981837</td>\n      <td>0.994261</td>\n      <td>0.994412</td>\n      <td>1.000000</td>\n    </tr>\n  </tbody>\n</table>\n</div>"
     },
     "execution_count": 100,
     "metadata": {},
     "output_type": "execute_result"
    }
   ],
   "source": [
    "#highest correlation confirmed by correlatio analysis\n",
    "columns_correlation = cs_models + [\"g_cmp11_ppuk\"]\n",
    "gpoa_cds.loc[:, columns_correlation].corr(method='pearson')"
   ],
   "metadata": {
    "collapsed": false,
    "pycharm": {
     "name": "#%%\n"
    }
   }
  },
  {
   "cell_type": "markdown",
   "source": [
    "TMP"
   ],
   "metadata": {
    "collapsed": false,
    "pycharm": {
     "name": "#%% md\n"
    }
   }
  },
  {
   "cell_type": "code",
   "execution_count": null,
   "outputs": [],
   "source": [
    "cs_candidates = DataFrame(columns=['days','source'])\n",
    "cs_candidates.days = cs_candidate_days\n",
    "cs_candidates.source = 'fm'\n",
    "for d in cs_manual_days:\n",
    "    cs_candidates = cs_candidates.append({'days':str(d), 'source': 'tb'}, ignore_index=True)\n",
    "cs_candidates\n"
   ],
   "metadata": {
    "collapsed": false,
    "pycharm": {
     "name": "#%%\n"
    }
   }
  }
 ],
 "metadata": {
  "kernelspec": {
   "display_name": "Python 3",
   "language": "python",
   "name": "python3"
  },
  "language_info": {
   "codemirror_mode": {
    "name": "ipython",
    "version": 2
   },
   "file_extension": ".py",
   "mimetype": "text/x-python",
   "name": "python",
   "nbconvert_exporter": "python",
   "pygments_lexer": "ipython2",
   "version": "2.7.6"
  }
 },
 "nbformat": 4,
 "nbformat_minor": 0
}