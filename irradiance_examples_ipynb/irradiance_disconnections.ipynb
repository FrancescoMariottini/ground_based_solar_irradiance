{
 "cells": [
  {
   "cell_type": "markdown",
   "metadata": {
    "collapsed": true,
    "pycharm": {
     "name": "#%% md\n"
    }
   },
   "source": [
    "# 1.1.\tPreliminary assessment of Plane of Array irradiance measurements against theoretical sun path\n",
    "NOTE: python 3.7 installed locally, remote version ?\n",
    "**BEWARE** all precise locations to be masked even in folder path\n",
    "[Python releases status](https://www.python.org/downloads/)\n",
    "\n",
    "**Content**\n",
    "- [Trentino Alto Adige](#eurac)"
   ]
  },
  {
   "cell_type": "code",
   "execution_count": 1,
   "metadata": {
    "pycharm": {
     "name": "#%%\n"
    }
   },
   "outputs": [],
   "source": [
    "#retrieving stored variables\n",
    "%store -r\n",
    "#remove unwanted cache\n",
    "%store -d spam ax\n",
    "#automatically reload\n",
    "%load_ext autoreload\n",
    "# autoreload 0 if deactivated 2 if all modules but excluded -\n",
    "%autoreload 1"
   ]
  },
  {
   "cell_type": "code",
   "execution_count": 2,
   "metadata": {
    "pycharm": {
     "name": "#%%\n"
    }
   },
   "outputs": [],
   "source": [
    "#interrupt when needed\n",
    "%aimport data_operations, decorators, pvlib"
   ]
  },
  {
   "cell_type": "code",
   "execution_count": 3,
   "metadata": {
    "pycharm": {
     "name": "#%%\n"
    }
   },
   "outputs": [],
   "source": [
    "from textwrap import wrap\n",
    "import pandas as pd\n",
    "import numpy as np\n",
    "from pvlib import spa as spnrel\n",
    "from clear_sky import datetime_to_utc\n",
    "import datetime\n",
    "\n",
    "from typing import List, Dict\n",
    "\n",
    "from os import getcwd, listdir\n",
    "from os.path import join, dirname\n",
    "\n",
    "import data_operations as dtop\n",
    "\n",
    "import matplotlib.pyplot as plt\n",
    "\n",
    "#for commonly used decorators\n",
    "import decorators\n",
    "#for nb specific decorators\n",
    "import functools\n",
    "\n",
    "\n",
    "from clear_sky import SolarLibrary\n",
    "\n",
    "import matplotlib as mpl\n",
    "from mpl_toolkits.axes_grid1 import host_subplot\n",
    "\n",
    "from empiricaldist import Pmf, Cdf\n",
    "#https://nbviewer.jupyter.org/github/AllenDowney/empiricaldist/blob/master/empiricaldist/dist_demo.ipynb\n",
    "#https://campus.datacamp.com/courses/exploratory-data-analysis-in-python/distributions?ex=2"
   ]
  },
  {
   "cell_type": "code",
   "execution_count": 4,
   "metadata": {
    "pycharm": {
     "name": "#%%\n"
    }
   },
   "outputs": [],
   "source": [
    "#re-executing only final functions and visualisation outputs using cached variables\n",
    "execute= True #default: False"
   ]
  },
  {
   "cell_type": "code",
   "execution_count": 5,
   "metadata": {
    "pycharm": {
     "name": "#%%\n"
    }
   },
   "outputs": [],
   "source": [
    "WRAP_WIDTH = 80\n",
    "pd.set_option('display.max_columns', 10)\n",
    "mpl.style.use(['seaborn-paper', 'thesis'])\n",
    "\n",
    "#Module position is retrieved through [digimap](#https://digimap.edina.ac.uk/)\n",
    "LATITUDE = 52.7616\n",
    "#negative longitude based on solar convention\n",
    "LONGITUDE =  - (1.2406)\n",
    "ALTITUDE = 79\n",
    "PRESSURE = 101325.\n",
    "TEMPERATURE = 12\n",
    "DELTA_T = 67.0\n",
    "ATMOS_REFRACT = 0.5667\n",
    "TRANSMITTANCE = 0.5\n",
    "\n",
    "SURFACE_ZENITH = 34\n",
    "SURFACE_AZIMUTH = 180\n",
    "\n",
    "NUMTHREADS = 4\n",
    "\n",
    "ASSETS_FOLDER = join(dirname(getcwd()) + r\"/assets/\")\n",
    "\n",
    "delta_t = DELTA_T\n",
    "observer_longitude = LONGITUDE\n",
    "observer_longitude = LONGITUDE\n",
    "observer_latitude = LATITUDE\n",
    "observer_elevation = ALTITUDE\n",
    "local_pressure =PRESSURE\n",
    "local_temp = TEMPERATURE\n",
    "atmos_refract = ATMOS_REFRACT\n",
    "numthreads = NUMTHREADS\n",
    "\n",
    "title_template = f'Hourly disconnection analysis of %s from %s to %s'\n",
    "\n",
    "RM_FOLDER=  r\"C:/Users/wsfm/OneDrive - Loughborough University/_Personal_Backup/BAYWARE/doc_shared/_ST/Fiumicino/\"\n",
    "RM_PYR_C1=\"Pyranometer Cab 1_fm.csv\"\n",
    "RM_PYR_C4=\"Pyranometer Cab 4_fm.csv\""
   ]
  },
  {
   "cell_type": "code",
   "execution_count": 6,
   "metadata": {
    "pycharm": {
     "name": "#%%\n"
    }
   },
   "outputs": [],
   "source": [
    "#decorators\n",
    "describe_with_tukey_fence = decorators.add_tukey_fences(pd.DataFrame.describe)\n",
    "plt_savefig = decorators.change_savefig(plt.savefig)\n",
    "#removing white box appearing at the end\n",
    "plt.close()\n",
    "pd.read_csv = decorators.timer(pd.read_csv)\n",
    "#common functions used during the NB\n",
    "\n",
    "def add_hour(datetimes):\n",
    "    dt_to_hour = lambda x: x.hour + x.minute / 60 + x.second / 3600\n",
    "    if isinstance(datetimes, pd.DataFrame):\n",
    "        for c in datetimes.columns.to_list():\n",
    "            t = datetimes[c].dtype\n",
    "            if str(t) == 'datetime64[ns]':\n",
    "                datetimes[c + '_h'] = datetimes[c].apply(dt_to_hour)\n",
    "    elif isinstance(datetimes, pd.Series):\n",
    "        datetimes =datetimes.apply(dt_to_hour)\n",
    "    elif isinstance(datetimes, pd.DatetimeIndex):\n",
    "        datetimes = dt_to_hour(datetimes)\n",
    "    return datetimes\n",
    "\n",
    "#function to extract hidden location info\n",
    "def get_com_sl(func):\n",
    "    #plt.show()\n",
    "    @functools.wraps(func)\n",
    "    def send_com_info(folder:str, *args, **kwargs):\n",
    "        com_info = pd.read_csv(filepath_or_buffer=folder+'pv_com_info.csv', delimiter=\",\",header=0, index_col=0)\n",
    "        for i in com_info.index:\n",
    "            kwargs[i] = com_info.loc[i,\"value\"]\n",
    "        value = func(*args, **kwargs)\n",
    "        return value\n",
    "    return send_com_info\n",
    "\n",
    "SolarLibrary_com = get_com_sl(SolarLibrary)\n",
    "\n",
    "@decorators.timer\n",
    "def clean_df(df: pd.DataFrame, dt_format='%d/%m/%Y %H:%M'):\n",
    "    df.rename(dict(zip(df.columns.to_list(), [\"dt\", \"gpoa\"])), inplace=True, axis=1)\n",
    "    #extracting raw duplicates before any transformation\n",
    "    dup_condition = df.duplicated(subset='dt', keep=False) == True\n",
    "    df_duplicates = df.loc[dup_condition,:].sort_values(by='dt')\n",
    "    # kept last based on post-analysis\n",
    "    # DEV NOTE 8/4/21 Is a decorator to remove duplicates with na values even before dropna useful ?\n",
    "    df.drop_duplicates(subset='dt', keep='last', inplace=True)\n",
    "    #converting to nan instead of raising error\n",
    "    df.dt = pd.to_datetime(arg=df.dt, format=dt_format, errors=\"ignore\")\n",
    "    #tz not considered for faster processing\n",
    "    df.index = pd.DatetimeIndex(df.dt.values)\n",
    "    return df.sort_index(), df_duplicates\n",
    "\n",
    "@decorators.timer\n",
    "def get_sunpath_tz(dti:pd.DatetimeIndex, sl:SolarLibrary, freq:str=\"min\") -> pd.DataFrame:\n",
    "    #AmbiguousTimeError: 2017-10-29 02:00:00\n",
    "    #replace with nan since solar path only for visualisation\n",
    "    dti_tz = dti.tz_localize(tz=sl.timezone, ambiguous='NaT', nonexistent='NaT')\n",
    "    dti_utc = dti_tz.tz_convert('utc')\n",
    "    #DEV NOTE 17/4/21 removed since double convert extend index !!\n",
    "    #dti_none = dti_utc.tz_convert(None)\n",
    "    cs = sl.getsuninout(utc= dti_utc, freq= freq)\n",
    "    dt_columns = ['sun_on', 'sun_off', 'sun_max']\n",
    "    for c in dt_columns:\n",
    "        dti_sl_utc = pd.DatetimeIndex(cs.loc[:,c].values, tz='utc', ambiguous='NaT')\n",
    "        dti_sl_tz = dti_sl_utc.tz_convert(tz=sl.timezone)\n",
    "        #exctracting hour since converting to None will go back to utc\n",
    "        cs[c+'_h'] = add_hour(dti_sl_tz)\n",
    "    return cs\n",
    "\n",
    "@decorators.timer\n",
    "#elements not in the first series\n",
    "def series_differences(s1: pd.Series, s2: pd.Series):\n",
    "    #initialise empty Series rather than None (not valid index)\n",
    "    dff = pd.Series(dtype=float, name=s2.name)\n",
    "    if s2 is not None and len(s2)>0:\n",
    "        if s1 is None or len(s1) == 0:\n",
    "            dff = s2\n",
    "        elif len(s1) > 0:\n",
    "            s2_name = s2.name\n",
    "            s1.name = 's1'\n",
    "            s2.name = 's2'\n",
    "            df = pd.concat([s2, s1], axis=1, join='outer')\n",
    "            df.dropna(subset=['s2'], inplace=True)\n",
    "            df[\"dff\"] = df.apply(lambda x: x['s2'] if x['s2'] != x['s1'] else None, axis=1)\n",
    "            df.dropna(subset=['dff'], inplace=True)\n",
    "            if len(df) > 0:\n",
    "                dff = df.dff\n",
    "                dff.name = s2_name\n",
    "    return dff\n",
    "\n",
    "#from typing import List, Dict\n",
    "#DEV NOTE 10/4/21 clunky function could be optimised with list, tuple and dict\n",
    "\n",
    "@decorators.timer\n",
    "def plot_completeness(df1_dly:pd.DataFrame, title:str, before_hours_sum: bool=False,\n",
    "                       suffix1:str=\"\", df2_dly:pd.DataFrame = None, suffix2:str=\"\", days_limit=24,\n",
    "                       annotate1:bool=True, annotate2:bool=False, annotatation_min_hours=48,\n",
    "                       annotatation_min_hours2=48,\n",
    "                       ydistmin=100, ydistmin2=100, annotate_verticalshift=5, annotate_horizontalshift=5):\n",
    "    df2notindf1 = []\n",
    "    bbox_boxstyle=\"round\"\n",
    "    bbox_fc='w'\n",
    "    annotate_size= 'xx-small'\n",
    "    #right to show line after\n",
    "    annotate_horizontalalignment = 'right'\n",
    "    annotate_color = 'k'\n",
    "    annotate_xytext = (0,-1)\n",
    "    annotate_textcoords = 'offset points'\n",
    "    annotate_verticalalignment = 'center'\n",
    "    #shift currently used only for total\n",
    "    #DEV NOTES 18/4/21 redundant with single plot, to be merged\n",
    "    #external to retrive hours_limit_1\n",
    "    dly_dsc_1 = describe_with_tukey_fence(df1_dly, percentiles=[0.05, 0.25, 0.5, 0.75, 0.95])\n",
    "    hours_limit_1 = dly_dsc_1.loc['fence_tukey_max','before_first_hours']\n",
    "    #external to retrieve separetely for first and last\n",
    "    #@decorators.timer\n",
    "    def get_measurement_series(dly:pd.DataFrame, hours_limit=hours_limit_1, days_limit:int=days_limit):\n",
    "        dscbig = dly[(dly[\"after_last_hours\"] >= days_limit)] #.rename({'last_hour':''}, inplace=True)\n",
    "        rcvbig = dly[(dly[\"before_first_hours\"] >= days_limit)] #.rename({'last_first':''}, inplace=True)\n",
    "        dscsmall = dly[(dly[\"after_last_hours\"] > hours_limit) &  (dly[\"after_last_hours\"] < days_limit)]\n",
    "        rcvsmall = dly[(dly[\"before_first_hours\"] > hours_limit) & (dly[\"before_first_hours\"] < days_limit)] #.rename({'last_first':''}, inplace=True)\n",
    "        first_only = dly[(~dly.index.isin(rcvbig.index))&(~dly.index.isin(rcvsmall.index))]\n",
    "        last_only =  dly[(~dly.index.isin(dscbig.index))&(~dly.index.isin(dscsmall.index))]\n",
    "        return dscbig, rcvbig, dscsmall, rcvsmall, first_only, last_only\n",
    "\n",
    "\n",
    "\n",
    "\n",
    "    graphs_dfs = []\n",
    "    graphs_labels = []\n",
    "    graphs_marker = []\n",
    "    legend = []\n",
    "    dscbig, rcvbig, dscsmall, rcvsmall, first_only, last_only = get_measurement_series(df1_dly, hours_limit_1)\n",
    "    dfs_1 = [rcvsmall.first_hour, dscsmall.last_hour, rcvbig.first_hour, dscbig.last_hour,\n",
    "                                    first_only.first_hour, last_only.last_hour]\n",
    "    labels_1 = ['overnight disconnection end', 'overnight disconnection start',\n",
    "    'day-long disconnection end', 'day-long disconnection start', 'first measurement', 'last measurement']\n",
    "    markers_1 = ['g4', 'r2', 'g>', 'r^', 'g,', 'r,']\n",
    "\n",
    "    if 'max_hour' in df1_dly.columns.to_list():\n",
    "        graphs_dfs.append(df1_dly.max_hour)\n",
    "        graphs_labels.append('max measurement value'+suffix1)\n",
    "        graphs_marker.append('y*')\n",
    "\n",
    "    for i in range(len(dfs_1)):\n",
    "        if len(dfs_1[i]) > 0:\n",
    "            graphs_dfs.append(dfs_1[i])\n",
    "            graphs_labels.append(labels_1[i]+suffix1)\n",
    "            graphs_marker.append(markers_1[i])\n",
    "\n",
    "    if  df2_dly is not None:\n",
    "        dly_dsc_2 = describe_with_tukey_fence(df2_dly, percentiles=[0.05, 0.25, 0.5, 0.75, 0.95])\n",
    "        hours_limit_2 = dly_dsc_2.loc['fence_tukey_max','before_first_hours']\n",
    "        dscbig2, rcvbig2, dscsmall2, rcvsmall2, first_only2, last_only2 = get_measurement_series(df2_dly, hours_limit_2)\n",
    "\n",
    "        dfs_2 = [rcvsmall2.first_hour, dscsmall2.last_hour, rcvbig2.first_hour, dscbig2.last_hour,\n",
    "                                    first_only2.first_hour, last_only2.last_hour]\n",
    "\n",
    "        markers_2 = ['b4', 'm2', 'b>', 'm^', 'b,', 'm,']\n",
    "\n",
    "\n",
    "        for i in range(len(dfs_2)):\n",
    "            #for 2o visualising only series differences between the two dataframes\n",
    "            dff = series_differences(dfs_1[i], dfs_2[i])\n",
    "            df2notindf1.append(dff)\n",
    "            if len(dff) > 0:\n",
    "                graphs_dfs.append(dff)\n",
    "                graphs_labels.append(labels_1[i]+suffix2)\n",
    "                graphs_marker.append(markers_2[i])\n",
    "\n",
    "    if ('sun_on_h' in df1_dly.columns.to_list()) & ('sun_off_h' in df1_dly.columns.to_list()):\n",
    "        [graphs_dfs.append(i) for i in [df1_dly.sun_on_h, df1_dly.sun_off_h]]\n",
    "        [graphs_labels.append(i) for i in ['sun on'+suffix1, 'sun off'+suffix1]]\n",
    "        [graphs_marker.append(i) for i in ['k,', 'k,']]\n",
    "\n",
    "\n",
    "    host = host_subplot(111)\n",
    "    par = host.twinx()\n",
    "\n",
    "    for i in range(0, len(graphs_dfs)):\n",
    "        if len(graphs_dfs[i])>0:\n",
    "            #alpha=0.5 for transparency\n",
    "            host.plot(graphs_dfs[i].index, graphs_dfs[i], graphs_marker[i])\n",
    "            legend.append(graphs_labels[i])\n",
    "\n",
    "    if  before_hours_sum == True:\n",
    "        _ = lambda x: x-hours_limit_1 if x>hours_limit_1 else 0\n",
    "        df1_dly[\"before_first_hours_cml\"] = pd.Series([df1_dly.loc[:x,'before_first_hours'].apply(_).sum() for x in df1_dly.index],\n",
    "                      index=df1_dly.index)\n",
    "        label = \"cumulative disconnection hours\"\n",
    "        par.set_ylabel(label)\n",
    "        p2, = par.plot(df1_dly.index, df1_dly.before_first_hours_cml, \":\")\n",
    "        #21/4/21\n",
    "        legend.append(label+suffix1)\n",
    "\n",
    "        #DEV NOTE 24/04/21 fixed ydistmin but dynamic from figsize & y could be used ?\n",
    "        def hrz_alg(r, annotate_horizontalalignment, before_first_hours_cml,ydist=ydistmin):\n",
    "            if r[\"before_first_hours_cml\"] - before_first_hours_cml < ydist:\n",
    "                if annotate_horizontalalignment =='right':\n",
    "                    annotate_horizontalalignment = 'left'\n",
    "                    horizontalshift = 1\n",
    "                elif annotate_horizontalalignment =='left':\n",
    "                    annotate_horizontalalignment = 'right'\n",
    "                    horizontalshift = -1\n",
    "            else:\n",
    "                annotate_horizontalalignment = 'right'\n",
    "                horizontalshift = 0\n",
    "            return annotate_horizontalalignment, horizontalshift*annotate_horizontalshift\n",
    "\n",
    "        bbox = dict(boxstyle=bbox_boxstyle, fc=bbox_fc, edgecolor=\"blue\")\n",
    "        ann_str = f'tot{str(suffix1)}: {max(df1_dly.before_first_hours_cml)/24:.0f}d, {max(df1_dly.before_first_hours_cml)/dtop.tdhour(max(df1_dly.index)-min(df1_dly.index))*100:.2f}%'\n",
    "        par.annotate(ann_str,\n",
    "        (max(df1_dly.index), max(df1_dly.before_first_hours_cml)),\n",
    "        bbox=bbox, size=annotate_size, horizontalalignment=\"right\",\n",
    "        xytext=(annotate_xytext[0], annotate_xytext[1]+annotate_verticalshift), textcoords=annotate_textcoords,\n",
    "        verticalalignment=annotate_verticalalignment)\n",
    "\n",
    "        before_first_hours_cml = 0\n",
    "\n",
    "        if annotate1:\n",
    "            long_dsc1 = df1_dly.loc[df1_dly.before_first_hours > annotatation_min_hours,\n",
    "                            [\"before_first_hours\",\"first_datetime\",\"before_first_hours_cml\"]]\n",
    "            for i, r in long_dsc1.iterrows():\n",
    "\n",
    "\n",
    "                bfhl = f'{r[\"before_first_hours\"]/24:.0f}d' if r[\"before_first_hours\"]>24 else f'{r[\"before_first_hours\"]:.0f}h'\n",
    "                ann_str = bfhl+f', {r[\"first_datetime\"].strftime(\"%m/%d %H:%M\")}'\n",
    "                annotate_horizontalalignment, hs = hrz_alg(r, annotate_horizontalalignment, before_first_hours_cml, ydistmin)\n",
    "                par.annotate(ann_str,\n",
    "                (i, r[\"before_first_hours_cml\"]),\n",
    "                bbox=bbox, size=annotate_size, horizontalalignment=annotate_horizontalalignment,\n",
    "                xytext=(annotate_xytext[0]+hs, annotate_xytext[1]), textcoords=annotate_textcoords,\n",
    "                verticalalignment=annotate_verticalalignment)\n",
    "\n",
    "                before_first_hours_cml = r[\"before_first_hours_cml\"]\n",
    "\n",
    "        if df2_dly is not None:\n",
    "            df2_dly[\"before_first_hours_cml\"] = pd.Series([df2_dly.loc[:x,'before_first_hours'].apply(_).sum() for x in df2_dly.index],\n",
    "                          index=df2_dly.index)\n",
    "            label = \"cumulative disconnection hours\"\n",
    "            par.set_ylabel(label)\n",
    "            p2, = par.plot(df2_dly.index, df2_dly.before_first_hours_cml,\":\")\n",
    "            legend.append(label+suffix2)\n",
    "\n",
    "            #22/4/22\n",
    "            bbox = dict(boxstyle=bbox_boxstyle, fc=bbox_fc, edgecolor='orange')\n",
    "            ann_str = f'tot{str(suffix2)}: {max(df2_dly.before_first_hours_cml)/24:.0f}d, {max(df2_dly.before_first_hours_cml)/dtop.tdhour(max(df2_dly.index)-min(df2_dly.index))*100:.2f}%'\n",
    "            par.annotate(ann_str,\n",
    "            (max(df2_dly.index), max(df2_dly.before_first_hours_cml)),\n",
    "            bbox=bbox, size=annotate_size, horizontalalignment=\"left\",\n",
    "            xytext=(annotate_xytext[0]+annotate_horizontalshift, annotate_xytext[1]+annotate_verticalshift), textcoords=annotate_textcoords,\n",
    "            verticalalignment=annotate_verticalalignment)\n",
    "\n",
    "            before_first_hours_cml = 0\n",
    "            if annotate2:\n",
    "                #filtering minimum only for main not for differences\n",
    "                if annotate1:\n",
    "                    bfh_dff = series_differences(df1_dly.before_first_hours, df2_dly.before_first_hours)\n",
    "                    day_dsc2 = df2_dly.loc[bfh_dff.index,\n",
    "                                [\"before_first_hours\",\"first_datetime\",\"before_first_hours_cml\"]]\n",
    "                elif annotate1 == False:\n",
    "                    day_dsc2 = df2_dly[[\"before_first_hours\",\"first_datetime\",\"before_first_hours_cml\"]]\n",
    "                day_dsc2 = day_dsc2.loc[day_dsc2.before_first_hours > annotatation_min_hours2,\n",
    "                                [\"before_first_hours\",\"first_datetime\",\"before_first_hours_cml\"]]\n",
    "                for i, r in day_dsc2.iterrows():\n",
    "                    bfhl = f'{r[\"before_first_hours\"]/24:.0f}d' if r[\"before_first_hours\"]>24 else f'{r[\"before_first_hours\"]:.0f}h'\n",
    "                    ann_str = bfhl+f', {r[\"first_datetime\"].strftime(\"%m/%d %H:%M\")}'\n",
    "                    annotate_horizontalalignment, hs  = hrz_alg(r, annotate_horizontalalignment, before_first_hours_cml,ydistmin2)\n",
    "\n",
    "                    par.annotate(ann_str,\n",
    "                    (i, r[\"before_first_hours_cml\"]),\n",
    "                    bbox=bbox, size=annotate_size, horizontalalignment=annotate_horizontalalignment,\n",
    "                    xytext=(annotate_xytext[0]+hs, annotate_xytext[1]), textcoords=annotate_textcoords,\n",
    "                    verticalalignment=annotate_verticalalignment)\n",
    "\n",
    "                    before_first_hours_cml = r[\"before_first_hours_cml\"]\n",
    "\n",
    "    plt.legend(labels=legend)\n",
    "    plt.title('\\n'.join(wrap(title,WRAP_WIDTH)))\n",
    "    host.set_ylabel(\"hour\")\n",
    "    host.set_xlabel('date')\n",
    "    #plt.show() not required\n",
    "    plt_savefig = decorators.change_savefig(plt.savefig)\n",
    "    plt_savefig()\n",
    "\n",
    "    return df2notindf1"
   ]
  },
  {
   "cell_type": "markdown",
   "metadata": {
    "pycharm": {
     "name": "#%% md\n"
    }
   },
   "source": [
    "TBC visualisation could be done, risk overlaps\n",
    "\n",
    "## Data completeness PV system"
   ]
  },
  {
   "cell_type": "code",
   "execution_count": 7,
   "metadata": {
    "pycharm": {
     "name": "#%%\n"
    }
   },
   "outputs": [],
   "source": [
    "if execute:\n",
    "    PV_FOLDER=r\"C:/Users/wsfm/OneDrive - Loughborough University/_Personal_Backup/_Research_Master/_Data Sources/Skytron_Data_TEST/\"\n",
    "    PV_FILE=r\"devicedata_0921.csv\""
   ]
  },
  {
   "cell_type": "markdown",
   "metadata": {
    "pycharm": {
     "name": "#%% md\n"
    }
   },
   "source": [
    "#Exploratory analysis of file structure\n",
    "#https://stackoverflow.com/questions/10933838/how-to-read-a-csv-file-in-reverse-order-in-python\n",
    "import csv\n",
    "with open(PV_FOLDER+PV_FILE, 'r') as textfile:\n",
    "    rows = list(csv.reader(textfile))\n",
    "c = 0\n",
    "print(\"First 10 rows\")\n",
    "for r in rows:\n",
    "    print(', '.join(r))\n",
    "    c += 1\n",
    "    if c == 20:\n",
    "        break\n",
    "print(\"\\n Last 5 rows\")\n",
    "c = 0\n",
    "for r in reversed(rows):\n",
    "    print(', '.join(r))\n",
    "    c += 1\n",
    "    if c == 5:\n",
    "        break\n",
    "print(len(rows))"
   ]
  },
  {
   "cell_type": "code",
   "execution_count": 8,
   "metadata": {
    "pycharm": {
     "name": "#%%\n"
    }
   },
   "outputs": [
    {
     "name": "stdout",
     "output_type": "stream",
     "text": [
      "Started 'read_csv' at 2021-05-16 18:21:10.623595\n",
      "Finished 'read_csv' in 0:00:00.568036 secs\n",
      "Index(['date', 'p150506_c0401005002_0501001a', 'p150506_c0401005002_0501011a'], dtype='object')\n",
      "2015-06-03 16:29:00 2016-08-11 09:21:00\n"
     ]
    }
   ],
   "source": [
    "if execute:\n",
    "    gpoa_com = pd.read_csv(filepath_or_buffer=PV_FOLDER+PV_FILE, delimiter=\";\",skip_blank_lines=True,header=11,nrows=597792)\n",
    "    print(gpoa_com.columns)\n",
    "    gpoa_com.date = pd.to_datetime(gpoa_com.date, format='%Y-%m-%d %H:%M:%S')\n",
    "    gpoa_com.index = pd.DatetimeIndex(gpoa_com.date, ambiguous='NaT', name=\"datetime\")\n",
    "    print(min(gpoa_com.index), max(gpoa_com.index))\n",
    "    gpoa_com.rename({'p150506_c0401005002_0501001a':'global_swdn'}, axis=1, inplace=True)"
   ]
  },
  {
   "cell_type": "code",
   "execution_count": 9,
   "metadata": {
    "pycharm": {
     "name": "#%%\n"
    }
   },
   "outputs": [
    {
     "name": "stdout",
     "output_type": "stream",
     "text": [
      "Started 'read_csv' at 2021-05-16 18:21:13.262598\n",
      "Finished 'read_csv' in 0:00:00.005028 secs\n"
     ]
    }
   ],
   "source": [
    "if execute:\n",
    "    gpoa_com_info = pd.read_csv(filepath_or_buffer=PV_FOLDER+'pv_com_info.csv', delimiter=\",\",header=0, index_col=0)\n",
    "    surface_zenith_com = gpoa_com_info.loc[\"surface_tilt\",\"value\"]#%%\n",
    "    altitude_com = gpoa_com_info.loc[\"altitude\",\"value\"]#\n",
    "    latitude_com = gpoa_com_info.loc[\"latitude\",\"value\"]#\n",
    "    longitude_com = gpoa_com_info.loc[\"longitude\",\"value\"]#\n",
    "    sl_com = SolarLibrary(latitude=latitude_com, longitude=longitude_com, altitude=altitude_com,\n",
    "                     temperature=TEMPERATURE, delta_t=DELTA_T, pressure=PRESSURE,\n",
    "                      surface_zenith=surface_zenith_com, surface_azimuth=SURFACE_AZIMUTH,\n",
    "                      atmos_refract=ATMOS_REFRACT, transmittance=TRANSMITTANCE)"
   ]
  },
  {
   "cell_type": "code",
   "execution_count": 10,
   "metadata": {
    "pycharm": {
     "name": "#%%\n"
    }
   },
   "outputs": [
    {
     "name": "stdout",
     "output_type": "stream",
     "text": [
      "Started 'datacompleteness' at 2021-05-16 18:21:13.295598\n",
      "Finished 'datacompleteness' in 0:00:01.979998 secs\n",
      "Started 'getsuninout' at 2021-05-16 18:21:15.275596\n",
      "Finished 'getsuninout' in 0:00:14.417272 secs\n",
      "Stored 'dly_c' (DataFrame)\n"
     ]
    },
    {
     "name": "stderr",
     "output_type": "stream",
     "text": [
      "C:\\Users\\wsfm\\OneDrive - Loughborough University\\_Personal_Backup\\python_repositories\\ground-based-solar-irradiance\\source\\data_operations.py:238: FutureWarning: The 'keep_tz' keyword in DatetimeIndex.to_series is deprecated and will be removed in a future version.  You can stop passing 'keep_tz' to silence this warning.\n",
      "  utc_all = _.to_series(index=None, name=datetime_column, keep_tz=True)[:-1]\n"
     ]
    }
   ],
   "source": [
    "if execute:\n",
    "    m = gpoa_com.global_swdn\n",
    "    dly_c = dtop.datacompleteness(m, time_resolution_s_max=3600)\n",
    "    cs_dly_c = sl_com.getsuninout(utc= m.index, freq= \"min\")\n",
    "    cs_dly_c = add_hour(cs_dly_c)\n",
    "    dly_c = dly_c.merge(cs_dly_c.loc[:, ['sun_on_h','sun_off_h']], how='inner', left_index=True, right_index=True)\n",
    "    %store dly_c"
   ]
  },
  {
   "cell_type": "code",
   "execution_count": 11,
   "metadata": {
    "pycharm": {
     "name": "#%%\n"
    }
   },
   "outputs": [
    {
     "name": "stdout",
     "output_type": "stream",
     "text": [
      "Started 'plot_completeness' at 2021-05-16 18:21:29.738837\n",
      "Started 'describe' at 2021-05-16 18:21:29.738837\n",
      "Finished 'describe' in 0:00:00.032960 secs\n",
      "Hourly disconnection analysis of a pyranometer located in a solar farm in Glamorgan from 2015-06-03 to 2016-08-11.jpg saved at C:\\Users\\wsfm\\OneDrive - Loughborough University\\_Personal_Backup\\python_repositories\\ground-based-solar-irradiance/outputs/figures/\n",
      "Finished 'plot_completeness' in 0:00:01.272177 secs\n"
     ]
    },
    {
     "data": {
      "image/png": "[encoded data removed]",
      "text/plain": [
       "<Figure size 640x440 with 1 Axes>"
      ]
     },
     "metadata": {
      "needs_background": "light"
     },
     "output_type": "display_data"
    },
    {
     "data": {
      "text/plain": [
       "[]"
      ]
     },
     "execution_count": 11,
     "metadata": {},
     "output_type": "execute_result"
    }
   ],
   "source": [
    "title_c = title_template % (\"a pyranometer located in a solar farm in Glamorgan\", min(dly_c.index), max(dly_c.index))\n",
    "plot_completeness(dly_c, title_c, before_hours_sum=True)"
   ]
  },
  {
   "cell_type": "markdown",
   "metadata": {},
   "source": [
    "## Data completeness CREST"
   ]
  },
  {
   "cell_type": "code",
   "execution_count": 12,
   "metadata": {
    "pycharm": {
     "name": "#%%\n"
    }
   },
   "outputs": [
    {
     "name": "stdout",
     "output_type": "stream",
     "text": [
      "Started 'read_csv' at 2021-05-16 18:21:31.054016\n",
      "Finished 'read_csv' in 0:00:00.073998 secs\n"
     ]
    }
   ],
   "source": [
    "if execute:\n",
    "    ISC_IRRADIANCE_FILES_FOLDER = join(dirname(getcwd())+r\"/assets/isc_irradiance_files/\")\n",
    "    gpoa = pd.read_csv(filepath_or_buffer=join(ISC_IRRADIANCE_FILES_FOLDER,'chpoa_y15-20.csv'))\n",
    "    gpoa.columns"
   ]
  },
  {
   "cell_type": "code",
   "execution_count": 13,
   "metadata": {
    "pycharm": {
     "name": "#%%\n"
    }
   },
   "outputs": [],
   "source": [
    "if execute:\n",
    "    gpoa.date_trunc = pd.to_datetime(gpoa.date_trunc, format='%d/%m/%Y %H:%M:%S')\n",
    "    gpoa.index = pd.DatetimeIndex(gpoa.date_trunc, ambiguous='NaT', name=\"datetime\")\n",
    "    min(gpoa.index), max(gpoa.index)"
   ]
  },
  {
   "cell_type": "markdown",
   "metadata": {
    "pycharm": {
     "name": "#%% md\n"
    }
   },
   "source": [
    "### Adding sun path\n",
    "Just for nice visualisation, not strictly necessary\n",
    "#surface zenith & azimuth not used at this point but later"
   ]
  },
  {
   "cell_type": "code",
   "execution_count": 14,
   "metadata": {
    "pycharm": {
     "name": "#%%\n"
    }
   },
   "outputs": [],
   "source": [
    "sl_r = SolarLibrary(latitude=LATITUDE, longitude=LONGITUDE, altitude=ALTITUDE,\n",
    "                 temperature=TEMPERATURE, delta_t=DELTA_T, pressure=PRESSURE,\n",
    "                  surface_zenith=SURFACE_ZENITH, surface_azimuth=SURFACE_AZIMUTH,\n",
    "                  atmos_refract=ATMOS_REFRACT, transmittance=TRANSMITTANCE)"
   ]
  },
  {
   "cell_type": "code",
   "execution_count": 15,
   "metadata": {
    "pycharm": {
     "name": "#%%\n"
    }
   },
   "outputs": [
    {
     "name": "stdout",
     "output_type": "stream",
     "text": [
      "Started 'datacompleteness' at 2021-05-16 18:21:31.531045\n",
      "Finished 'datacompleteness' in 0:00:03.728002 secs\n",
      "Started 'getsuninout' at 2021-05-16 18:21:35.259047\n",
      "Finished 'getsuninout' in 0:01:02.742604 secs\n",
      "Stored 'dly_r' (DataFrame)\n"
     ]
    },
    {
     "name": "stderr",
     "output_type": "stream",
     "text": [
      "C:\\Users\\wsfm\\OneDrive - Loughborough University\\_Personal_Backup\\python_repositories\\ground-based-solar-irradiance\\source\\data_operations.py:238: FutureWarning: The 'keep_tz' keyword in DatetimeIndex.to_series is deprecated and will be removed in a future version.  You can stop passing 'keep_tz' to silence this warning.\n",
      "  utc_all = _.to_series(index=None, name=datetime_column, keep_tz=True)[:-1]\n"
     ]
    }
   ],
   "source": [
    "if execute:\n",
    "    m = gpoa.g_cmp11_ppuk\n",
    "    dly_r = dtop.datacompleteness(m, time_resolution_s_max=3600)\n",
    "    cs_dly_r = sl_r.getsuninout(utc= m.index, freq= \"min\")\n",
    "    cs_dly_r = add_hour(cs_dly_r)\n",
    "    dly_r = dly_r.merge(cs_dly_r.loc[:, ['sun_on_h','sun_off_h']], how='inner', left_index=True, right_index=True)\n",
    "    %store dly_r"
   ]
  },
  {
   "cell_type": "code",
   "execution_count": 16,
   "metadata": {
    "pycharm": {
     "name": "#%%\n"
    }
   },
   "outputs": [
    {
     "name": "stdout",
     "output_type": "stream",
     "text": [
      "Started 'plot_completeness' at 2021-05-16 18:22:38.094656\n",
      "Started 'describe' at 2021-05-16 18:22:38.094656\n",
      "Finished 'describe' in 0:00:00.028996 secs\n",
      "Hourly disconnection analysis of a research pyranometer located at Loughborough University from 2015-01-01 to 2020-12-31.jpg saved at C:\\Users\\wsfm\\OneDrive - Loughborough University\\_Personal_Backup\\python_repositories\\ground-based-solar-irradiance/outputs/figures/\n",
      "Finished 'plot_completeness' in 0:00:03.306999 secs\n"
     ]
    },
    {
     "data": {
      "image/png": "[encoded data removed]",
      "text/plain": [
       "<Figure size 640x440 with 1 Axes>"
      ]
     },
     "metadata": {
      "needs_background": "light"
     },
     "output_type": "display_data"
    },
    {
     "data": {
      "text/plain": [
       "[]"
      ]
     },
     "execution_count": 16,
     "metadata": {},
     "output_type": "execute_result"
    }
   ],
   "source": [
    "title_r = title_template % (\"a research pyranometer located at Loughborough University\", min(dly_r.index), max(dly_r.index))\n",
    "plot_completeness(dly_r, title_r, before_hours_sum=True)"
   ]
  },
  {
   "cell_type": "code",
   "execution_count": 17,
   "metadata": {
    "pycharm": {
     "name": "#%%\n"
    }
   },
   "outputs": [
    {
     "name": "stdout",
     "output_type": "stream",
     "text": [
      "Started 'datacompleteness' at 2021-05-16 18:22:43.064686\n",
      "Finished 'datacompleteness' in 0:00:00.939974 secs\n",
      "Stored 'dly_r_s' (DataFrame)\n"
     ]
    },
    {
     "name": "stderr",
     "output_type": "stream",
     "text": [
      "C:\\Users\\wsfm\\OneDrive - Loughborough University\\_Personal_Backup\\python_repositories\\ground-based-solar-irradiance\\source\\data_operations.py:238: FutureWarning: The 'keep_tz' keyword in DatetimeIndex.to_series is deprecated and will be removed in a future version.  You can stop passing 'keep_tz' to silence this warning.\n",
      "  utc_all = _.to_series(index=None, name=datetime_column, keep_tz=True)[:-1]\n"
     ]
    }
   ],
   "source": [
    "# filtering for the same period for a better comparison\n",
    "if execute:\n",
    "    gpoa_s = gpoa[(gpoa.index >= min(gpoa_com.index)) & (gpoa.index <= max(gpoa_com.index))]\n",
    "    m = gpoa_s.g_cmp11_ppuk\n",
    "    dly_r_s = dtop.datacompleteness(m, time_resolution_s_max=3600)\n",
    "    dly_r_s = dly_r_s.merge(cs_dly_r.loc[:, ['sun_on_h','sun_off_h']], how='inner', left_index=True, right_index=True)\n",
    "    %store dly_r_s"
   ]
  },
  {
   "cell_type": "markdown",
   "metadata": {},
   "source": [
    "## Calculating percentage of disconnection for the selected period"
   ]
  },
  {
   "cell_type": "markdown",
   "metadata": {},
   "source": [
    "# Solar farms in Lazio"
   ]
  },
  {
   "cell_type": "code",
   "execution_count": 18,
   "metadata": {
    "pycharm": {
     "name": "#%%\n"
    }
   },
   "outputs": [
    {
     "name": "stdout",
     "output_type": "stream",
     "text": [
      "Started 'read_csv' at 2021-05-16 18:22:44.040661\n",
      "Finished 'read_csv' in 0:00:00.227996 secs\n",
      "Started 'clean_df' at 2021-05-16 18:22:44.269671\n",
      "Finished 'clean_df' in 0:00:01.024985 secs\n"
     ]
    }
   ],
   "source": [
    "#first cleaning the dataset\n",
    "if execute:\n",
    "    df_rm1 = pd.read_csv(filepath_or_buffer=join(RM_FOLDER,RM_PYR_C1))\n",
    "    df_rm1c, df_duplicates1 = clean_df(df_rm1)"
   ]
  },
  {
   "cell_type": "code",
   "execution_count": 19,
   "metadata": {
    "pycharm": {
     "name": "#%%\n"
    }
   },
   "outputs": [
    {
     "name": "stdout",
     "output_type": "stream",
     "text": [
      "Started 'read_csv' at 2021-05-16 18:22:45.316662\n",
      "Finished 'read_csv' in 0:00:00.002999 secs\n"
     ]
    }
   ],
   "source": [
    "sl_rm = SolarLibrary_com(folder=RM_FOLDER)\n",
    "sl_rm.timezone = 'Europe/Rome'"
   ]
  },
  {
   "cell_type": "code",
   "execution_count": 19,
   "metadata": {
    "pycharm": {
     "name": "#%%\n"
    }
   },
   "outputs": [],
   "source": []
  },
  {
   "cell_type": "markdown",
   "metadata": {
    "pycharm": {
     "name": "#%% md\n"
    }
   },
   "source": [
    "#fast compare with sun_rise_set_transit to verify if tz or utc and eventually shift"
   ]
  },
  {
   "cell_type": "code",
   "execution_count": 20,
   "metadata": {
    "pycharm": {
     "name": "#%%\n"
    }
   },
   "outputs": [],
   "source": [
    "df_rm1c.index = df_rm1c.index.shift(periods=-1,freq=datetime.timedelta(seconds=int(60*60)))"
   ]
  },
  {
   "cell_type": "code",
   "execution_count": 21,
   "metadata": {
    "pycharm": {
     "name": "#%%\n"
    }
   },
   "outputs": [],
   "source": [
    "tzs = df_rm1c.index.tz\n",
    "tzs"
   ]
  },
  {
   "cell_type": "code",
   "execution_count": 22,
   "metadata": {
    "pycharm": {
     "name": "#%%\n"
    }
   },
   "outputs": [
    {
     "data": {
      "text/html": [
       "<div>\n",
       "<style scoped>\n",
       "    .dataframe tbody tr th:only-of-type {\n",
       "        vertical-align: middle;\n",
       "    }\n",
       "\n",
       "    .dataframe tbody tr th {\n",
       "        vertical-align: top;\n",
       "    }\n",
       "\n",
       "    .dataframe thead th {\n",
       "        text-align: right;\n",
       "    }\n",
       "</style>\n",
       "<table border=\"1\" class=\"dataframe\">\n",
       "  <thead>\n",
       "    <tr style=\"text-align: right;\">\n",
       "      <th></th>\n",
       "      <th>gmax</th>\n",
       "      <th>dtmax</th>\n",
       "      <th>dtfirst</th>\n",
       "      <th>gfirst</th>\n",
       "      <th>dtlast</th>\n",
       "      <th>glast</th>\n",
       "    </tr>\n",
       "    <tr>\n",
       "      <th>date</th>\n",
       "      <th></th>\n",
       "      <th></th>\n",
       "      <th></th>\n",
       "      <th></th>\n",
       "      <th></th>\n",
       "      <th></th>\n",
       "    </tr>\n",
       "  </thead>\n",
       "  <tbody>\n",
       "    <tr>\n",
       "      <th>2016-11-09</th>\n",
       "      <td>910.0</td>\n",
       "      <td>2016-11-09 12:00:00</td>\n",
       "      <td>2016-11-09 07:05:00</td>\n",
       "      <td>42.0</td>\n",
       "      <td>2016-11-09 16:10:00</td>\n",
       "      <td>26.0</td>\n",
       "    </tr>\n",
       "    <tr>\n",
       "      <th>2016-11-10</th>\n",
       "      <td>874.0</td>\n",
       "      <td>2016-11-10 12:25:00</td>\n",
       "      <td>2016-11-10 07:20:00</td>\n",
       "      <td>22.0</td>\n",
       "      <td>2016-11-10 16:35:00</td>\n",
       "      <td>22.0</td>\n",
       "    </tr>\n",
       "    <tr>\n",
       "      <th>2016-11-11</th>\n",
       "      <td>866.0</td>\n",
       "      <td>2016-11-11 13:30:00</td>\n",
       "      <td>2016-11-11 07:20:00</td>\n",
       "      <td>52.0</td>\n",
       "      <td>2016-11-11 16:30:00</td>\n",
       "      <td>48.0</td>\n",
       "    </tr>\n",
       "    <tr>\n",
       "      <th>2016-11-12</th>\n",
       "      <td>862.0</td>\n",
       "      <td>2016-11-12 10:55:00</td>\n",
       "      <td>2016-11-12 07:10:00</td>\n",
       "      <td>26.0</td>\n",
       "      <td>2016-11-12 16:40:00</td>\n",
       "      <td>36.0</td>\n",
       "    </tr>\n",
       "    <tr>\n",
       "      <th>2016-11-13</th>\n",
       "      <td>794.0</td>\n",
       "      <td>2016-11-13 12:35:00</td>\n",
       "      <td>2016-11-13 07:10:00</td>\n",
       "      <td>36.0</td>\n",
       "      <td>2016-11-13 15:50:00</td>\n",
       "      <td>24.0</td>\n",
       "    </tr>\n",
       "  </tbody>\n",
       "</table>\n",
       "</div>"
      ],
      "text/plain": [
       "             gmax               dtmax             dtfirst  gfirst  \\\n",
       "date                                                                \n",
       "2016-11-09  910.0 2016-11-09 12:00:00 2016-11-09 07:05:00    42.0   \n",
       "2016-11-10  874.0 2016-11-10 12:25:00 2016-11-10 07:20:00    22.0   \n",
       "2016-11-11  866.0 2016-11-11 13:30:00 2016-11-11 07:20:00    52.0   \n",
       "2016-11-12  862.0 2016-11-12 10:55:00 2016-11-12 07:10:00    26.0   \n",
       "2016-11-13  794.0 2016-11-13 12:35:00 2016-11-13 07:10:00    36.0   \n",
       "\n",
       "                        dtlast  glast  \n",
       "date                                   \n",
       "2016-11-09 2016-11-09 16:10:00   26.0  \n",
       "2016-11-10 2016-11-10 16:35:00   22.0  \n",
       "2016-11-11 2016-11-11 16:30:00   48.0  \n",
       "2016-11-12 2016-11-12 16:40:00   36.0  \n",
       "2016-11-13 2016-11-13 15:50:00   24.0  "
      ]
     },
     "execution_count": 22,
     "metadata": {},
     "output_type": "execute_result"
    }
   ],
   "source": [
    "df_rm1v = df_rm1c.dropna(subset=[\"gpoa\"])\n",
    "df_rm1v = df_rm1v[df_rm1v.gpoa > 20]\n",
    "df_rm1v.dt = df_rm1v.index\n",
    "df_rm1v['date'] = df_rm1v.index.date\n",
    "df_rm1v['hour'] = df_rm1v.index.hour\n",
    "dates = np.unique(df_rm1v.date)\n",
    "#Daylight hours IEC 61724-1 2017 P\n",
    "df_mm = df_rm1v.groupby([\"date\"]).agg({'gpoa':['max', 'idxmax']})\n",
    "df_mm.columns = df_mm.columns.droplevel(0)\n",
    "df_mm = pd.concat([df_mm.rename(columns={'max':'gmax', 'idxmax':'dtmax'}),\n",
    "df_rm1v[df_rm1v.hour <=12].groupby([\"date\"]).agg({'dt':'first', 'gpoa':'first'}).rename(\n",
    "    columns={'gpoa':'gfirst', 'dt':'dtfirst'}),\n",
    "df_rm1v[df_rm1v.hour >=12].groupby([\"date\"]).agg({'dt':'last', 'gpoa':'last'}).rename(\n",
    "    columns={'gpoa':'glast', 'dt':'dtlast'})], join='inner', axis=1)\n",
    "df_mm.head()"
   ]
  },
  {
   "cell_type": "code",
   "execution_count": 23,
   "metadata": {
    "pycharm": {
     "name": "#%%\n"
    }
   },
   "outputs": [
    {
     "data": {
      "text/html": [
       "<div>\n",
       "<style scoped>\n",
       "    .dataframe tbody tr th:only-of-type {\n",
       "        vertical-align: middle;\n",
       "    }\n",
       "\n",
       "    .dataframe tbody tr th {\n",
       "        vertical-align: top;\n",
       "    }\n",
       "\n",
       "    .dataframe thead th {\n",
       "        text-align: right;\n",
       "    }\n",
       "</style>\n",
       "<table border=\"1\" class=\"dataframe\">\n",
       "  <thead>\n",
       "    <tr style=\"text-align: right;\">\n",
       "      <th></th>\n",
       "      <th>sunrise</th>\n",
       "      <th>sunset</th>\n",
       "      <th>transit</th>\n",
       "    </tr>\n",
       "  </thead>\n",
       "  <tbody>\n",
       "    <tr>\n",
       "      <th>2016-11-09</th>\n",
       "      <td>2016-11-09 06:53:16.370965760+01:00</td>\n",
       "      <td>2016-11-09 16:55:33.662146816+01:00</td>\n",
       "      <td>2016-11-09 11:54:39.284754688+01:00</td>\n",
       "    </tr>\n",
       "    <tr>\n",
       "      <th>2016-11-10</th>\n",
       "      <td>2016-11-10 06:54:30.082078720+01:00</td>\n",
       "      <td>2016-11-10 16:54:32.147255296+01:00</td>\n",
       "      <td>2016-11-10 11:54:45.140632576+01:00</td>\n",
       "    </tr>\n",
       "    <tr>\n",
       "      <th>2016-11-11</th>\n",
       "      <td>2016-11-11 06:55:43.709738496+01:00</td>\n",
       "      <td>2016-11-11 16:53:32.390592768+01:00</td>\n",
       "      <td>2016-11-11 11:54:51.828773376+01:00</td>\n",
       "    </tr>\n",
       "    <tr>\n",
       "      <th>2016-11-12</th>\n",
       "      <td>2016-11-12 06:56:57.222740480+01:00</td>\n",
       "      <td>2016-11-12 16:52:34.430926336+01:00</td>\n",
       "      <td>2016-11-12 11:54:59.353043968+01:00</td>\n",
       "    </tr>\n",
       "    <tr>\n",
       "      <th>2016-11-13</th>\n",
       "      <td>2016-11-13 06:58:10.589783808+01:00</td>\n",
       "      <td>2016-11-13 16:51:38.306634496+01:00</td>\n",
       "      <td>2016-11-13 11:55:07.717057280+01:00</td>\n",
       "    </tr>\n",
       "    <tr>\n",
       "      <th>...</th>\n",
       "      <td>...</td>\n",
       "      <td>...</td>\n",
       "      <td>...</td>\n",
       "    </tr>\n",
       "    <tr>\n",
       "      <th>2019-03-15</th>\n",
       "      <td>2019-03-15 06:23:27.784808960+01:00</td>\n",
       "      <td>2019-03-15 18:16:51.773409024+01:00</td>\n",
       "      <td>2019-03-15 12:19:48.785765888+01:00</td>\n",
       "    </tr>\n",
       "    <tr>\n",
       "      <th>2019-03-16</th>\n",
       "      <td>2019-03-16 06:21:46.103023616+01:00</td>\n",
       "      <td>2019-03-16 18:17:59.766371328+01:00</td>\n",
       "      <td>2019-03-16 12:19:31.852552960+01:00</td>\n",
       "    </tr>\n",
       "    <tr>\n",
       "      <th>2019-03-17</th>\n",
       "      <td>2019-03-17 06:20:04.167721472+01:00</td>\n",
       "      <td>2019-03-17 18:19:07.544065536+01:00</td>\n",
       "      <td>2019-03-17 12:19:14.687570176+01:00</td>\n",
       "    </tr>\n",
       "    <tr>\n",
       "      <th>2019-03-18</th>\n",
       "      <td>2019-03-18 06:18:22.012542464+01:00</td>\n",
       "      <td>2019-03-18 18:20:15.119915008+01:00</td>\n",
       "      <td>2019-03-18 12:18:57.314189312+01:00</td>\n",
       "    </tr>\n",
       "    <tr>\n",
       "      <th>2019-03-19</th>\n",
       "      <td>2019-03-19 06:16:39.671441408+01:00</td>\n",
       "      <td>2019-03-19 18:21:22.509419520+01:00</td>\n",
       "      <td>2019-03-19 12:18:39.756958208+01:00</td>\n",
       "    </tr>\n",
       "  </tbody>\n",
       "</table>\n",
       "<p>782 rows × 3 columns</p>\n",
       "</div>"
      ],
      "text/plain": [
       "                                       sunrise  \\\n",
       "2016-11-09 2016-11-09 06:53:16.370965760+01:00   \n",
       "2016-11-10 2016-11-10 06:54:30.082078720+01:00   \n",
       "2016-11-11 2016-11-11 06:55:43.709738496+01:00   \n",
       "2016-11-12 2016-11-12 06:56:57.222740480+01:00   \n",
       "2016-11-13 2016-11-13 06:58:10.589783808+01:00   \n",
       "...                                        ...   \n",
       "2019-03-15 2019-03-15 06:23:27.784808960+01:00   \n",
       "2019-03-16 2019-03-16 06:21:46.103023616+01:00   \n",
       "2019-03-17 2019-03-17 06:20:04.167721472+01:00   \n",
       "2019-03-18 2019-03-18 06:18:22.012542464+01:00   \n",
       "2019-03-19 2019-03-19 06:16:39.671441408+01:00   \n",
       "\n",
       "                                        sunset  \\\n",
       "2016-11-09 2016-11-09 16:55:33.662146816+01:00   \n",
       "2016-11-10 2016-11-10 16:54:32.147255296+01:00   \n",
       "2016-11-11 2016-11-11 16:53:32.390592768+01:00   \n",
       "2016-11-12 2016-11-12 16:52:34.430926336+01:00   \n",
       "2016-11-13 2016-11-13 16:51:38.306634496+01:00   \n",
       "...                                        ...   \n",
       "2019-03-15 2019-03-15 18:16:51.773409024+01:00   \n",
       "2019-03-16 2019-03-16 18:17:59.766371328+01:00   \n",
       "2019-03-17 2019-03-17 18:19:07.544065536+01:00   \n",
       "2019-03-18 2019-03-18 18:20:15.119915008+01:00   \n",
       "2019-03-19 2019-03-19 18:21:22.509419520+01:00   \n",
       "\n",
       "                                       transit  \n",
       "2016-11-09 2016-11-09 11:54:39.284754688+01:00  \n",
       "2016-11-10 2016-11-10 11:54:45.140632576+01:00  \n",
       "2016-11-11 2016-11-11 11:54:51.828773376+01:00  \n",
       "2016-11-12 2016-11-12 11:54:59.353043968+01:00  \n",
       "2016-11-13 2016-11-13 11:55:07.717057280+01:00  \n",
       "...                                        ...  \n",
       "2019-03-15 2019-03-15 12:19:48.785765888+01:00  \n",
       "2019-03-16 2019-03-16 12:19:31.852552960+01:00  \n",
       "2019-03-17 2019-03-17 12:19:14.687570176+01:00  \n",
       "2019-03-18 2019-03-18 12:18:57.314189312+01:00  \n",
       "2019-03-19 2019-03-19 12:18:39.756958208+01:00  \n",
       "\n",
       "[782 rows x 3 columns]"
      ]
     },
     "execution_count": 23,
     "metadata": {},
     "output_type": "execute_result"
    }
   ],
   "source": [
    "#versione requiring array and not datetimeindex\n",
    "#https://pvlib-python.readthedocs.io/en/stable/_modules/pvlib/spa.html\n",
    "import pvlib\n",
    "dti = pd.DatetimeIndex(df_mm.index, tz=sl_rm.timezone, ambiguous='NaT')\n",
    "srst = pvlib.solarposition.sun_rise_set_transit_spa(dti, sl_rm.latitude, sl_rm.longitude, how='numpy', delta_t=67.0, numthreads=4)\n",
    "srst.index = srst.index.date\n",
    "srst"
   ]
  },
  {
   "cell_type": "code",
   "execution_count": 24,
   "metadata": {
    "pycharm": {
     "name": "#%%\n"
    }
   },
   "outputs": [
    {
     "name": "stdout",
     "output_type": "stream",
     "text": [
      "dtmax\n",
      "dtfirst\n",
      "dtlast\n"
     ]
    }
   ],
   "source": [
    "df_mm_tz = df_mm.copy(deep=True)\n",
    "tze = sl_rm.timezone\n",
    "for c in df_mm.columns.to_list():\n",
    "    if \"dt\" in c:\n",
    "        try:\n",
    "            dti = pd.DatetimeIndex(df_mm_tz[c], tz=tzs)\n",
    "            dti = dti.tz_convert(tz=tze) if tze!=tzs else dti\n",
    "            df_mm_tz[c] = dti\n",
    "        except TypeError:\n",
    "            print(c)"
   ]
  },
  {
   "cell_type": "code",
   "execution_count": 25,
   "metadata": {
    "pycharm": {
     "name": "#%%\n"
    }
   },
   "outputs": [
    {
     "data": {
      "text/html": [
       "<div>\n",
       "<style scoped>\n",
       "    .dataframe tbody tr th:only-of-type {\n",
       "        vertical-align: middle;\n",
       "    }\n",
       "\n",
       "    .dataframe tbody tr th {\n",
       "        vertical-align: top;\n",
       "    }\n",
       "\n",
       "    .dataframe thead th {\n",
       "        text-align: right;\n",
       "    }\n",
       "</style>\n",
       "<table border=\"1\" class=\"dataframe\">\n",
       "  <thead>\n",
       "    <tr style=\"text-align: right;\">\n",
       "      <th></th>\n",
       "      <th>gmax</th>\n",
       "      <th>dtmax</th>\n",
       "      <th>dtfirst</th>\n",
       "      <th>gfirst</th>\n",
       "      <th>dtlast</th>\n",
       "      <th>glast</th>\n",
       "      <th>sunrise</th>\n",
       "      <th>sunset</th>\n",
       "      <th>transit</th>\n",
       "    </tr>\n",
       "    <tr>\n",
       "      <th>date</th>\n",
       "      <th></th>\n",
       "      <th></th>\n",
       "      <th></th>\n",
       "      <th></th>\n",
       "      <th></th>\n",
       "      <th></th>\n",
       "      <th></th>\n",
       "      <th></th>\n",
       "      <th></th>\n",
       "    </tr>\n",
       "  </thead>\n",
       "  <tbody>\n",
       "    <tr>\n",
       "      <th>2016-11-09</th>\n",
       "      <td>910.0</td>\n",
       "      <td>2016-11-09 12:00:00</td>\n",
       "      <td>2016-11-09 07:05:00</td>\n",
       "      <td>42.0</td>\n",
       "      <td>2016-11-09 16:10:00</td>\n",
       "      <td>26.0</td>\n",
       "      <td>2016-11-09 06:53:16.370965760+01:00</td>\n",
       "      <td>2016-11-09 16:55:33.662146816+01:00</td>\n",
       "      <td>2016-11-09 11:54:39.284754688+01:00</td>\n",
       "    </tr>\n",
       "    <tr>\n",
       "      <th>2016-11-10</th>\n",
       "      <td>874.0</td>\n",
       "      <td>2016-11-10 12:25:00</td>\n",
       "      <td>2016-11-10 07:20:00</td>\n",
       "      <td>22.0</td>\n",
       "      <td>2016-11-10 16:35:00</td>\n",
       "      <td>22.0</td>\n",
       "      <td>2016-11-10 06:54:30.082078720+01:00</td>\n",
       "      <td>2016-11-10 16:54:32.147255296+01:00</td>\n",
       "      <td>2016-11-10 11:54:45.140632576+01:00</td>\n",
       "    </tr>\n",
       "    <tr>\n",
       "      <th>2016-11-11</th>\n",
       "      <td>866.0</td>\n",
       "      <td>2016-11-11 13:30:00</td>\n",
       "      <td>2016-11-11 07:20:00</td>\n",
       "      <td>52.0</td>\n",
       "      <td>2016-11-11 16:30:00</td>\n",
       "      <td>48.0</td>\n",
       "      <td>2016-11-11 06:55:43.709738496+01:00</td>\n",
       "      <td>2016-11-11 16:53:32.390592768+01:00</td>\n",
       "      <td>2016-11-11 11:54:51.828773376+01:00</td>\n",
       "    </tr>\n",
       "    <tr>\n",
       "      <th>2016-11-12</th>\n",
       "      <td>862.0</td>\n",
       "      <td>2016-11-12 10:55:00</td>\n",
       "      <td>2016-11-12 07:10:00</td>\n",
       "      <td>26.0</td>\n",
       "      <td>2016-11-12 16:40:00</td>\n",
       "      <td>36.0</td>\n",
       "      <td>2016-11-12 06:56:57.222740480+01:00</td>\n",
       "      <td>2016-11-12 16:52:34.430926336+01:00</td>\n",
       "      <td>2016-11-12 11:54:59.353043968+01:00</td>\n",
       "    </tr>\n",
       "    <tr>\n",
       "      <th>2016-11-13</th>\n",
       "      <td>794.0</td>\n",
       "      <td>2016-11-13 12:35:00</td>\n",
       "      <td>2016-11-13 07:10:00</td>\n",
       "      <td>36.0</td>\n",
       "      <td>2016-11-13 15:50:00</td>\n",
       "      <td>24.0</td>\n",
       "      <td>2016-11-13 06:58:10.589783808+01:00</td>\n",
       "      <td>2016-11-13 16:51:38.306634496+01:00</td>\n",
       "      <td>2016-11-13 11:55:07.717057280+01:00</td>\n",
       "    </tr>\n",
       "    <tr>\n",
       "      <th>...</th>\n",
       "      <td>...</td>\n",
       "      <td>...</td>\n",
       "      <td>...</td>\n",
       "      <td>...</td>\n",
       "      <td>...</td>\n",
       "      <td>...</td>\n",
       "      <td>...</td>\n",
       "      <td>...</td>\n",
       "      <td>...</td>\n",
       "    </tr>\n",
       "    <tr>\n",
       "      <th>2019-03-15</th>\n",
       "      <td>952.0</td>\n",
       "      <td>2019-03-15 12:15:00</td>\n",
       "      <td>2019-03-15 06:45:00</td>\n",
       "      <td>44.0</td>\n",
       "      <td>2019-03-15 17:25:00</td>\n",
       "      <td>52.0</td>\n",
       "      <td>2019-03-15 06:23:27.784808960+01:00</td>\n",
       "      <td>2019-03-15 18:16:51.773409024+01:00</td>\n",
       "      <td>2019-03-15 12:19:48.785765888+01:00</td>\n",
       "    </tr>\n",
       "    <tr>\n",
       "      <th>2019-03-16</th>\n",
       "      <td>836.0</td>\n",
       "      <td>2019-03-16 14:25:00</td>\n",
       "      <td>2019-03-16 07:35:00</td>\n",
       "      <td>46.0</td>\n",
       "      <td>2019-03-16 17:50:00</td>\n",
       "      <td>42.0</td>\n",
       "      <td>2019-03-16 06:21:46.103023616+01:00</td>\n",
       "      <td>2019-03-16 18:17:59.766371328+01:00</td>\n",
       "      <td>2019-03-16 12:19:31.852552960+01:00</td>\n",
       "    </tr>\n",
       "    <tr>\n",
       "      <th>2019-03-17</th>\n",
       "      <td>1298.0</td>\n",
       "      <td>2019-03-17 11:20:00</td>\n",
       "      <td>2019-03-17 07:15:00</td>\n",
       "      <td>46.0</td>\n",
       "      <td>2019-03-17 17:40:00</td>\n",
       "      <td>48.0</td>\n",
       "      <td>2019-03-17 06:20:04.167721472+01:00</td>\n",
       "      <td>2019-03-17 18:19:07.544065536+01:00</td>\n",
       "      <td>2019-03-17 12:19:14.687570176+01:00</td>\n",
       "    </tr>\n",
       "    <tr>\n",
       "      <th>2019-03-18</th>\n",
       "      <td>1210.0</td>\n",
       "      <td>2019-03-18 12:00:00</td>\n",
       "      <td>2019-03-18 06:45:00</td>\n",
       "      <td>48.0</td>\n",
       "      <td>2019-03-18 17:20:00</td>\n",
       "      <td>44.0</td>\n",
       "      <td>2019-03-18 06:18:22.012542464+01:00</td>\n",
       "      <td>2019-03-18 18:20:15.119915008+01:00</td>\n",
       "      <td>2019-03-18 12:18:57.314189312+01:00</td>\n",
       "    </tr>\n",
       "    <tr>\n",
       "      <th>2019-03-19</th>\n",
       "      <td>912.0</td>\n",
       "      <td>2019-03-19 09:55:00</td>\n",
       "      <td>2019-03-19 06:55:00</td>\n",
       "      <td>46.0</td>\n",
       "      <td>2019-03-19 15:45:00</td>\n",
       "      <td>278.0</td>\n",
       "      <td>2019-03-19 06:16:39.671441408+01:00</td>\n",
       "      <td>2019-03-19 18:21:22.509419520+01:00</td>\n",
       "      <td>2019-03-19 12:18:39.756958208+01:00</td>\n",
       "    </tr>\n",
       "  </tbody>\n",
       "</table>\n",
       "<p>782 rows × 9 columns</p>\n",
       "</div>"
      ],
      "text/plain": [
       "              gmax               dtmax             dtfirst  gfirst  \\\n",
       "date                                                                 \n",
       "2016-11-09   910.0 2016-11-09 12:00:00 2016-11-09 07:05:00    42.0   \n",
       "2016-11-10   874.0 2016-11-10 12:25:00 2016-11-10 07:20:00    22.0   \n",
       "2016-11-11   866.0 2016-11-11 13:30:00 2016-11-11 07:20:00    52.0   \n",
       "2016-11-12   862.0 2016-11-12 10:55:00 2016-11-12 07:10:00    26.0   \n",
       "2016-11-13   794.0 2016-11-13 12:35:00 2016-11-13 07:10:00    36.0   \n",
       "...            ...                 ...                 ...     ...   \n",
       "2019-03-15   952.0 2019-03-15 12:15:00 2019-03-15 06:45:00    44.0   \n",
       "2019-03-16   836.0 2019-03-16 14:25:00 2019-03-16 07:35:00    46.0   \n",
       "2019-03-17  1298.0 2019-03-17 11:20:00 2019-03-17 07:15:00    46.0   \n",
       "2019-03-18  1210.0 2019-03-18 12:00:00 2019-03-18 06:45:00    48.0   \n",
       "2019-03-19   912.0 2019-03-19 09:55:00 2019-03-19 06:55:00    46.0   \n",
       "\n",
       "                        dtlast  glast                             sunrise  \\\n",
       "date                                                                        \n",
       "2016-11-09 2016-11-09 16:10:00   26.0 2016-11-09 06:53:16.370965760+01:00   \n",
       "2016-11-10 2016-11-10 16:35:00   22.0 2016-11-10 06:54:30.082078720+01:00   \n",
       "2016-11-11 2016-11-11 16:30:00   48.0 2016-11-11 06:55:43.709738496+01:00   \n",
       "2016-11-12 2016-11-12 16:40:00   36.0 2016-11-12 06:56:57.222740480+01:00   \n",
       "2016-11-13 2016-11-13 15:50:00   24.0 2016-11-13 06:58:10.589783808+01:00   \n",
       "...                        ...    ...                                 ...   \n",
       "2019-03-15 2019-03-15 17:25:00   52.0 2019-03-15 06:23:27.784808960+01:00   \n",
       "2019-03-16 2019-03-16 17:50:00   42.0 2019-03-16 06:21:46.103023616+01:00   \n",
       "2019-03-17 2019-03-17 17:40:00   48.0 2019-03-17 06:20:04.167721472+01:00   \n",
       "2019-03-18 2019-03-18 17:20:00   44.0 2019-03-18 06:18:22.012542464+01:00   \n",
       "2019-03-19 2019-03-19 15:45:00  278.0 2019-03-19 06:16:39.671441408+01:00   \n",
       "\n",
       "                                        sunset  \\\n",
       "date                                             \n",
       "2016-11-09 2016-11-09 16:55:33.662146816+01:00   \n",
       "2016-11-10 2016-11-10 16:54:32.147255296+01:00   \n",
       "2016-11-11 2016-11-11 16:53:32.390592768+01:00   \n",
       "2016-11-12 2016-11-12 16:52:34.430926336+01:00   \n",
       "2016-11-13 2016-11-13 16:51:38.306634496+01:00   \n",
       "...                                        ...   \n",
       "2019-03-15 2019-03-15 18:16:51.773409024+01:00   \n",
       "2019-03-16 2019-03-16 18:17:59.766371328+01:00   \n",
       "2019-03-17 2019-03-17 18:19:07.544065536+01:00   \n",
       "2019-03-18 2019-03-18 18:20:15.119915008+01:00   \n",
       "2019-03-19 2019-03-19 18:21:22.509419520+01:00   \n",
       "\n",
       "                                       transit  \n",
       "date                                            \n",
       "2016-11-09 2016-11-09 11:54:39.284754688+01:00  \n",
       "2016-11-10 2016-11-10 11:54:45.140632576+01:00  \n",
       "2016-11-11 2016-11-11 11:54:51.828773376+01:00  \n",
       "2016-11-12 2016-11-12 11:54:59.353043968+01:00  \n",
       "2016-11-13 2016-11-13 11:55:07.717057280+01:00  \n",
       "...                                        ...  \n",
       "2019-03-15 2019-03-15 12:19:48.785765888+01:00  \n",
       "2019-03-16 2019-03-16 12:19:31.852552960+01:00  \n",
       "2019-03-17 2019-03-17 12:19:14.687570176+01:00  \n",
       "2019-03-18 2019-03-18 12:18:57.314189312+01:00  \n",
       "2019-03-19 2019-03-19 12:18:39.756958208+01:00  \n",
       "\n",
       "[782 rows x 9 columns]"
      ]
     },
     "execution_count": 25,
     "metadata": {},
     "output_type": "execute_result"
    }
   ],
   "source": [
    "df_mm_tz = df_mm_tz.merge(srst, left_index=True, right_index=True, how='inner')\n",
    "df_mm_tz"
   ]
  },
  {
   "cell_type": "code",
   "execution_count": 26,
   "metadata": {
    "pycharm": {
     "name": "#%%\n"
    }
   },
   "outputs": [
    {
     "data": {
      "text/plain": [
       "Index(['gmax', 'dtmax', 'dtfirst', 'gfirst', 'dtlast', 'glast', 'sunrise',\n",
       "       'sunset', 'transit'],\n",
       "      dtype='object')"
      ]
     },
     "execution_count": 26,
     "metadata": {},
     "output_type": "execute_result"
    }
   ],
   "source": [
    "df_mm_tz.rename(columns={'gmaxdt':'dtmax'},inplace=True)\n",
    "df_mm_tz.columns"
   ]
  },
  {
   "cell_type": "markdown",
   "metadata": {
    "pycharm": {
     "name": "#%% md\n"
    }
   },
   "source": [
    "#daylight\n",
    "df_mm_tz[\"delay_first_dl_h\"] = (df_mm_tz[\"dtfirst\"]-df_mm_tz[\"sunrise\"]\n",
    "df_mm_tz[\"delay_last_dl_h\"] = df_mm_tz[\"dtlast\"]-df_mm_tz[\"sunset\"]\n",
    "df_mm_tz[\"delay_transit_h\"] = df_mm_tz[\"dtmax\"]-df_mm_tz[\"transit\"]\n",
    "df_mm_tz.describe()"
   ]
  },
  {
   "cell_type": "code",
   "execution_count": 27,
   "metadata": {
    "pycharm": {
     "name": "#%%\n"
    }
   },
   "outputs": [
    {
     "ename": "TypeError",
     "evalue": "Timestamp subtraction must have the same timezones or no timezones",
     "output_type": "error",
     "traceback": [
      "\u001b[1;31m---------------------------------------------------------------------------\u001b[0m",
      "\u001b[1;31mTypeError\u001b[0m                                 Traceback (most recent call last)",
      "\u001b[1;32m<ipython-input-27-f93806dd4198>\u001b[0m in \u001b[0;36m<module>\u001b[1;34m\u001b[0m\n\u001b[0;32m      1\u001b[0m \u001b[1;31m#overview valid only for south oriented\u001b[0m\u001b[1;33m\u001b[0m\u001b[1;33m\u001b[0m\u001b[1;33m\u001b[0m\u001b[0m\n\u001b[1;32m----> 2\u001b[1;33m \u001b[0mdf_mm_tz\u001b[0m\u001b[1;33m[\u001b[0m\u001b[1;34m\"delay_first_dl_h\"\u001b[0m\u001b[1;33m]\u001b[0m \u001b[1;33m=\u001b[0m \u001b[0mdf_mm_tz\u001b[0m\u001b[1;33m.\u001b[0m\u001b[0mapply\u001b[0m\u001b[1;33m(\u001b[0m\u001b[1;32mlambda\u001b[0m \u001b[0mx\u001b[0m\u001b[1;33m:\u001b[0m \u001b[1;33m(\u001b[0m\u001b[0mx\u001b[0m\u001b[1;33m[\u001b[0m\u001b[1;34m\"dtfirst\"\u001b[0m\u001b[1;33m]\u001b[0m\u001b[1;33m-\u001b[0m\u001b[0mx\u001b[0m\u001b[1;33m[\u001b[0m\u001b[1;34m\"sunrise\"\u001b[0m\u001b[1;33m]\u001b[0m\u001b[1;33m)\u001b[0m\u001b[1;33m.\u001b[0m\u001b[0mtotal_seconds\u001b[0m\u001b[1;33m(\u001b[0m\u001b[1;33m)\u001b[0m\u001b[1;33m/\u001b[0m\u001b[1;36m3600\u001b[0m\u001b[1;33m,\u001b[0m \u001b[0maxis\u001b[0m\u001b[1;33m=\u001b[0m\u001b[1;36m1\u001b[0m\u001b[1;33m)\u001b[0m\u001b[1;33m\u001b[0m\u001b[1;33m\u001b[0m\u001b[0m\n\u001b[0m\u001b[0;32m      3\u001b[0m \u001b[0mdf_mm_tz\u001b[0m\u001b[1;33m[\u001b[0m\u001b[1;34m\"delay_last_dl_h\"\u001b[0m\u001b[1;33m]\u001b[0m \u001b[1;33m=\u001b[0m \u001b[0mdf_mm_tz\u001b[0m\u001b[1;33m.\u001b[0m\u001b[0mapply\u001b[0m\u001b[1;33m(\u001b[0m\u001b[1;32mlambda\u001b[0m \u001b[0mx\u001b[0m\u001b[1;33m:\u001b[0m \u001b[1;33m(\u001b[0m\u001b[0mx\u001b[0m\u001b[1;33m[\u001b[0m\u001b[1;34m\"dtlast\"\u001b[0m\u001b[1;33m]\u001b[0m\u001b[1;33m-\u001b[0m\u001b[0mx\u001b[0m\u001b[1;33m[\u001b[0m\u001b[1;34m\"sunset\"\u001b[0m\u001b[1;33m]\u001b[0m\u001b[1;33m)\u001b[0m\u001b[1;33m.\u001b[0m\u001b[0mtotal_seconds\u001b[0m\u001b[1;33m(\u001b[0m\u001b[1;33m)\u001b[0m\u001b[1;33m/\u001b[0m\u001b[1;36m3600\u001b[0m\u001b[1;33m,\u001b[0m \u001b[0maxis\u001b[0m\u001b[1;33m=\u001b[0m\u001b[1;36m1\u001b[0m\u001b[1;33m)\u001b[0m\u001b[1;33m\u001b[0m\u001b[1;33m\u001b[0m\u001b[0m\n\u001b[0;32m      4\u001b[0m \u001b[0mdf_mm_tz\u001b[0m\u001b[1;33m[\u001b[0m\u001b[1;34m\"delay_transit_h\"\u001b[0m\u001b[1;33m]\u001b[0m \u001b[1;33m=\u001b[0m \u001b[0mdf_mm_tz\u001b[0m\u001b[1;33m.\u001b[0m\u001b[0mapply\u001b[0m\u001b[1;33m(\u001b[0m\u001b[1;32mlambda\u001b[0m \u001b[0mx\u001b[0m\u001b[1;33m:\u001b[0m \u001b[1;33m(\u001b[0m\u001b[0mx\u001b[0m\u001b[1;33m[\u001b[0m\u001b[1;34m\"dtmax\"\u001b[0m\u001b[1;33m]\u001b[0m\u001b[1;33m-\u001b[0m\u001b[0mx\u001b[0m\u001b[1;33m[\u001b[0m\u001b[1;34m\"transit\"\u001b[0m\u001b[1;33m]\u001b[0m\u001b[1;33m)\u001b[0m\u001b[1;33m.\u001b[0m\u001b[0mtotal_seconds\u001b[0m\u001b[1;33m(\u001b[0m\u001b[1;33m)\u001b[0m\u001b[1;33m/\u001b[0m\u001b[1;36m3600\u001b[0m\u001b[1;33m,\u001b[0m \u001b[0maxis\u001b[0m\u001b[1;33m=\u001b[0m\u001b[1;36m1\u001b[0m\u001b[1;33m)\u001b[0m\u001b[1;33m\u001b[0m\u001b[1;33m\u001b[0m\u001b[0m\n\u001b[0;32m      5\u001b[0m \u001b[0mdf_mm_tz\u001b[0m\u001b[1;33m[\u001b[0m\u001b[1;33m[\u001b[0m\u001b[0mc\u001b[0m \u001b[1;32mfor\u001b[0m \u001b[0mc\u001b[0m \u001b[1;32min\u001b[0m \u001b[0mdf_mm_tz\u001b[0m\u001b[1;33m]\u001b[0m\u001b[1;33m]\u001b[0m\u001b[1;33m.\u001b[0m\u001b[0mdescribe\u001b[0m\u001b[1;33m(\u001b[0m\u001b[1;33m)\u001b[0m\u001b[1;33m\u001b[0m\u001b[1;33m\u001b[0m\u001b[0m\n",
      "\u001b[1;32mc:\\users\\wsfm\\onedrive - loughborough university\\_personal_backup\\python_repositories\\venv\\lib\\site-packages\\pandas\\core\\frame.py\u001b[0m in \u001b[0;36mapply\u001b[1;34m(self, func, axis, raw, result_type, args, **kwds)\u001b[0m\n\u001b[0;32m   7550\u001b[0m             \u001b[0mkwds\u001b[0m\u001b[1;33m=\u001b[0m\u001b[0mkwds\u001b[0m\u001b[1;33m,\u001b[0m\u001b[1;33m\u001b[0m\u001b[1;33m\u001b[0m\u001b[0m\n\u001b[0;32m   7551\u001b[0m         )\n\u001b[1;32m-> 7552\u001b[1;33m         \u001b[1;32mreturn\u001b[0m \u001b[0mop\u001b[0m\u001b[1;33m.\u001b[0m\u001b[0mget_result\u001b[0m\u001b[1;33m(\u001b[0m\u001b[1;33m)\u001b[0m\u001b[1;33m\u001b[0m\u001b[1;33m\u001b[0m\u001b[0m\n\u001b[0m\u001b[0;32m   7553\u001b[0m \u001b[1;33m\u001b[0m\u001b[0m\n\u001b[0;32m   7554\u001b[0m     \u001b[1;32mdef\u001b[0m \u001b[0mapplymap\u001b[0m\u001b[1;33m(\u001b[0m\u001b[0mself\u001b[0m\u001b[1;33m,\u001b[0m \u001b[0mfunc\u001b[0m\u001b[1;33m)\u001b[0m \u001b[1;33m->\u001b[0m \u001b[1;34m\"DataFrame\"\u001b[0m\u001b[1;33m:\u001b[0m\u001b[1;33m\u001b[0m\u001b[1;33m\u001b[0m\u001b[0m\n",
      "\u001b[1;32mc:\\users\\wsfm\\onedrive - loughborough university\\_personal_backup\\python_repositories\\venv\\lib\\site-packages\\pandas\\core\\apply.py\u001b[0m in \u001b[0;36mget_result\u001b[1;34m(self)\u001b[0m\n\u001b[0;32m    178\u001b[0m             \u001b[1;32mreturn\u001b[0m \u001b[0mself\u001b[0m\u001b[1;33m.\u001b[0m\u001b[0mapply_raw\u001b[0m\u001b[1;33m(\u001b[0m\u001b[1;33m)\u001b[0m\u001b[1;33m\u001b[0m\u001b[1;33m\u001b[0m\u001b[0m\n\u001b[0;32m    179\u001b[0m \u001b[1;33m\u001b[0m\u001b[0m\n\u001b[1;32m--> 180\u001b[1;33m         \u001b[1;32mreturn\u001b[0m \u001b[0mself\u001b[0m\u001b[1;33m.\u001b[0m\u001b[0mapply_standard\u001b[0m\u001b[1;33m(\u001b[0m\u001b[1;33m)\u001b[0m\u001b[1;33m\u001b[0m\u001b[1;33m\u001b[0m\u001b[0m\n\u001b[0m\u001b[0;32m    181\u001b[0m \u001b[1;33m\u001b[0m\u001b[0m\n\u001b[0;32m    182\u001b[0m     \u001b[1;32mdef\u001b[0m \u001b[0mapply_empty_result\u001b[0m\u001b[1;33m(\u001b[0m\u001b[0mself\u001b[0m\u001b[1;33m)\u001b[0m\u001b[1;33m:\u001b[0m\u001b[1;33m\u001b[0m\u001b[1;33m\u001b[0m\u001b[0m\n",
      "\u001b[1;32mc:\\users\\wsfm\\onedrive - loughborough university\\_personal_backup\\python_repositories\\venv\\lib\\site-packages\\pandas\\core\\apply.py\u001b[0m in \u001b[0;36mapply_standard\u001b[1;34m(self)\u001b[0m\n\u001b[0;32m    269\u001b[0m \u001b[1;33m\u001b[0m\u001b[0m\n\u001b[0;32m    270\u001b[0m     \u001b[1;32mdef\u001b[0m \u001b[0mapply_standard\u001b[0m\u001b[1;33m(\u001b[0m\u001b[0mself\u001b[0m\u001b[1;33m)\u001b[0m\u001b[1;33m:\u001b[0m\u001b[1;33m\u001b[0m\u001b[1;33m\u001b[0m\u001b[0m\n\u001b[1;32m--> 271\u001b[1;33m         \u001b[0mresults\u001b[0m\u001b[1;33m,\u001b[0m \u001b[0mres_index\u001b[0m \u001b[1;33m=\u001b[0m \u001b[0mself\u001b[0m\u001b[1;33m.\u001b[0m\u001b[0mapply_series_generator\u001b[0m\u001b[1;33m(\u001b[0m\u001b[1;33m)\u001b[0m\u001b[1;33m\u001b[0m\u001b[1;33m\u001b[0m\u001b[0m\n\u001b[0m\u001b[0;32m    272\u001b[0m \u001b[1;33m\u001b[0m\u001b[0m\n\u001b[0;32m    273\u001b[0m         \u001b[1;31m# wrap results\u001b[0m\u001b[1;33m\u001b[0m\u001b[1;33m\u001b[0m\u001b[1;33m\u001b[0m\u001b[0m\n",
      "\u001b[1;32mc:\\users\\wsfm\\onedrive - loughborough university\\_personal_backup\\python_repositories\\venv\\lib\\site-packages\\pandas\\core\\apply.py\u001b[0m in \u001b[0;36mapply_series_generator\u001b[1;34m(self)\u001b[0m\n\u001b[0;32m    298\u001b[0m                 \u001b[1;32mfor\u001b[0m \u001b[0mi\u001b[0m\u001b[1;33m,\u001b[0m \u001b[0mv\u001b[0m \u001b[1;32min\u001b[0m \u001b[0menumerate\u001b[0m\u001b[1;33m(\u001b[0m\u001b[0mseries_gen\u001b[0m\u001b[1;33m)\u001b[0m\u001b[1;33m:\u001b[0m\u001b[1;33m\u001b[0m\u001b[1;33m\u001b[0m\u001b[0m\n\u001b[0;32m    299\u001b[0m                     \u001b[1;31m# ignore SettingWithCopy here in case the user mutates\u001b[0m\u001b[1;33m\u001b[0m\u001b[1;33m\u001b[0m\u001b[1;33m\u001b[0m\u001b[0m\n\u001b[1;32m--> 300\u001b[1;33m                     \u001b[0mresults\u001b[0m\u001b[1;33m[\u001b[0m\u001b[0mi\u001b[0m\u001b[1;33m]\u001b[0m \u001b[1;33m=\u001b[0m \u001b[0mself\u001b[0m\u001b[1;33m.\u001b[0m\u001b[0mf\u001b[0m\u001b[1;33m(\u001b[0m\u001b[0mv\u001b[0m\u001b[1;33m)\u001b[0m\u001b[1;33m\u001b[0m\u001b[1;33m\u001b[0m\u001b[0m\n\u001b[0m\u001b[0;32m    301\u001b[0m                     \u001b[1;32mif\u001b[0m \u001b[0misinstance\u001b[0m\u001b[1;33m(\u001b[0m\u001b[0mresults\u001b[0m\u001b[1;33m[\u001b[0m\u001b[0mi\u001b[0m\u001b[1;33m]\u001b[0m\u001b[1;33m,\u001b[0m \u001b[0mABCSeries\u001b[0m\u001b[1;33m)\u001b[0m\u001b[1;33m:\u001b[0m\u001b[1;33m\u001b[0m\u001b[1;33m\u001b[0m\u001b[0m\n\u001b[0;32m    302\u001b[0m                         \u001b[1;31m# If we have a view on v, we need to make a copy because\u001b[0m\u001b[1;33m\u001b[0m\u001b[1;33m\u001b[0m\u001b[1;33m\u001b[0m\u001b[0m\n",
      "\u001b[1;32m<ipython-input-27-f93806dd4198>\u001b[0m in \u001b[0;36m<lambda>\u001b[1;34m(x)\u001b[0m\n\u001b[0;32m      1\u001b[0m \u001b[1;31m#overview valid only for south oriented\u001b[0m\u001b[1;33m\u001b[0m\u001b[1;33m\u001b[0m\u001b[1;33m\u001b[0m\u001b[0m\n\u001b[1;32m----> 2\u001b[1;33m \u001b[0mdf_mm_tz\u001b[0m\u001b[1;33m[\u001b[0m\u001b[1;34m\"delay_first_dl_h\"\u001b[0m\u001b[1;33m]\u001b[0m \u001b[1;33m=\u001b[0m \u001b[0mdf_mm_tz\u001b[0m\u001b[1;33m.\u001b[0m\u001b[0mapply\u001b[0m\u001b[1;33m(\u001b[0m\u001b[1;32mlambda\u001b[0m \u001b[0mx\u001b[0m\u001b[1;33m:\u001b[0m \u001b[1;33m(\u001b[0m\u001b[0mx\u001b[0m\u001b[1;33m[\u001b[0m\u001b[1;34m\"dtfirst\"\u001b[0m\u001b[1;33m]\u001b[0m\u001b[1;33m-\u001b[0m\u001b[0mx\u001b[0m\u001b[1;33m[\u001b[0m\u001b[1;34m\"sunrise\"\u001b[0m\u001b[1;33m]\u001b[0m\u001b[1;33m)\u001b[0m\u001b[1;33m.\u001b[0m\u001b[0mtotal_seconds\u001b[0m\u001b[1;33m(\u001b[0m\u001b[1;33m)\u001b[0m\u001b[1;33m/\u001b[0m\u001b[1;36m3600\u001b[0m\u001b[1;33m,\u001b[0m \u001b[0maxis\u001b[0m\u001b[1;33m=\u001b[0m\u001b[1;36m1\u001b[0m\u001b[1;33m)\u001b[0m\u001b[1;33m\u001b[0m\u001b[1;33m\u001b[0m\u001b[0m\n\u001b[0m\u001b[0;32m      3\u001b[0m \u001b[0mdf_mm_tz\u001b[0m\u001b[1;33m[\u001b[0m\u001b[1;34m\"delay_last_dl_h\"\u001b[0m\u001b[1;33m]\u001b[0m \u001b[1;33m=\u001b[0m \u001b[0mdf_mm_tz\u001b[0m\u001b[1;33m.\u001b[0m\u001b[0mapply\u001b[0m\u001b[1;33m(\u001b[0m\u001b[1;32mlambda\u001b[0m \u001b[0mx\u001b[0m\u001b[1;33m:\u001b[0m \u001b[1;33m(\u001b[0m\u001b[0mx\u001b[0m\u001b[1;33m[\u001b[0m\u001b[1;34m\"dtlast\"\u001b[0m\u001b[1;33m]\u001b[0m\u001b[1;33m-\u001b[0m\u001b[0mx\u001b[0m\u001b[1;33m[\u001b[0m\u001b[1;34m\"sunset\"\u001b[0m\u001b[1;33m]\u001b[0m\u001b[1;33m)\u001b[0m\u001b[1;33m.\u001b[0m\u001b[0mtotal_seconds\u001b[0m\u001b[1;33m(\u001b[0m\u001b[1;33m)\u001b[0m\u001b[1;33m/\u001b[0m\u001b[1;36m3600\u001b[0m\u001b[1;33m,\u001b[0m \u001b[0maxis\u001b[0m\u001b[1;33m=\u001b[0m\u001b[1;36m1\u001b[0m\u001b[1;33m)\u001b[0m\u001b[1;33m\u001b[0m\u001b[1;33m\u001b[0m\u001b[0m\n\u001b[0;32m      4\u001b[0m \u001b[0mdf_mm_tz\u001b[0m\u001b[1;33m[\u001b[0m\u001b[1;34m\"delay_transit_h\"\u001b[0m\u001b[1;33m]\u001b[0m \u001b[1;33m=\u001b[0m \u001b[0mdf_mm_tz\u001b[0m\u001b[1;33m.\u001b[0m\u001b[0mapply\u001b[0m\u001b[1;33m(\u001b[0m\u001b[1;32mlambda\u001b[0m \u001b[0mx\u001b[0m\u001b[1;33m:\u001b[0m \u001b[1;33m(\u001b[0m\u001b[0mx\u001b[0m\u001b[1;33m[\u001b[0m\u001b[1;34m\"dtmax\"\u001b[0m\u001b[1;33m]\u001b[0m\u001b[1;33m-\u001b[0m\u001b[0mx\u001b[0m\u001b[1;33m[\u001b[0m\u001b[1;34m\"transit\"\u001b[0m\u001b[1;33m]\u001b[0m\u001b[1;33m)\u001b[0m\u001b[1;33m.\u001b[0m\u001b[0mtotal_seconds\u001b[0m\u001b[1;33m(\u001b[0m\u001b[1;33m)\u001b[0m\u001b[1;33m/\u001b[0m\u001b[1;36m3600\u001b[0m\u001b[1;33m,\u001b[0m \u001b[0maxis\u001b[0m\u001b[1;33m=\u001b[0m\u001b[1;36m1\u001b[0m\u001b[1;33m)\u001b[0m\u001b[1;33m\u001b[0m\u001b[1;33m\u001b[0m\u001b[0m\n\u001b[0;32m      5\u001b[0m \u001b[0mdf_mm_tz\u001b[0m\u001b[1;33m[\u001b[0m\u001b[1;33m[\u001b[0m\u001b[0mc\u001b[0m \u001b[1;32mfor\u001b[0m \u001b[0mc\u001b[0m \u001b[1;32min\u001b[0m \u001b[0mdf_mm_tz\u001b[0m\u001b[1;33m]\u001b[0m\u001b[1;33m]\u001b[0m\u001b[1;33m.\u001b[0m\u001b[0mdescribe\u001b[0m\u001b[1;33m(\u001b[0m\u001b[1;33m)\u001b[0m\u001b[1;33m\u001b[0m\u001b[1;33m\u001b[0m\u001b[0m\n",
      "\u001b[1;32mpandas\\_libs\\tslibs\\timestamps.pyx\u001b[0m in \u001b[0;36mpandas._libs.tslibs.timestamps._Timestamp.__sub__\u001b[1;34m()\u001b[0m\n",
      "\u001b[1;31mTypeError\u001b[0m: Timestamp subtraction must have the same timezones or no timezones"
     ]
    }
   ],
   "source": [
    "#overview valid only for south oriented\n",
    "df_mm_tz[\"delay_first_dl_h\"] = df_mm_tz.apply(lambda x: (x[\"dtfirst\"]-x[\"sunrise\"]).total_seconds()/3600, axis=1)\n",
    "df_mm_tz[\"delay_last_dl_h\"] = df_mm_tz.apply(lambda x: (x[\"dtlast\"]-x[\"sunset\"]).total_seconds()/3600, axis=1)\n",
    "df_mm_tz[\"delay_transit_h\"] = df_mm_tz.apply(lambda x: (x[\"dtmax\"]-x[\"transit\"]).total_seconds()/3600, axis=1)\n",
    "df_mm_tz[[c for c in df_mm_tz]].describe()"
   ]
  },
  {
   "cell_type": "code",
   "execution_count": null,
   "metadata": {
    "pycharm": {
     "name": "#%%\n"
    }
   },
   "outputs": [],
   "source": [
    "df_mm_tz.drop(columns=[c for c in df_mm_tz.columns if \"delay\" in c], inplace=True)"
   ]
  },
  {
   "cell_type": "markdown",
   "metadata": {
    "pycharm": {
     "name": "#%% md\n"
    }
   },
   "source": [
    "print(sl_rm.timezone)\n",
    "datetimeindex = df_rm1c.index\n",
    "srst = sl_rm.getsunrisesettransit(datetimeindex)"
   ]
  },
  {
   "cell_type": "markdown",
   "metadata": {
    "pycharm": {
     "name": "#%% md\n"
    }
   },
   "source": [
    "    # one hour shift found from graph max thus applied back\n",
    "df_rm1c.index = df_rm1c.index.shift(periods=-1,freq=datetime.timedelta(seconds=int(60*60)))\n",
    "dly_rm1c = dtop.datacompleteness(df_rm1c.gpoa, time_resolution_s_max=3600)"
   ]
  },
  {
   "cell_type": "code",
   "execution_count": null,
   "metadata": {
    "pycharm": {
     "name": "#%%\n"
    }
   },
   "outputs": [],
   "source": [
    "if execute:\n",
    "    df_rm4 = pd.read_csv(filepath_or_buffer=join(RM_FOLDER,RM_PYR_C4))\n",
    "    df_rm4c, df_duplicates4 = clean_df(df_rm4)\n",
    "    # one hour shift found from graph max thus applied back\n",
    "    df_rm4c.index = df_rm4c.index.shift(periods=-1,freq=datetime.timedelta(seconds=int(60*60)))\n",
    "    dly_rm4c = dtop.datacompleteness(df_rm4c.gpoa, time_resolution_s_max=3600)"
   ]
  },
  {
   "cell_type": "code",
   "execution_count": null,
   "metadata": {
    "pycharm": {
     "name": "#%%\n"
    }
   },
   "outputs": [],
   "source": [
    "if execute:\n",
    "### verified same min & max before using only one solar path\n",
    "    print(min(df_rm1c.dt), max(df_rm1c.dt))\n",
    "    print(min(df_rm4c.dt), max(df_rm4c.dt))"
   ]
  },
  {
   "cell_type": "code",
   "execution_count": null,
   "metadata": {
    "pycharm": {
     "name": "#%%\n"
    }
   },
   "outputs": [],
   "source": [
    "if execute:\n",
    "    dti = df_rm1c.index\n",
    "    #AmbiguousTimeError: 2017-10-29 02:00:00\n",
    "    #replace with nan since solar path only for visualisation\n",
    "    cs_dly_rm = get_sunpath_tz(dti= dti, sl=sl_rm, freq= \"min\")"
   ]
  },
  {
   "cell_type": "code",
   "execution_count": null,
   "metadata": {
    "pycharm": {
     "name": "#%%\n"
    }
   },
   "outputs": [],
   "source": [
    "if execute:\n",
    "    dly_rm1cs = dly_rm1c.merge(cs_dly_rm.loc[:, ['sun_on_h','sun_off_h', 'sun_max_h']], how='inner', left_index=True, right_index=True)\n",
    "    %store dly_rm1cs"
   ]
  },
  {
   "cell_type": "code",
   "execution_count": null,
   "metadata": {
    "pycharm": {
     "name": "#%%\n"
    }
   },
   "outputs": [],
   "source": [
    "if execute:\n",
    "    dly_rm4cs = dly_rm4c.merge(cs_dly_rm.loc[:, ['sun_on_h','sun_off_h', 'sun_max_h']], how='inner', left_index=True, right_index=True)\n",
    "    %store dly_rm4cs"
   ]
  },
  {
   "cell_type": "code",
   "execution_count": null,
   "metadata": {
    "pycharm": {
     "name": "#%%\n"
    }
   },
   "outputs": [],
   "source": [
    "title_rm1 = title_template % ((\"pyranometer A located in a solar farm in Lazio\"), min(dly_rm4cs.index), max(dly_rm4cs.index))\n",
    "plot_completeness(dly_rm1cs, title_rm1, before_hours_sum=True)"
   ]
  },
  {
   "cell_type": "code",
   "execution_count": null,
   "metadata": {
    "pycharm": {
     "name": "#%%\n"
    }
   },
   "outputs": [],
   "source": [
    "title_rm4 = title_template % ((\"pyranometer B located in a solar farm in Lazio\"), min(dly_rm4cs.index), max(dly_rm4cs.index))\n",
    "plot_completeness(dly_rm4cs, title_rm4, before_hours_sum=True, annotatation_min_hours=24,\n",
    "                  annotate_verticalshift=10)"
   ]
  },
  {
   "cell_type": "markdown",
   "metadata": {
    "pycharm": {
     "name": "#%% md\n"
    }
   },
   "source": [
    "<a id='eurac'></a>\n",
    "# PV system monitored at EURAC"
   ]
  },
  {
   "cell_type": "code",
   "execution_count": null,
   "metadata": {
    "pycharm": {
     "name": "#%%\n"
    }
   },
   "outputs": [],
   "source": [
    "if execute:\n",
    "    BZ_FOLDER=  r\"C:/Users/wsfm/OneDrive - Loughborough University/_Personal_Backup/BAYWARE/doc_shared/_ST/Bolzano/\"\n",
    "    BZ_PYR =\"20110201_20190228_pc_Si6.csv\"\n",
    "    df_bz = pd.read_csv(filepath_or_buffer=join(BZ_FOLDER,BZ_PYR))\n",
    "    df_bz.columns"
   ]
  },
  {
   "cell_type": "code",
   "execution_count": null,
   "metadata": {
    "pycharm": {
     "name": "#%%\n"
    }
   },
   "outputs": [],
   "source": [
    "if execute:\n",
    "    df_bz30c, df_duplicates30 = clean_df(df_bz.loc[:,[\"time\",\"CMP11_global_30\"]])"
   ]
  },
  {
   "cell_type": "code",
   "execution_count": null,
   "metadata": {
    "pycharm": {
     "name": "#%%\n"
    }
   },
   "outputs": [],
   "source": [
    "if execute:\n",
    "    dly_bz30c = dtop.datacompleteness(df_bz30c.gpoa, time_resolution_s_max=3600)"
   ]
  },
  {
   "cell_type": "code",
   "execution_count": null,
   "metadata": {
    "pycharm": {
     "name": "#%%\n"
    }
   },
   "outputs": [],
   "source": [
    "if execute:\n",
    "    sl_bz30= SolarLibrary_com(folder=BZ_FOLDER)\n",
    "    dti = df_bz30c.index\n",
    "    cs_dly_bz30 = sl_bz30.getsuninout(utc= dti, freq= \"min\")"
   ]
  },
  {
   "cell_type": "code",
   "execution_count": null,
   "metadata": {
    "pycharm": {
     "name": "#%%\n"
    }
   },
   "outputs": [],
   "source": [
    "if execute:\n",
    "    cs_dly_bz30 = add_hour(cs_dly_bz30)"
   ]
  },
  {
   "cell_type": "code",
   "execution_count": null,
   "metadata": {
    "pycharm": {
     "name": "#%%\n"
    }
   },
   "outputs": [],
   "source": [
    "if execute:\n",
    "    dly_bz30cs  = dly_bz30c.merge(cs_dly_bz30.loc[:, ['sun_on_h','sun_off_h']], how='inner', left_index=True, right_index=True)\n",
    "    #only until na starts\n",
    "    dly_bz30cs = dly_bz30cs[:max(dly_bz30cs.dropna().index)]\n",
    "    %store dly_bz30cs"
   ]
  },
  {
   "cell_type": "code",
   "execution_count": null,
   "metadata": {
    "pycharm": {
     "name": "#%%\n"
    }
   },
   "outputs": [],
   "source": [
    "title_bz30 = title_template % ((\"30 degree tilted pyranometer in Trentino Alto Adige\"),\n",
    "                               min(dly_bz30cs.index), max(dly_bz30cs.index))\n",
    "plot_completeness(dly_bz30cs , title_bz30, before_hours_sum=True, annotatation_min_hours=72, ydistmin=200,\n",
    "                  annotate_verticalshift=10)"
   ]
  },
  {
   "cell_type": "code",
   "execution_count": null,
   "metadata": {
    "pycharm": {
     "name": "#%%\n"
    }
   },
   "outputs": [],
   "source": [
    "if execute:\n",
    "    df_bz0c, df_duplicates0 = clean_df(df_bz.loc[:,[\"time\",\"CMP11_global_horiz\"]])"
   ]
  },
  {
   "cell_type": "code",
   "execution_count": null,
   "metadata": {
    "pycharm": {
     "name": "#%%\n"
    }
   },
   "outputs": [],
   "source": [
    "if execute:\n",
    "    dly_bz0c = dtop.datacompleteness(df_bz0c.gpoa, time_resolution_s_max=3600)"
   ]
  },
  {
   "cell_type": "code",
   "execution_count": null,
   "metadata": {
    "pycharm": {
     "name": "#%%\n"
    }
   },
   "outputs": [],
   "source": [
    "# import copy could be used in py\n",
    "if execute:\n",
    "    sl_bz0 = sl_bz30\n",
    "    sl_bz0.surface_zenith = 0\n",
    "    cs_dly_bz0 = sl_bz0.getsuninout(utc= dti, freq= \"min\")\n",
    "    cs_dly_bz0 = add_hour(cs_dly_bz0)"
   ]
  },
  {
   "cell_type": "code",
   "execution_count": null,
   "metadata": {
    "pycharm": {
     "name": "#%%\n"
    }
   },
   "outputs": [],
   "source": [
    "if execute:\n",
    "    dly_bz0cs  = dly_bz0c.merge(cs_dly_bz0.loc[:, ['sun_on_h','sun_off_h']], how='inner', left_index=True, right_index=True)\n",
    "    dly_bz0cs = dly_bz0cs[:max(dly_bz0cs.dropna().index)]\n",
    "    %store dly_bz0cs"
   ]
  },
  {
   "cell_type": "code",
   "execution_count": null,
   "metadata": {
    "pycharm": {
     "name": "#%%\n"
    }
   },
   "outputs": [],
   "source": [
    "title_bzh30 = title_template % ((\"a horizontal and a 30° pyranometer in Trentino Alto Adige\"),\n",
    "                               min(dly_bz30cs.index), max(dly_bz30cs.index))\n",
    "df_diff_bz = plot_completeness(df1_dly=dly_bz0cs, title=title_bzh30, before_hours_sum=True,\n",
    "                       suffix1=\"_h\", df2_dly=dly_bz30cs, suffix2=\"_t30\", annotate1=True, annotate2=True,\n",
    "                       annotatation_min_hours=72, annotatation_min_hours2=2, annotate_verticalshift=7)"
   ]
  },
  {
   "cell_type": "code",
   "execution_count": null,
   "metadata": {
    "pycharm": {
     "name": "#%%\n"
    }
   },
   "outputs": [],
   "source": [
    "title_rmh30 = title_template % ((\"two tilted pyranometers located in a solar farm in Lazio\"),\n",
    "                               min(dly_rm1cs.index), max(dly_rm1cs.index))\n",
    "df_diff_rm = plot_completeness(df1_dly=dly_rm1cs, title=title_rmh30, before_hours_sum=True,\n",
    "                       suffix1=\"_A\", df2_dly=dly_rm4cs, suffix2=\"_B\", annotate1=True, annotate2=True,\n",
    "                       annotatation_min_hours=24, annotatation_min_hours2=24, annotate_verticalshift=10,\n",
    "                       ydistmin2=5)"
   ]
  },
  {
   "cell_type": "code",
   "execution_count": null,
   "metadata": {
    "pycharm": {
     "name": "#%%\n"
    }
   },
   "outputs": [],
   "source": [
    "ldsc = lambda x: x-hours_limit if x>hours_limit else None\n",
    "lall = lambda x: x-hours_limit if x>=hours_limit else None\n",
    "def get_dn(df, lnfc):\n",
    "    hours_limit = 1\n",
    "    s = df.before_first_hours.apply(lnfc).dropna()\n",
    "    dn =  Cdf.from_seq(s, normalize=True).apply(lambda x: x*100)\n",
    "    return dn"
   ]
  },
  {
   "cell_type": "code",
   "execution_count": null,
   "metadata": {
    "pycharm": {
     "name": "#%%\n"
    }
   },
   "outputs": [],
   "source": [
    "plt.close()\n",
    "title_cmp_dsc = \"Cumulative distribution of time difference between last value during a day and the next one\"\n",
    "\n",
    "from empiricaldist import Pmf, Cdf\n",
    "\n",
    "dfs = [dly_bz0cs, dly_rm1cs, dly_rm4cs, dly_c, dly_r]\n",
    "labels = [\"Trentino Alto Adige horizontal\",\"Lazio A\", \"Lazio B\", \"East Midlands\", \"Glamorgan\"]\n",
    "mrks = ['g', 'r', 'k', 'b', 'y']\n",
    "dsc_mrk  = ['g,', 'r,', 'k,', 'b,', 'y,']\n",
    "all_mrk  = ['g^', 'r^', 'k^', 'b^', 'y^']\n",
    "legend = []\n",
    "\n",
    "hours_limit = 1\n",
    "ldsc = lambda x: x-hours_limit if x>hours_limit else None\n",
    "lall = lambda x: x-hours_limit if x>=hours_limit else None\n",
    "\n",
    "\n",
    "host = host_subplot(111)\n",
    "par = host.twinx()\n",
    "\n",
    "for i in range(0, len(dfs)):\n",
    "    dn_all = get_dn(dfs[i], lall)\n",
    "    h = host.plot(dn_all.index, dn_all.values, mrks[i]+\",\", linestyle =':')\n",
    "    bbox = dict(boxstyle=\"round\", edgecolor=mrks[i], fc='w')\n",
    "    xytext = (0,0)\n",
    "    #shift for better visualisation\n",
    "    if i == 2:\n",
    "        xytext = (xytext[0], xytext[1]+5)\n",
    "    host.annotate(\n",
    "    f'{min(dn_all.values):.1f}%',\n",
    "    (dn_all.idxmin(), min(dn_all.values)),\n",
    "    bbox=bbox, size='xx-small', horizontalalignment='right', textcoords = 'offset points',\n",
    "    verticalalignment='center', xytext=xytext, color='k')\n",
    "    legend.append(labels[i]+ ' all')\n",
    "for i in range(0, len(dfs)):\n",
    "    dn_dsc = get_dn(dfs[i], ldsc)\n",
    "    p = par.plot(dn_dsc.index, dn_dsc.values, mrks[i]+\"^\", linestyle='--')\n",
    "    bbox = dict(boxstyle=\"round\", edgecolor=mrks[i], fc='w')\n",
    "    #extracting no day disconnection\n",
    "    dn_dsc_nd = dn_dsc[dn_dsc.index < 24]\n",
    "    if len(dn_dsc_nd) > 0:\n",
    "        par.annotate(f'{max(dn_dsc_nd):.1f}% < {dn_dsc_nd.idxmax():.0f}h',\n",
    "        (dn_dsc_nd.idxmax(), max(dn_dsc_nd.values)),\n",
    "        bbox=bbox, size='xx-small', horizontalalignment='left', textcoords = 'offset points',\n",
    "        verticalalignment='center', xytext=xytext, color='k')\n",
    "    legend.append(labels[i]+' disconnection only')\n",
    "\n",
    "\n",
    "\n",
    "\n",
    "plt.legend(labels=legend)\n",
    "plt.title('\\n'.join(wrap(title_cmp_dsc ,WRAP_WIDTH)))\n",
    "par.set_ylabel(\"cumulative distribution disconnections only [%]\")\n",
    "host.set_ylabel(\"cumulative distribution [%]\")\n",
    "host.set_xlabel('Time difference [hours]')\n",
    "#plt.show()\n",
    "plt_savefig = decorators.change_savefig(plt.savefig)\n",
    "plt_savefig()"
   ]
  },
  {
   "cell_type": "markdown",
   "metadata": {
    "pycharm": {
     "name": "#%% md\n"
    }
   },
   "source": [
    "Almost all the pyranometers"
   ]
  },
  {
   "cell_type": "code",
   "execution_count": null,
   "metadata": {
    "pycharm": {
     "name": "#%%\n"
    }
   },
   "outputs": [],
   "source": [
    "title_cmp_dly = \"Cumulative distribution of daily disconnection hours\"\n",
    "dd = lambda x: max(x['first_hour']-0,0) + max(23-x['last_hour'],0) if x['first_hour']==x['first_hour'] else 24\n",
    "\n",
    "def get_dd(df, dsc_only=False):\n",
    "    hours_limit = 1\n",
    "    s = df.apply(dd, axis=1)\n",
    "    if dsc_only:\n",
    "        s = s[s>0]\n",
    "    dn =  Cdf.from_seq(s, normalize=True).apply(lambda x: x*100)\n",
    "    return dn\n",
    "\n",
    "host = host_subplot(111)\n",
    "par = host.twinx()\n",
    "\n",
    "\n",
    "for i in range(0, len(dfs)):\n",
    "    dn_all = get_dd(dfs[i])\n",
    "    h = host.plot(dn_all.index, dn_all.values, mrks[i]+\",\", linestyle =':')\n",
    "    bbox = dict(boxstyle=\"round\", edgecolor=mrks[i], fc='w')\n",
    "    host.annotate(\n",
    "    f'{min(dn_all.values):.1f}%',\n",
    "    (dn_all.idxmin(), min(dn_all.values)),\n",
    "    bbox=bbox, size='xx-small', horizontalalignment='right',\n",
    "    verticalalignment='center')\n",
    "    legend.append(labels[i]+ ' all')\n",
    "\n",
    "for i in range(0, len(dfs)):\n",
    "    dn_dsc = get_dd(dfs[i], dsc_only=True)\n",
    "    p = par.plot(dn_dsc.index, dn_dsc.values, mrks[i]+\"^\", linestyle='--')\n",
    "    bbox = dict(boxstyle=\"round\", edgecolor=mrks[i], fc='w')\n",
    "    dn_dsc_d  = dn_dsc[dn_dsc.index < 24]\n",
    "    #if labels[i] == 'Lazio 1':\n",
    "    #    verticalalignment = 'top'\n",
    "    xytext = (0, 0)\n",
    "    if labels[i] == 'Trentino Alto Adige horizontal':\n",
    "        xytext = (0, 10)\n",
    "    par.annotate(f'{max(dn_dsc_d):.1f}% < {dn_dsc_d.idxmax():.0f}h',\n",
    "    (dn_dsc_d.idxmax(), max(dn_dsc_d)),\n",
    "    bbox=bbox, size='xx-small', horizontalalignment='right',\n",
    "    xytext=xytext, textcoords='offset points',\n",
    "    verticalalignment='center')\n",
    "    legend.append(labels[i]+' disconnection only')\n",
    "\n",
    "\n",
    "plt.legend(labels=legend)\n",
    "plt.title('\\n'.join(wrap(title_cmp_dly,WRAP_WIDTH)))\n",
    "par.set_ylabel(\"cumulative distribution disconnections only [%]\")\n",
    "host.set_ylabel(\"cumulative distribution [%]\")\n",
    "host.set_xlabel('Time difference [hours]')\n",
    "#plt.show()\n",
    "plt_savefig = decorators.change_savefig(plt.savefig)\n",
    "plt_savefig()"
   ]
  },
  {
   "cell_type": "code",
   "execution_count": null,
   "metadata": {
    "pycharm": {
     "name": "#%%\n"
    }
   },
   "outputs": [],
   "source": [
    "#saving file\n",
    "CSVS_FOLDER =  join(dirname(getcwd())+r\"/outputs/csvs/\")\n",
    "#\"/outputs/figures/\"\n",
    "#ASSETS_FOLDER = join(dirname(getcwd()) + r\"/assets/\")\n",
    "dfs = [dly_bz0cs, dly_bz30cs, dly_rm1cs, dly_rm4cs, dly_c, dly_r]\n",
    "labels = [\"Trentino Alto Adige horizontal\", \"Trentino Alto Adige tilted\", \"Lazio A\", \"Lazio B\", \"East Midlands\", \"Glamorgan\"]\n",
    "for i in range(len(dfs)):\n",
    "    dfs[i].to_csv(join(CSVS_FOLDER,labels[i]+\".csv\"))"
   ]
  },
  {
   "cell_type": "markdown",
   "metadata": {
    "pycharm": {
     "name": "#%% md\n"
    }
   },
   "source": [
    "### Archived\n",
    "title_cmp = \"Disconnections distribution for different pyranometers\"\n",
    "\n",
    "from empiricaldist import Pmf, Cdf\n",
    "\n",
    "dfs = [dly_bz30c, dly_rm1c, dly_rm4c, dly_c, dly_r]\n",
    "labels = [\"Trentino Alto Adige\",\"Lazio 1\", \"Lazio 4\", \"East Midlands\", \"Glamorgan\"]\n",
    "legend = []\n",
    "\n",
    "def get_dn(df):\n",
    "    hours_limit = 1\n",
    "    _ = lambda x: x-hours_limit if x>hours_limit else None\n",
    "    s = df.before_first_hours.apply(_).dropna()\n",
    "    dn = Pmf.from_seq(s, normalize=True).apply(lambda x: x*100)\n",
    "    return dn\n",
    "\n",
    "host = host_subplot(111)\n",
    "par = host.twinx()\n",
    "\n",
    "for i in range(0, len(dfs)):\n",
    "    host.plot(get_dn(dfs[i]))\n",
    "    legend.append(labels[i])\n",
    "\n",
    "plt.legend(labels=legend)\n",
    "plt.title(title_cmp)\n",
    "host.set_ylabel(\"distribution [%]\")\n",
    "host.set_xlabel('disconnection lenght [hours]')\n",
    "#plt.show()\n",
    "plt_savefig = decorators.change_savefig(plt.savefig)\n",
    "plt_savefig()"
   ]
  }
 ],
 "metadata": {
  "kernelspec": {
   "display_name": "Python 3",
   "language": "python",
   "name": "python3"
  },
  "language_info": {
   "codemirror_mode": {
    "name": "ipython",
    "version": 3
   },
   "file_extension": ".py",
   "mimetype": "text/x-python",
   "name": "python",
   "nbconvert_exporter": "python",
   "pygments_lexer": "ipython3",
   "version": "3.7.4"
  }
 },
 "nbformat": 4,
 "nbformat_minor": 1
}
