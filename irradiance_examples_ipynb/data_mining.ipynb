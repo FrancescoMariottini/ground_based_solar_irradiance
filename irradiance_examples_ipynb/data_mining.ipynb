{
 "cells": [
  {
   "cell_type": "markdown",
   "source": [
    "# Datasets overview (data mining)\n",
    "Hereby a preliminary analysis of the dataset is performed to identify the available data.\n",
    "\n",
    "### Active Plane Of Array (PoA) thermoelectric measurement datasets\n",
    "To fulfill research objectives, available PoA thermoelectric pyranometers are first identified.\n",
    "\n",
    "#### Extracting metadata infomation\n",
    "First metadata information about PoA thermopile sensors (not on a tracker) are extracted."
   ],
   "metadata": {
    "collapsed": false
   }
  },
  {
   "cell_type": "code",
   "source": [
    "#setup module always to be started\n",
    "import pandas as pd\n",
    "# for datetime stripping  https://www.tutorialspoint.com/python/time_strptime.htm\n",
    "from datetime import datetime\n",
    "#import seaborn for 'vlag' cmap\n",
    "import seaborn as sn\n",
    "import database_operations as db\n",
    "import indoor_calibration_data as clb\n",
    "\n",
    "def format_timestamp(s: str) -> datetime:\n",
    "    f = '%Y-%m-%d %H:%M:%S.%f'\n",
    "    return datetime.strptime(s.replace(\"T\",\" \")[:-3], f)\n",
    "\n",
    "pd.options.display.max_columns = None\n",
    "pd.options.display.max_rows = None\n",
    "pd.options.display.max_colwidth = None"
   ],
   "metadata": {
    "collapsed": false,
    "pycharm": {
     "name": "#%%\n"
    }
   },
   "execution_count": 13,
   "outputs": []
  },
  {
   "cell_type": "code",
   "execution_count": 2,
   "outputs": [
    {
     "name": "stdout",
     "output_type": "stream",
     "text": [
      "Query started at Wed Dec 16 19:09:28 2020\n",
      "Query ended at Wed Dec 16 19:09:29 2020\n"
     ]
    },
    {
     "data": {
      "text/plain": "       sensorname  \\\n0   Pyro_CM22_W01   \n1  Pyro_CMP11_W03   \n2   Pyro_CM11_W01   \n3  pyro_cmp11_w05   \n4  pyro_cmp11_w06   \n5  Pyro_CMP11_W09   \n\n                                                  sensorcomment  manufacturer  \\\n0                                                      Was ID 3  Kipp & Zonen   \n1                                                          None  Kipp & Zonen   \n2                                                    Indoor cal  Kipp & Zonen   \n3                    MMS1 on highest rack near lift  indoor cal    Kipp&Zonen   \n4                                                    indoor cal    Kipp&Zonen   \n5  in CVF4 vent unit, on GRP grid, on southernmost upstand rack    Kipp&Zonen   \n\n  manufacturermodelnumber manufacturerserialnumber lastcalibrationdate  \\\n0                    CM22                   040099          2014-11-03   \n1                   CMP11                   060118                None   \n2                    CM11                   027700          2014-10-31   \n3                   CMP11                    80286          2014-11-03   \n4                   CMP11                   115538          2014-10-31   \n5                   CMP11                   140092          2014-01-21   \n\n                                        systemname  \\\n0               COMS-3.1: meteorological subsystem   \n1                                   Ketut Longterm   \n2               COMS-3.1: meteorological subsystem   \n3  MMS1 Met Monitoring System NE end fixed sensors   \n4  MMS1 Met Monitoring System NE end fixed sensors   \n5    MMS3 Met monitoring system on SE upstand rack   \n\n                                           nameoflocation   latitude  \\\n0  CREST W roof northerly-high upstand South-facing 45deg  52.761582   \n1           CREST Wroof north end-low upstand South 45deg  52.761556   \n2  CREST W roof northerly-high upstand South-facing 45deg  52.761582   \n3  CREST W roof northerly-high upstand South-facing 45deg  52.761582   \n4             CREST Wroof NE end-low upstand South 34 deg  52.761556   \n5         CREST Wroof south-east-area upstand South 34deg  52.761411   \n\n   longitude  altitude  systemazimuth  systeminclination  \\\n0  -1.240617      79.0          -0.73               45.6   \n1  -1.240707      79.0          -0.59               44.7   \n2  -1.240617      79.0          -0.73               45.6   \n3  -1.240617      79.0          -0.73               45.6   \n4  -1.240707      79.0          -0.59               32.5   \n5  -1.240531      79.0          -0.17               33.9   \n\n                                                                                                                                                             systemcomment  \n0                                                                      Direct measure system based on NI Mseries card and signal conditioning and commercial multiplexers.  \n1                                                                           This is Ketut Astawas main data acquisition system for his PhD and takes similar data to COMS3  \n2                                                                      Direct measure system based on NI Mseries card and signal conditioning and commercial multiplexers.  \n3  Built by Michal for Ikea project. uses CR1000 and Mux to measure multitude of env sensors and full size modules as reference cells. data initially in seperate MySQL DB  \n4  Built by Michal for Ikea project. uses CR1000 and Mux to measure multitude of env sensors and full size modules as reference cells. data initially in seperate MySQL DB  \n5                                                                                                                      Similar to MMS1 & MMS2, but has 1 CR1000 & 2 CR800s  ",
      "text/html": "<div>\n<style scoped>\n    .dataframe tbody tr th:only-of-type {\n        vertical-align: middle;\n    }\n\n    .dataframe tbody tr th {\n        vertical-align: top;\n    }\n\n    .dataframe thead th {\n        text-align: right;\n    }\n</style>\n<table border=\"1\" class=\"dataframe\">\n  <thead>\n    <tr style=\"text-align: right;\">\n      <th></th>\n      <th>sensorname</th>\n      <th>sensorcomment</th>\n      <th>manufacturer</th>\n      <th>manufacturermodelnumber</th>\n      <th>manufacturerserialnumber</th>\n      <th>lastcalibrationdate</th>\n      <th>systemname</th>\n      <th>nameoflocation</th>\n      <th>latitude</th>\n      <th>longitude</th>\n      <th>altitude</th>\n      <th>systemazimuth</th>\n      <th>systeminclination</th>\n      <th>systemcomment</th>\n    </tr>\n  </thead>\n  <tbody>\n    <tr>\n      <th>0</th>\n      <td>Pyro_CM22_W01</td>\n      <td>Was ID 3</td>\n      <td>Kipp &amp; Zonen</td>\n      <td>CM22</td>\n      <td>040099</td>\n      <td>2014-11-03</td>\n      <td>COMS-3.1: meteorological subsystem</td>\n      <td>CREST W roof northerly-high upstand South-facing 45deg</td>\n      <td>52.761582</td>\n      <td>-1.240617</td>\n      <td>79.0</td>\n      <td>-0.73</td>\n      <td>45.6</td>\n      <td>Direct measure system based on NI Mseries card and signal conditioning and commercial multiplexers.</td>\n    </tr>\n    <tr>\n      <th>1</th>\n      <td>Pyro_CMP11_W03</td>\n      <td>None</td>\n      <td>Kipp &amp; Zonen</td>\n      <td>CMP11</td>\n      <td>060118</td>\n      <td>None</td>\n      <td>Ketut Longterm</td>\n      <td>CREST Wroof north end-low upstand South 45deg</td>\n      <td>52.761556</td>\n      <td>-1.240707</td>\n      <td>79.0</td>\n      <td>-0.59</td>\n      <td>44.7</td>\n      <td>This is Ketut Astawas main data acquisition system for his PhD and takes similar data to COMS3</td>\n    </tr>\n    <tr>\n      <th>2</th>\n      <td>Pyro_CM11_W01</td>\n      <td>Indoor cal</td>\n      <td>Kipp &amp; Zonen</td>\n      <td>CM11</td>\n      <td>027700</td>\n      <td>2014-10-31</td>\n      <td>COMS-3.1: meteorological subsystem</td>\n      <td>CREST W roof northerly-high upstand South-facing 45deg</td>\n      <td>52.761582</td>\n      <td>-1.240617</td>\n      <td>79.0</td>\n      <td>-0.73</td>\n      <td>45.6</td>\n      <td>Direct measure system based on NI Mseries card and signal conditioning and commercial multiplexers.</td>\n    </tr>\n    <tr>\n      <th>3</th>\n      <td>pyro_cmp11_w05</td>\n      <td>MMS1 on highest rack near lift  indoor cal</td>\n      <td>Kipp&amp;Zonen</td>\n      <td>CMP11</td>\n      <td>80286</td>\n      <td>2014-11-03</td>\n      <td>MMS1 Met Monitoring System NE end fixed sensors</td>\n      <td>CREST W roof northerly-high upstand South-facing 45deg</td>\n      <td>52.761582</td>\n      <td>-1.240617</td>\n      <td>79.0</td>\n      <td>-0.73</td>\n      <td>45.6</td>\n      <td>Built by Michal for Ikea project. uses CR1000 and Mux to measure multitude of env sensors and full size modules as reference cells. data initially in seperate MySQL DB</td>\n    </tr>\n    <tr>\n      <th>4</th>\n      <td>pyro_cmp11_w06</td>\n      <td>indoor cal</td>\n      <td>Kipp&amp;Zonen</td>\n      <td>CMP11</td>\n      <td>115538</td>\n      <td>2014-10-31</td>\n      <td>MMS1 Met Monitoring System NE end fixed sensors</td>\n      <td>CREST Wroof NE end-low upstand South 34 deg</td>\n      <td>52.761556</td>\n      <td>-1.240707</td>\n      <td>79.0</td>\n      <td>-0.59</td>\n      <td>32.5</td>\n      <td>Built by Michal for Ikea project. uses CR1000 and Mux to measure multitude of env sensors and full size modules as reference cells. data initially in seperate MySQL DB</td>\n    </tr>\n    <tr>\n      <th>5</th>\n      <td>Pyro_CMP11_W09</td>\n      <td>in CVF4 vent unit, on GRP grid, on southernmost upstand rack</td>\n      <td>Kipp&amp;Zonen</td>\n      <td>CMP11</td>\n      <td>140092</td>\n      <td>2014-01-21</td>\n      <td>MMS3 Met monitoring system on SE upstand rack</td>\n      <td>CREST Wroof south-east-area upstand South 34deg</td>\n      <td>52.761411</td>\n      <td>-1.240531</td>\n      <td>79.0</td>\n      <td>-0.17</td>\n      <td>33.9</td>\n      <td>Similar to MMS1 &amp; MMS2, but has 1 CR1000 &amp; 2 CR800s</td>\n    </tr>\n  </tbody>\n</table>\n</div>"
     },
     "execution_count": 2,
     "metadata": {},
     "output_type": "execute_result"
    }
   ],
   "source": [
    "engine = db.DatabaseEngine()\n",
    "poa_sensors_info = engine.get_sensors_info()\n",
    "poa_sensors_info"
   ],
   "metadata": {
    "collapsed": false,
    "pycharm": {
     "name": "#%%\n"
    }
   }
  },
  {
   "cell_type": "markdown",
   "source": [
    "#### Finding relevant monitored PoA parameters\n",
    "The found sensor names are used to identify where useful monitoring data are located.\n",
    "First numerical identifiers are extracted.\n",
    "Then acceptable and unacceptable strings for columns, tables and schemas are defined."
   ],
   "metadata": {
    "collapsed": false,
    "pycharm": {
     "name": "#%% md\n"
    }
   }
  },
  {
   "cell_type": "code",
   "execution_count": 2,
   "outputs": [
    {
     "data": {
      "text/plain": "   table_schema       table_name             column_name data_type\n0        w_meas        mms1v1met      pyro_cmp11_w06_wm2   numeric\n1        w_meas        coms3_met               cm11testi   numeric\n2        w_meas        coms3_met          pyro_cmp11_w08   numeric\n3        w_meas        mms1v1met          pyro_cmp11_w04   numeric\n4        w_meas        mms1v1met          pyro_cmp11_w05   numeric\n5        w_meas        mms1v1met          pyro_cmp11_w06   numeric\n6        w_meas        coms3_met           pyro_cm11_w01   numeric\n7        w_meas        coms3_met          pyro_cmp11_w01   numeric\n8        w_meas        coms3_met          pyro_cmp11_w02   numeric\n9        w_meas        coms3_met           pyro_cm22_w02   numeric\n10       w_meas        coms3_met           pyro_cm22_w01   numeric\n11       w_meas         mms2_met          pyro_cmp11_w07   numeric\n12       w_meas         mms2_met          pyro_cmp11_w08   numeric\n13       w_meas         mms2_met          pyro_cmp11_w01   numeric\n14       w_meas         mms2_met  pyro_cmp11_w07_voltage   numeric\n15       w_meas         mms2_met  pyro_cmp11_w08_voltage   numeric\n16       w_meas         mms2_met  pyro_cmp11_w01_voltage   numeric\n17       w_meas          mms2tom          pyro_cmp11_w07   numeric\n18       w_meas          mms2tom          pyro_cmp11_w08   numeric\n19       w_meas          mms2tom          pyro_cmp11_w01   numeric\n20       w_meas  mms1_cr1000_tom            g_cmp11_ppuk   numeric",
      "text/html": "<div>\n<style scoped>\n    .dataframe tbody tr th:only-of-type {\n        vertical-align: middle;\n    }\n\n    .dataframe tbody tr th {\n        vertical-align: top;\n    }\n\n    .dataframe thead th {\n        text-align: right;\n    }\n</style>\n<table border=\"1\" class=\"dataframe\">\n  <thead>\n    <tr style=\"text-align: right;\">\n      <th></th>\n      <th>table_schema</th>\n      <th>table_name</th>\n      <th>column_name</th>\n      <th>data_type</th>\n    </tr>\n  </thead>\n  <tbody>\n    <tr>\n      <th>0</th>\n      <td>w_meas</td>\n      <td>mms1v1met</td>\n      <td>pyro_cmp11_w06_wm2</td>\n      <td>numeric</td>\n    </tr>\n    <tr>\n      <th>1</th>\n      <td>w_meas</td>\n      <td>coms3_met</td>\n      <td>cm11testi</td>\n      <td>numeric</td>\n    </tr>\n    <tr>\n      <th>2</th>\n      <td>w_meas</td>\n      <td>coms3_met</td>\n      <td>pyro_cmp11_w08</td>\n      <td>numeric</td>\n    </tr>\n    <tr>\n      <th>3</th>\n      <td>w_meas</td>\n      <td>mms1v1met</td>\n      <td>pyro_cmp11_w04</td>\n      <td>numeric</td>\n    </tr>\n    <tr>\n      <th>4</th>\n      <td>w_meas</td>\n      <td>mms1v1met</td>\n      <td>pyro_cmp11_w05</td>\n      <td>numeric</td>\n    </tr>\n    <tr>\n      <th>5</th>\n      <td>w_meas</td>\n      <td>mms1v1met</td>\n      <td>pyro_cmp11_w06</td>\n      <td>numeric</td>\n    </tr>\n    <tr>\n      <th>6</th>\n      <td>w_meas</td>\n      <td>coms3_met</td>\n      <td>pyro_cm11_w01</td>\n      <td>numeric</td>\n    </tr>\n    <tr>\n      <th>7</th>\n      <td>w_meas</td>\n      <td>coms3_met</td>\n      <td>pyro_cmp11_w01</td>\n      <td>numeric</td>\n    </tr>\n    <tr>\n      <th>8</th>\n      <td>w_meas</td>\n      <td>coms3_met</td>\n      <td>pyro_cmp11_w02</td>\n      <td>numeric</td>\n    </tr>\n    <tr>\n      <th>9</th>\n      <td>w_meas</td>\n      <td>coms3_met</td>\n      <td>pyro_cm22_w02</td>\n      <td>numeric</td>\n    </tr>\n    <tr>\n      <th>10</th>\n      <td>w_meas</td>\n      <td>coms3_met</td>\n      <td>pyro_cm22_w01</td>\n      <td>numeric</td>\n    </tr>\n    <tr>\n      <th>11</th>\n      <td>w_meas</td>\n      <td>mms2_met</td>\n      <td>pyro_cmp11_w07</td>\n      <td>numeric</td>\n    </tr>\n    <tr>\n      <th>12</th>\n      <td>w_meas</td>\n      <td>mms2_met</td>\n      <td>pyro_cmp11_w08</td>\n      <td>numeric</td>\n    </tr>\n    <tr>\n      <th>13</th>\n      <td>w_meas</td>\n      <td>mms2_met</td>\n      <td>pyro_cmp11_w01</td>\n      <td>numeric</td>\n    </tr>\n    <tr>\n      <th>14</th>\n      <td>w_meas</td>\n      <td>mms2_met</td>\n      <td>pyro_cmp11_w07_voltage</td>\n      <td>numeric</td>\n    </tr>\n    <tr>\n      <th>15</th>\n      <td>w_meas</td>\n      <td>mms2_met</td>\n      <td>pyro_cmp11_w08_voltage</td>\n      <td>numeric</td>\n    </tr>\n    <tr>\n      <th>16</th>\n      <td>w_meas</td>\n      <td>mms2_met</td>\n      <td>pyro_cmp11_w01_voltage</td>\n      <td>numeric</td>\n    </tr>\n    <tr>\n      <th>17</th>\n      <td>w_meas</td>\n      <td>mms2tom</td>\n      <td>pyro_cmp11_w07</td>\n      <td>numeric</td>\n    </tr>\n    <tr>\n      <th>18</th>\n      <td>w_meas</td>\n      <td>mms2tom</td>\n      <td>pyro_cmp11_w08</td>\n      <td>numeric</td>\n    </tr>\n    <tr>\n      <th>19</th>\n      <td>w_meas</td>\n      <td>mms2tom</td>\n      <td>pyro_cmp11_w01</td>\n      <td>numeric</td>\n    </tr>\n    <tr>\n      <th>20</th>\n      <td>w_meas</td>\n      <td>mms1_cr1000_tom</td>\n      <td>g_cmp11_ppuk</td>\n      <td>numeric</td>\n    </tr>\n  </tbody>\n</table>\n</div>"
     },
     "execution_count": 2,
     "metadata": {},
     "output_type": "execute_result"
    }
   ],
   "source": [
    "poa_columns_information = engine.get_columns_information_schema()\n",
    "poa_columns_information"
   ],
   "metadata": {
    "collapsed": false,
    "pycharm": {
     "name": "#%%\n"
    }
   }
  },
  {
   "cell_type": "markdown",
   "source": [
    "#### Extracting aggregate functions to analyse PoA parameters\n",
    "General purpose (faster) aggregate functions (count, min, max, avg and sum) are extracted from the dataset,\n",
    "as well as the first and last timestamp for the which the measured parameter was not null."
   ],
   "metadata": {
    "collapsed": false,
    "pycharm": {
     "name": "#%% md\n"
    }
   }
  },
  {
   "cell_type": "code",
   "execution_count": null,
   "outputs": [],
   "source": [
    "poa_columns_description = engine.get_columns_description(poa_columns_information)\n",
    "poa_columns_description"
   ],
   "metadata": {
    "collapsed": false,
    "pycharm": {
     "name": "#%%\n"
    }
   }
  },
  {
   "cell_type": "markdown",
   "source": [
    "Some columns have only null values and were excluded further analysis"
   ],
   "metadata": {
    "collapsed": false
   }
  },
  {
   "cell_type": "code",
   "execution_count": 4,
   "outputs": [
    {
     "data": {
      "text/plain": "  schemas      table              column             cause\n0  w_meas  mms1v1met  pyro_cmp11_w06_wm2  only null values\n1  w_meas  coms3_met           cm11testi  only null values",
      "text/html": "<div>\n<style scoped>\n    .dataframe tbody tr th:only-of-type {\n        vertical-align: middle;\n    }\n\n    .dataframe tbody tr th {\n        vertical-align: top;\n    }\n\n    .dataframe thead th {\n        text-align: right;\n    }\n</style>\n<table border=\"1\" class=\"dataframe\">\n  <thead>\n    <tr style=\"text-align: right;\">\n      <th></th>\n      <th>schemas</th>\n      <th>table</th>\n      <th>column</th>\n      <th>cause</th>\n    </tr>\n  </thead>\n  <tbody>\n    <tr>\n      <th>0</th>\n      <td>w_meas</td>\n      <td>mms1v1met</td>\n      <td>pyro_cmp11_w06_wm2</td>\n      <td>only null values</td>\n    </tr>\n    <tr>\n      <th>1</th>\n      <td>w_meas</td>\n      <td>coms3_met</td>\n      <td>cm11testi</td>\n      <td>only null values</td>\n    </tr>\n  </tbody>\n</table>\n</div>"
     },
     "execution_count": 4,
     "metadata": {},
     "output_type": "execute_result"
    }
   ],
   "source": [
    "engine.columns_dropped"
   ],
   "metadata": {
    "collapsed": false,
    "pycharm": {
     "name": "#%%\n"
    }
   }
  },
  {
   "cell_type": "markdown",
   "source": [
    "#### Analysis of found PoA parameters\n",
    "Overview table was previously saved as *columns_description.csv* due to the long processing time.\n",
    "The file is loaded again preserving only the useful information.\n",
    "All the found valid PoA parameters are located in *w_meas* database and are of *numeric* type."
   ],
   "metadata": {
    "collapsed": false,
    "pycharm": {
     "name": "#%% md\n"
    }
   }
  },
  {
   "cell_type": "code",
   "execution_count": 12,
   "outputs": [
    {
     "data": {
      "text/plain": "               column_name     timestamp_column       timestamp_min  \\\n0           pyro_cmp11_w08  measurementdatetime 2015-03-31 09:20:55   \n1           pyro_cmp11_w04  measurementdatetime 2009-11-26 02:01:22   \n2           pyro_cmp11_w05  measurementdatetime 2009-11-26 02:01:22   \n3           pyro_cmp11_w06  measurementdatetime 2013-04-24 00:00:00   \n4            pyro_cm11_w01  measurementdatetime 2006-10-16 10:20:25   \n5           pyro_cmp11_w01  measurementdatetime 2007-02-26 09:21:55   \n6           pyro_cmp11_w02  measurementdatetime 2007-03-23 09:42:35   \n7            pyro_cm22_w02  measurementdatetime 2006-10-30 12:43:35   \n8            pyro_cm22_w01  measurementdatetime 2006-10-16 10:20:25   \n9           pyro_cmp11_w07  measurementdatetime 2015-01-16 15:56:20   \n10          pyro_cmp11_w01  measurementdatetime 2016-02-25 14:26:48   \n11  pyro_cmp11_w07_voltage  measurementdatetime 2015-01-16 15:56:20   \n12  pyro_cmp11_w01_voltage  measurementdatetime 2016-02-25 14:26:48   \n13          pyro_cmp11_w07              tmstamp 2018-01-01 00:00:01   \n14          pyro_cmp11_w08              tmstamp 2018-01-01 00:00:01   \n15          pyro_cmp11_w01              tmstamp 2018-01-01 00:00:01   \n16            g_cmp11_ppuk              tmstamp 2013-04-24 00:00:00   \n\n         timestamp_max        count       min       max           sum  \\\n0  2015-04-07 10:10:15     121495.0   -25.392   422.357  9.007372e+06   \n1  2016-04-11 12:34:59  150397930.0 -9999.000    58.750 -2.336121e+08   \n2  2016-04-11 12:34:59  150397930.0 -9999.000   120.000 -6.643747e+07   \n3  2016-04-11 12:34:59   58364327.0  -365.400    22.340  5.999954e+07   \n4  2016-01-03 23:59:55   49011794.0 -3333.000  3333.000  7.034095e+09   \n5  2014-11-05 12:09:55     510849.0 -3333.000  3333.000  6.806141e+07   \n6  2016-01-03 23:59:55    6384249.0 -3333.000  3333.000  7.468282e+09   \n7  2016-01-03 23:59:55   38608677.0 -3333.000  3333.000  4.388886e+09   \n8  2016-01-03 23:59:55   56196938.0 -3333.000  3333.000  7.863325e+09   \n9  2016-04-11 12:40:02   35537473.0    -6.345  1385.000  3.502405e+09   \n10 2016-04-11 12:40:02    3967993.0    -4.127  1095.000  3.999765e+08   \n11 2016-04-11 12:40:02   35537473.0    -0.053    11.660  2.949012e+07   \n12 2016-04-11 12:40:02    3967993.0    -0.037     9.730  3.551762e+06   \n13 2020-09-30 23:59:59   86745217.0   -10.380  1471.000  1.085338e+10   \n14 2020-09-30 23:59:59   86745217.0    -9.480  1077.000  5.807469e+09   \n15 2020-09-30 23:59:59   86745217.0    -6.202  1428.000  1.069856e+10   \n16 2020-10-01 23:59:59  197654350.0    -6.364  1611.364  2.789435e+10   \n\n            avg  \n0     74.137798  \n1     -1.553293  \n2     -0.441745  \n3      1.028017  \n4    143.518415  \n5    133.231957  \n6   1169.797998  \n7    113.676163  \n8    139.924439  \n9     98.555257  \n10   100.800697  \n11     0.829832  \n12     0.895103  \n13   125.117881  \n14    66.948579  \n15   123.333134  \n16   141.126902  ",
      "text/html": "<div>\n<style scoped>\n    .dataframe tbody tr th:only-of-type {\n        vertical-align: middle;\n    }\n\n    .dataframe tbody tr th {\n        vertical-align: top;\n    }\n\n    .dataframe thead th {\n        text-align: right;\n    }\n</style>\n<table border=\"1\" class=\"dataframe\">\n  <thead>\n    <tr style=\"text-align: right;\">\n      <th></th>\n      <th>column_name</th>\n      <th>timestamp_column</th>\n      <th>timestamp_min</th>\n      <th>timestamp_max</th>\n      <th>count</th>\n      <th>min</th>\n      <th>max</th>\n      <th>sum</th>\n      <th>avg</th>\n    </tr>\n  </thead>\n  <tbody>\n    <tr>\n      <th>0</th>\n      <td>pyro_cmp11_w08</td>\n      <td>measurementdatetime</td>\n      <td>2015-03-31 09:20:55</td>\n      <td>2015-04-07 10:10:15</td>\n      <td>121495.0</td>\n      <td>-25.392</td>\n      <td>422.357</td>\n      <td>9.007372e+06</td>\n      <td>74.137798</td>\n    </tr>\n    <tr>\n      <th>1</th>\n      <td>pyro_cmp11_w04</td>\n      <td>measurementdatetime</td>\n      <td>2009-11-26 02:01:22</td>\n      <td>2016-04-11 12:34:59</td>\n      <td>150397930.0</td>\n      <td>-9999.000</td>\n      <td>58.750</td>\n      <td>-2.336121e+08</td>\n      <td>-1.553293</td>\n    </tr>\n    <tr>\n      <th>2</th>\n      <td>pyro_cmp11_w05</td>\n      <td>measurementdatetime</td>\n      <td>2009-11-26 02:01:22</td>\n      <td>2016-04-11 12:34:59</td>\n      <td>150397930.0</td>\n      <td>-9999.000</td>\n      <td>120.000</td>\n      <td>-6.643747e+07</td>\n      <td>-0.441745</td>\n    </tr>\n    <tr>\n      <th>3</th>\n      <td>pyro_cmp11_w06</td>\n      <td>measurementdatetime</td>\n      <td>2013-04-24 00:00:00</td>\n      <td>2016-04-11 12:34:59</td>\n      <td>58364327.0</td>\n      <td>-365.400</td>\n      <td>22.340</td>\n      <td>5.999954e+07</td>\n      <td>1.028017</td>\n    </tr>\n    <tr>\n      <th>4</th>\n      <td>pyro_cm11_w01</td>\n      <td>measurementdatetime</td>\n      <td>2006-10-16 10:20:25</td>\n      <td>2016-01-03 23:59:55</td>\n      <td>49011794.0</td>\n      <td>-3333.000</td>\n      <td>3333.000</td>\n      <td>7.034095e+09</td>\n      <td>143.518415</td>\n    </tr>\n    <tr>\n      <th>5</th>\n      <td>pyro_cmp11_w01</td>\n      <td>measurementdatetime</td>\n      <td>2007-02-26 09:21:55</td>\n      <td>2014-11-05 12:09:55</td>\n      <td>510849.0</td>\n      <td>-3333.000</td>\n      <td>3333.000</td>\n      <td>6.806141e+07</td>\n      <td>133.231957</td>\n    </tr>\n    <tr>\n      <th>6</th>\n      <td>pyro_cmp11_w02</td>\n      <td>measurementdatetime</td>\n      <td>2007-03-23 09:42:35</td>\n      <td>2016-01-03 23:59:55</td>\n      <td>6384249.0</td>\n      <td>-3333.000</td>\n      <td>3333.000</td>\n      <td>7.468282e+09</td>\n      <td>1169.797998</td>\n    </tr>\n    <tr>\n      <th>7</th>\n      <td>pyro_cm22_w02</td>\n      <td>measurementdatetime</td>\n      <td>2006-10-30 12:43:35</td>\n      <td>2016-01-03 23:59:55</td>\n      <td>38608677.0</td>\n      <td>-3333.000</td>\n      <td>3333.000</td>\n      <td>4.388886e+09</td>\n      <td>113.676163</td>\n    </tr>\n    <tr>\n      <th>8</th>\n      <td>pyro_cm22_w01</td>\n      <td>measurementdatetime</td>\n      <td>2006-10-16 10:20:25</td>\n      <td>2016-01-03 23:59:55</td>\n      <td>56196938.0</td>\n      <td>-3333.000</td>\n      <td>3333.000</td>\n      <td>7.863325e+09</td>\n      <td>139.924439</td>\n    </tr>\n    <tr>\n      <th>9</th>\n      <td>pyro_cmp11_w07</td>\n      <td>measurementdatetime</td>\n      <td>2015-01-16 15:56:20</td>\n      <td>2016-04-11 12:40:02</td>\n      <td>35537473.0</td>\n      <td>-6.345</td>\n      <td>1385.000</td>\n      <td>3.502405e+09</td>\n      <td>98.555257</td>\n    </tr>\n    <tr>\n      <th>10</th>\n      <td>pyro_cmp11_w01</td>\n      <td>measurementdatetime</td>\n      <td>2016-02-25 14:26:48</td>\n      <td>2016-04-11 12:40:02</td>\n      <td>3967993.0</td>\n      <td>-4.127</td>\n      <td>1095.000</td>\n      <td>3.999765e+08</td>\n      <td>100.800697</td>\n    </tr>\n    <tr>\n      <th>11</th>\n      <td>pyro_cmp11_w07_voltage</td>\n      <td>measurementdatetime</td>\n      <td>2015-01-16 15:56:20</td>\n      <td>2016-04-11 12:40:02</td>\n      <td>35537473.0</td>\n      <td>-0.053</td>\n      <td>11.660</td>\n      <td>2.949012e+07</td>\n      <td>0.829832</td>\n    </tr>\n    <tr>\n      <th>12</th>\n      <td>pyro_cmp11_w01_voltage</td>\n      <td>measurementdatetime</td>\n      <td>2016-02-25 14:26:48</td>\n      <td>2016-04-11 12:40:02</td>\n      <td>3967993.0</td>\n      <td>-0.037</td>\n      <td>9.730</td>\n      <td>3.551762e+06</td>\n      <td>0.895103</td>\n    </tr>\n    <tr>\n      <th>13</th>\n      <td>pyro_cmp11_w07</td>\n      <td>tmstamp</td>\n      <td>2018-01-01 00:00:01</td>\n      <td>2020-09-30 23:59:59</td>\n      <td>86745217.0</td>\n      <td>-10.380</td>\n      <td>1471.000</td>\n      <td>1.085338e+10</td>\n      <td>125.117881</td>\n    </tr>\n    <tr>\n      <th>14</th>\n      <td>pyro_cmp11_w08</td>\n      <td>tmstamp</td>\n      <td>2018-01-01 00:00:01</td>\n      <td>2020-09-30 23:59:59</td>\n      <td>86745217.0</td>\n      <td>-9.480</td>\n      <td>1077.000</td>\n      <td>5.807469e+09</td>\n      <td>66.948579</td>\n    </tr>\n    <tr>\n      <th>15</th>\n      <td>pyro_cmp11_w01</td>\n      <td>tmstamp</td>\n      <td>2018-01-01 00:00:01</td>\n      <td>2020-09-30 23:59:59</td>\n      <td>86745217.0</td>\n      <td>-6.202</td>\n      <td>1428.000</td>\n      <td>1.069856e+10</td>\n      <td>123.333134</td>\n    </tr>\n    <tr>\n      <th>16</th>\n      <td>g_cmp11_ppuk</td>\n      <td>tmstamp</td>\n      <td>2013-04-24 00:00:00</td>\n      <td>2020-10-01 23:59:59</td>\n      <td>197654350.0</td>\n      <td>-6.364</td>\n      <td>1611.364</td>\n      <td>2.789435e+10</td>\n      <td>141.126902</td>\n    </tr>\n  </tbody>\n</table>\n</div>"
     },
     "execution_count": 12,
     "metadata": {},
     "output_type": "execute_result"
    }
   ],
   "source": [
    "# https://www.tutorialspoint.com/python/time_strptime.htm\n",
    "\n",
    "poa_columns_description  = pd.read_csv(\"poa_columns_description.csv\",\n",
    "                                   infer_datetime_format = True,\n",
    "                                   usecols = ['column_name', 'timestamp_column', 'timestamp_min',\n",
    "                                              'timestamp_max',\t'count', 'min', 'max', 'sum', 'avg'],\n",
    "                                   converters= {'timestamp_min': lambda x: format_timestamp(x),\n",
    "                                              'timestamp_max': lambda x: format_timestamp(x)})\n",
    "#avoid showing table now since formatted later\n",
    "print(\"\")"
   ],
   "metadata": {
    "collapsed": false,
    "pycharm": {
     "name": "#%%\n"
    }
   }
  },
  {
   "cell_type": "markdown",
   "source": [
    "Average resolution is calculate for each parameter and table is formatted with a colour gradient for an easier analysis."
   ],
   "metadata": {
    "collapsed": false
   }
  },
  {
   "cell_type": "code",
   "execution_count": 21,
   "outputs": [
    {
     "data": {
      "text/plain": "<pandas.io.formats.style.Styler at 0x1a619a06608>",
      "text/html": "<style  type=\"text/css\" >\n#T_23291c5e_2725_11eb_85e2_708bcd8d0740row0_col4,#T_23291c5e_2725_11eb_85e2_708bcd8d0740row1_col5,#T_23291c5e_2725_11eb_85e2_708bcd8d0740row1_col7,#T_23291c5e_2725_11eb_85e2_708bcd8d0740row1_col8,#T_23291c5e_2725_11eb_85e2_708bcd8d0740row1_col9,#T_23291c5e_2725_11eb_85e2_708bcd8d0740row2_col5,#T_23291c5e_2725_11eb_85e2_708bcd8d0740row2_col8,#T_23291c5e_2725_11eb_85e2_708bcd8d0740row2_col9,#T_23291c5e_2725_11eb_85e2_708bcd8d0740row3_col6,#T_23291c5e_2725_11eb_85e2_708bcd8d0740row3_col8,#T_23291c5e_2725_11eb_85e2_708bcd8d0740row3_col9,#T_23291c5e_2725_11eb_85e2_708bcd8d0740row5_col4,#T_23291c5e_2725_11eb_85e2_708bcd8d0740row9_col9,#T_23291c5e_2725_11eb_85e2_708bcd8d0740row10_col9,#T_23291c5e_2725_11eb_85e2_708bcd8d0740row11_col6,#T_23291c5e_2725_11eb_85e2_708bcd8d0740row11_col8,#T_23291c5e_2725_11eb_85e2_708bcd8d0740row11_col9,#T_23291c5e_2725_11eb_85e2_708bcd8d0740row12_col6,#T_23291c5e_2725_11eb_85e2_708bcd8d0740row12_col8,#T_23291c5e_2725_11eb_85e2_708bcd8d0740row12_col9,#T_23291c5e_2725_11eb_85e2_708bcd8d0740row13_col9,#T_23291c5e_2725_11eb_85e2_708bcd8d0740row14_col9,#T_23291c5e_2725_11eb_85e2_708bcd8d0740row15_col9,#T_23291c5e_2725_11eb_85e2_708bcd8d0740row16_col9{\n            background-color:  #2369bd;\n            color:  #f1f1f1;\n        }#T_23291c5e_2725_11eb_85e2_708bcd8d0740row0_col5,#T_23291c5e_2725_11eb_85e2_708bcd8d0740row4_col6,#T_23291c5e_2725_11eb_85e2_708bcd8d0740row5_col6,#T_23291c5e_2725_11eb_85e2_708bcd8d0740row5_col9,#T_23291c5e_2725_11eb_85e2_708bcd8d0740row6_col6,#T_23291c5e_2725_11eb_85e2_708bcd8d0740row6_col8,#T_23291c5e_2725_11eb_85e2_708bcd8d0740row7_col6,#T_23291c5e_2725_11eb_85e2_708bcd8d0740row8_col6,#T_23291c5e_2725_11eb_85e2_708bcd8d0740row9_col5,#T_23291c5e_2725_11eb_85e2_708bcd8d0740row10_col5,#T_23291c5e_2725_11eb_85e2_708bcd8d0740row11_col5,#T_23291c5e_2725_11eb_85e2_708bcd8d0740row12_col5,#T_23291c5e_2725_11eb_85e2_708bcd8d0740row13_col5,#T_23291c5e_2725_11eb_85e2_708bcd8d0740row14_col5,#T_23291c5e_2725_11eb_85e2_708bcd8d0740row15_col5,#T_23291c5e_2725_11eb_85e2_708bcd8d0740row16_col4,#T_23291c5e_2725_11eb_85e2_708bcd8d0740row16_col5,#T_23291c5e_2725_11eb_85e2_708bcd8d0740row16_col7{\n            background-color:  #a9373b;\n            color:  #f1f1f1;\n        }#T_23291c5e_2725_11eb_85e2_708bcd8d0740row0_col6,#T_23291c5e_2725_11eb_85e2_708bcd8d0740row4_col8,#T_23291c5e_2725_11eb_85e2_708bcd8d0740row16_col8{\n            background-color:  #658abe;\n            color:  #000000;\n        }#T_23291c5e_2725_11eb_85e2_708bcd8d0740row0_col7,#T_23291c5e_2725_11eb_85e2_708bcd8d0740row0_col9,#T_23291c5e_2725_11eb_85e2_708bcd8d0740row3_col7,#T_23291c5e_2725_11eb_85e2_708bcd8d0740row4_col9,#T_23291c5e_2725_11eb_85e2_708bcd8d0740row5_col7,#T_23291c5e_2725_11eb_85e2_708bcd8d0740row8_col9,#T_23291c5e_2725_11eb_85e2_708bcd8d0740row11_col7,#T_23291c5e_2725_11eb_85e2_708bcd8d0740row12_col7{\n            background-color:  #296cbc;\n            color:  #f1f1f1;\n        }#T_23291c5e_2725_11eb_85e2_708bcd8d0740row0_col8{\n            background-color:  #4a7bbc;\n            color:  #000000;\n        }#T_23291c5e_2725_11eb_85e2_708bcd8d0740row1_col4,#T_23291c5e_2725_11eb_85e2_708bcd8d0740row2_col4{\n            background-color:  #d29491;\n            color:  #000000;\n        }#T_23291c5e_2725_11eb_85e2_708bcd8d0740row1_col6,#T_23291c5e_2725_11eb_85e2_708bcd8d0740row7_col9{\n            background-color:  #2c6dbc;\n            color:  #f1f1f1;\n        }#T_23291c5e_2725_11eb_85e2_708bcd8d0740row2_col6,#T_23291c5e_2725_11eb_85e2_708bcd8d0740row6_col4{\n            background-color:  #3972bc;\n            color:  #000000;\n        }#T_23291c5e_2725_11eb_85e2_708bcd8d0740row2_col7{\n            background-color:  #266abd;\n            color:  #f1f1f1;\n        }#T_23291c5e_2725_11eb_85e2_708bcd8d0740row3_col4{\n            background-color:  #adbbd1;\n            color:  #000000;\n        }#T_23291c5e_2725_11eb_85e2_708bcd8d0740row3_col5{\n            background-color:  #af4647;\n            color:  #f1f1f1;\n        }#T_23291c5e_2725_11eb_85e2_708bcd8d0740row4_col4{\n            background-color:  #9aadca;\n            color:  #000000;\n        }#T_23291c5e_2725_11eb_85e2_708bcd8d0740row4_col5,#T_23291c5e_2725_11eb_85e2_708bcd8d0740row5_col5,#T_23291c5e_2725_11eb_85e2_708bcd8d0740row6_col5,#T_23291c5e_2725_11eb_85e2_708bcd8d0740row7_col5,#T_23291c5e_2725_11eb_85e2_708bcd8d0740row8_col5{\n            background-color:  #e1b9b6;\n            color:  #000000;\n        }#T_23291c5e_2725_11eb_85e2_708bcd8d0740row4_col7{\n            background-color:  #9fb0cc;\n            color:  #000000;\n        }#T_23291c5e_2725_11eb_85e2_708bcd8d0740row5_col8{\n            background-color:  #6288bd;\n            color:  #000000;\n        }#T_23291c5e_2725_11eb_85e2_708bcd8d0740row6_col7{\n            background-color:  #a5b5ce;\n            color:  #000000;\n        }#T_23291c5e_2725_11eb_85e2_708bcd8d0740row6_col9,#T_23291c5e_2725_11eb_85e2_708bcd8d0740row10_col8{\n            background-color:  #5581bc;\n            color:  #000000;\n        }#T_23291c5e_2725_11eb_85e2_708bcd8d0740row7_col4{\n            background-color:  #839dc4;\n            color:  #000000;\n        }#T_23291c5e_2725_11eb_85e2_708bcd8d0740row7_col7{\n            background-color:  #7896c1;\n            color:  #000000;\n        }#T_23291c5e_2725_11eb_85e2_708bcd8d0740row7_col8{\n            background-color:  #5b84bd;\n            color:  #000000;\n        }#T_23291c5e_2725_11eb_85e2_708bcd8d0740row8_col4{\n            background-color:  #a8b7cf;\n            color:  #000000;\n        }#T_23291c5e_2725_11eb_85e2_708bcd8d0740row8_col7{\n            background-color:  #aab8d0;\n            color:  #000000;\n        }#T_23291c5e_2725_11eb_85e2_708bcd8d0740row8_col8{\n            background-color:  #6489be;\n            color:  #000000;\n        }#T_23291c5e_2725_11eb_85e2_708bcd8d0740row9_col4,#T_23291c5e_2725_11eb_85e2_708bcd8d0740row11_col4{\n            background-color:  #7d99c2;\n            color:  #000000;\n        }#T_23291c5e_2725_11eb_85e2_708bcd8d0740row9_col6{\n            background-color:  #dde0e7;\n            color:  #000000;\n        }#T_23291c5e_2725_11eb_85e2_708bcd8d0740row9_col7{\n            background-color:  #6a8dbf;\n            color:  #000000;\n        }#T_23291c5e_2725_11eb_85e2_708bcd8d0740row9_col8{\n            background-color:  #5380bc;\n            color:  #000000;\n        }#T_23291c5e_2725_11eb_85e2_708bcd8d0740row10_col4,#T_23291c5e_2725_11eb_85e2_708bcd8d0740row12_col4{\n            background-color:  #2f6ebc;\n            color:  #f1f1f1;\n        }#T_23291c5e_2725_11eb_85e2_708bcd8d0740row10_col6{\n            background-color:  #bac4d6;\n            color:  #000000;\n        }#T_23291c5e_2725_11eb_85e2_708bcd8d0740row10_col7{\n            background-color:  #316fbc;\n            color:  #f1f1f1;\n        }#T_23291c5e_2725_11eb_85e2_708bcd8d0740row13_col4,#T_23291c5e_2725_11eb_85e2_708bcd8d0740row13_col6,#T_23291c5e_2725_11eb_85e2_708bcd8d0740row14_col4,#T_23291c5e_2725_11eb_85e2_708bcd8d0740row15_col4{\n            background-color:  #e9e9ed;\n            color:  #000000;\n        }#T_23291c5e_2725_11eb_85e2_708bcd8d0740row13_col7{\n            background-color:  #d5d9e3;\n            color:  #000000;\n        }#T_23291c5e_2725_11eb_85e2_708bcd8d0740row13_col8,#T_23291c5e_2725_11eb_85e2_708bcd8d0740row15_col8{\n            background-color:  #5e86bd;\n            color:  #000000;\n        }#T_23291c5e_2725_11eb_85e2_708bcd8d0740row14_col6{\n            background-color:  #b8c3d5;\n            color:  #000000;\n        }#T_23291c5e_2725_11eb_85e2_708bcd8d0740row14_col7{\n            background-color:  #8ba3c6;\n            color:  #000000;\n        }#T_23291c5e_2725_11eb_85e2_708bcd8d0740row14_col8{\n            background-color:  #4678bc;\n            color:  #000000;\n        }#T_23291c5e_2725_11eb_85e2_708bcd8d0740row15_col6{\n            background-color:  #e4e5eb;\n            color:  #000000;\n        }#T_23291c5e_2725_11eb_85e2_708bcd8d0740row15_col7{\n            background-color:  #d4d8e2;\n            color:  #000000;\n        }#T_23291c5e_2725_11eb_85e2_708bcd8d0740row16_col6{\n            background-color:  #f8f4f5;\n            color:  #000000;\n        }</style><table id=\"T_23291c5e_2725_11eb_85e2_708bcd8d0740\" ><thead>    <tr>        <th class=\"blank level0\" ></th>        <th class=\"col_heading level0 col0\" >column_name</th>        <th class=\"col_heading level0 col1\" >timestamp_column</th>        <th class=\"col_heading level0 col2\" >timestamp_min</th>        <th class=\"col_heading level0 col3\" >timestamp_max</th>        <th class=\"col_heading level0 col4\" >count</th>        <th class=\"col_heading level0 col5\" >min</th>        <th class=\"col_heading level0 col6\" >max</th>        <th class=\"col_heading level0 col7\" >sum</th>        <th class=\"col_heading level0 col8\" >avg</th>        <th class=\"col_heading level0 col9\" >resolution_estimated</th>    </tr></thead><tbody>\n                <tr>\n                        <th id=\"T_23291c5e_2725_11eb_85e2_708bcd8d0740level0_row0\" class=\"row_heading level0 row0\" >0</th>\n                        <td id=\"T_23291c5e_2725_11eb_85e2_708bcd8d0740row0_col0\" class=\"data row0 col0\" >pyro_cmp11_w08</td>\n                        <td id=\"T_23291c5e_2725_11eb_85e2_708bcd8d0740row0_col1\" class=\"data row0 col1\" >measurementdatetime</td>\n                        <td id=\"T_23291c5e_2725_11eb_85e2_708bcd8d0740row0_col2\" class=\"data row0 col2\" >2015-03-31 09:20:55</td>\n                        <td id=\"T_23291c5e_2725_11eb_85e2_708bcd8d0740row0_col3\" class=\"data row0 col3\" >2015-04-07 10:10:15</td>\n                        <td id=\"T_23291c5e_2725_11eb_85e2_708bcd8d0740row0_col4\" class=\"data row0 col4\" >121495.000000</td>\n                        <td id=\"T_23291c5e_2725_11eb_85e2_708bcd8d0740row0_col5\" class=\"data row0 col5\" >-25.392000</td>\n                        <td id=\"T_23291c5e_2725_11eb_85e2_708bcd8d0740row0_col6\" class=\"data row0 col6\" >422.357000</td>\n                        <td id=\"T_23291c5e_2725_11eb_85e2_708bcd8d0740row0_col7\" class=\"data row0 col7\" >9007371.793000</td>\n                        <td id=\"T_23291c5e_2725_11eb_85e2_708bcd8d0740row0_col8\" class=\"data row0 col8\" >74.137798</td>\n                        <td id=\"T_23291c5e_2725_11eb_85e2_708bcd8d0740row0_col9\" class=\"data row0 col9\" >5.002345</td>\n            </tr>\n            <tr>\n                        <th id=\"T_23291c5e_2725_11eb_85e2_708bcd8d0740level0_row1\" class=\"row_heading level0 row1\" >1</th>\n                        <td id=\"T_23291c5e_2725_11eb_85e2_708bcd8d0740row1_col0\" class=\"data row1 col0\" >pyro_cmp11_w04</td>\n                        <td id=\"T_23291c5e_2725_11eb_85e2_708bcd8d0740row1_col1\" class=\"data row1 col1\" >measurementdatetime</td>\n                        <td id=\"T_23291c5e_2725_11eb_85e2_708bcd8d0740row1_col2\" class=\"data row1 col2\" >2009-11-26 02:01:22</td>\n                        <td id=\"T_23291c5e_2725_11eb_85e2_708bcd8d0740row1_col3\" class=\"data row1 col3\" >2016-04-11 12:34:59</td>\n                        <td id=\"T_23291c5e_2725_11eb_85e2_708bcd8d0740row1_col4\" class=\"data row1 col4\" >150397930.000000</td>\n                        <td id=\"T_23291c5e_2725_11eb_85e2_708bcd8d0740row1_col5\" class=\"data row1 col5\" >-9999.000000</td>\n                        <td id=\"T_23291c5e_2725_11eb_85e2_708bcd8d0740row1_col6\" class=\"data row1 col6\" >58.750000</td>\n                        <td id=\"T_23291c5e_2725_11eb_85e2_708bcd8d0740row1_col7\" class=\"data row1 col7\" >-233612098.397000</td>\n                        <td id=\"T_23291c5e_2725_11eb_85e2_708bcd8d0740row1_col8\" class=\"data row1 col8\" >-1.553293</td>\n                        <td id=\"T_23291c5e_2725_11eb_85e2_708bcd8d0740row1_col9\" class=\"data row1 col9\" >1.337632</td>\n            </tr>\n            <tr>\n                        <th id=\"T_23291c5e_2725_11eb_85e2_708bcd8d0740level0_row2\" class=\"row_heading level0 row2\" >2</th>\n                        <td id=\"T_23291c5e_2725_11eb_85e2_708bcd8d0740row2_col0\" class=\"data row2 col0\" >pyro_cmp11_w05</td>\n                        <td id=\"T_23291c5e_2725_11eb_85e2_708bcd8d0740row2_col1\" class=\"data row2 col1\" >measurementdatetime</td>\n                        <td id=\"T_23291c5e_2725_11eb_85e2_708bcd8d0740row2_col2\" class=\"data row2 col2\" >2009-11-26 02:01:22</td>\n                        <td id=\"T_23291c5e_2725_11eb_85e2_708bcd8d0740row2_col3\" class=\"data row2 col3\" >2016-04-11 12:34:59</td>\n                        <td id=\"T_23291c5e_2725_11eb_85e2_708bcd8d0740row2_col4\" class=\"data row2 col4\" >150397930.000000</td>\n                        <td id=\"T_23291c5e_2725_11eb_85e2_708bcd8d0740row2_col5\" class=\"data row2 col5\" >-9999.000000</td>\n                        <td id=\"T_23291c5e_2725_11eb_85e2_708bcd8d0740row2_col6\" class=\"data row2 col6\" >120.000000</td>\n                        <td id=\"T_23291c5e_2725_11eb_85e2_708bcd8d0740row2_col7\" class=\"data row2 col7\" >-66437471.916000</td>\n                        <td id=\"T_23291c5e_2725_11eb_85e2_708bcd8d0740row2_col8\" class=\"data row2 col8\" >-0.441745</td>\n                        <td id=\"T_23291c5e_2725_11eb_85e2_708bcd8d0740row2_col9\" class=\"data row2 col9\" >1.337632</td>\n            </tr>\n            <tr>\n                        <th id=\"T_23291c5e_2725_11eb_85e2_708bcd8d0740level0_row3\" class=\"row_heading level0 row3\" >3</th>\n                        <td id=\"T_23291c5e_2725_11eb_85e2_708bcd8d0740row3_col0\" class=\"data row3 col0\" >pyro_cmp11_w06</td>\n                        <td id=\"T_23291c5e_2725_11eb_85e2_708bcd8d0740row3_col1\" class=\"data row3 col1\" >measurementdatetime</td>\n                        <td id=\"T_23291c5e_2725_11eb_85e2_708bcd8d0740row3_col2\" class=\"data row3 col2\" >2013-04-24 00:00:00</td>\n                        <td id=\"T_23291c5e_2725_11eb_85e2_708bcd8d0740row3_col3\" class=\"data row3 col3\" >2016-04-11 12:34:59</td>\n                        <td id=\"T_23291c5e_2725_11eb_85e2_708bcd8d0740row3_col4\" class=\"data row3 col4\" >58364327.000000</td>\n                        <td id=\"T_23291c5e_2725_11eb_85e2_708bcd8d0740row3_col5\" class=\"data row3 col5\" >-365.400000</td>\n                        <td id=\"T_23291c5e_2725_11eb_85e2_708bcd8d0740row3_col6\" class=\"data row3 col6\" >22.340000</td>\n                        <td id=\"T_23291c5e_2725_11eb_85e2_708bcd8d0740row3_col7\" class=\"data row3 col7\" >59999539.868000</td>\n                        <td id=\"T_23291c5e_2725_11eb_85e2_708bcd8d0740row3_col8\" class=\"data row3 col8\" >1.028017</td>\n                        <td id=\"T_23291c5e_2725_11eb_85e2_708bcd8d0740row3_col9\" class=\"data row3 col9\" >1.604002</td>\n            </tr>\n            <tr>\n                        <th id=\"T_23291c5e_2725_11eb_85e2_708bcd8d0740level0_row4\" class=\"row_heading level0 row4\" >4</th>\n                        <td id=\"T_23291c5e_2725_11eb_85e2_708bcd8d0740row4_col0\" class=\"data row4 col0\" >pyro_cm11_w01</td>\n                        <td id=\"T_23291c5e_2725_11eb_85e2_708bcd8d0740row4_col1\" class=\"data row4 col1\" >measurementdatetime</td>\n                        <td id=\"T_23291c5e_2725_11eb_85e2_708bcd8d0740row4_col2\" class=\"data row4 col2\" >2006-10-16 10:20:25</td>\n                        <td id=\"T_23291c5e_2725_11eb_85e2_708bcd8d0740row4_col3\" class=\"data row4 col3\" >2016-01-03 23:59:55</td>\n                        <td id=\"T_23291c5e_2725_11eb_85e2_708bcd8d0740row4_col4\" class=\"data row4 col4\" >49011794.000000</td>\n                        <td id=\"T_23291c5e_2725_11eb_85e2_708bcd8d0740row4_col5\" class=\"data row4 col5\" >-3333.000000</td>\n                        <td id=\"T_23291c5e_2725_11eb_85e2_708bcd8d0740row4_col6\" class=\"data row4 col6\" >3333.000000</td>\n                        <td id=\"T_23291c5e_2725_11eb_85e2_708bcd8d0740row4_col7\" class=\"data row4 col7\" >7034094985.207000</td>\n                        <td id=\"T_23291c5e_2725_11eb_85e2_708bcd8d0740row4_col8\" class=\"data row4 col8\" >143.518415</td>\n                        <td id=\"T_23291c5e_2725_11eb_85e2_708bcd8d0740row4_col9\" class=\"data row4 col9\" >5.934726</td>\n            </tr>\n            <tr>\n                        <th id=\"T_23291c5e_2725_11eb_85e2_708bcd8d0740level0_row5\" class=\"row_heading level0 row5\" >5</th>\n                        <td id=\"T_23291c5e_2725_11eb_85e2_708bcd8d0740row5_col0\" class=\"data row5 col0\" >pyro_cmp11_w01</td>\n                        <td id=\"T_23291c5e_2725_11eb_85e2_708bcd8d0740row5_col1\" class=\"data row5 col1\" >measurementdatetime</td>\n                        <td id=\"T_23291c5e_2725_11eb_85e2_708bcd8d0740row5_col2\" class=\"data row5 col2\" >2007-02-26 09:21:55</td>\n                        <td id=\"T_23291c5e_2725_11eb_85e2_708bcd8d0740row5_col3\" class=\"data row5 col3\" >2014-11-05 12:09:55</td>\n                        <td id=\"T_23291c5e_2725_11eb_85e2_708bcd8d0740row5_col4\" class=\"data row5 col4\" >510849.000000</td>\n                        <td id=\"T_23291c5e_2725_11eb_85e2_708bcd8d0740row5_col5\" class=\"data row5 col5\" >-3333.000000</td>\n                        <td id=\"T_23291c5e_2725_11eb_85e2_708bcd8d0740row5_col6\" class=\"data row5 col6\" >3333.000000</td>\n                        <td id=\"T_23291c5e_2725_11eb_85e2_708bcd8d0740row5_col7\" class=\"data row5 col7\" >68061412.225000</td>\n                        <td id=\"T_23291c5e_2725_11eb_85e2_708bcd8d0740row5_col8\" class=\"data row5 col8\" >133.231957</td>\n                        <td id=\"T_23291c5e_2725_11eb_85e2_708bcd8d0740row5_col9\" class=\"data row5 col9\" >475.106499</td>\n            </tr>\n            <tr>\n                        <th id=\"T_23291c5e_2725_11eb_85e2_708bcd8d0740level0_row6\" class=\"row_heading level0 row6\" >6</th>\n                        <td id=\"T_23291c5e_2725_11eb_85e2_708bcd8d0740row6_col0\" class=\"data row6 col0\" >pyro_cmp11_w02</td>\n                        <td id=\"T_23291c5e_2725_11eb_85e2_708bcd8d0740row6_col1\" class=\"data row6 col1\" >measurementdatetime</td>\n                        <td id=\"T_23291c5e_2725_11eb_85e2_708bcd8d0740row6_col2\" class=\"data row6 col2\" >2007-03-23 09:42:35</td>\n                        <td id=\"T_23291c5e_2725_11eb_85e2_708bcd8d0740row6_col3\" class=\"data row6 col3\" >2016-01-03 23:59:55</td>\n                        <td id=\"T_23291c5e_2725_11eb_85e2_708bcd8d0740row6_col4\" class=\"data row6 col4\" >6384249.000000</td>\n                        <td id=\"T_23291c5e_2725_11eb_85e2_708bcd8d0740row6_col5\" class=\"data row6 col5\" >-3333.000000</td>\n                        <td id=\"T_23291c5e_2725_11eb_85e2_708bcd8d0740row6_col6\" class=\"data row6 col6\" >3333.000000</td>\n                        <td id=\"T_23291c5e_2725_11eb_85e2_708bcd8d0740row6_col7\" class=\"data row6 col7\" >7468281700.412000</td>\n                        <td id=\"T_23291c5e_2725_11eb_85e2_708bcd8d0740row6_col8\" class=\"data row6 col8\" >1169.797998</td>\n                        <td id=\"T_23291c5e_2725_11eb_85e2_708bcd8d0740row6_col9\" class=\"data row6 col9\" >43.422905</td>\n            </tr>\n            <tr>\n                        <th id=\"T_23291c5e_2725_11eb_85e2_708bcd8d0740level0_row7\" class=\"row_heading level0 row7\" >7</th>\n                        <td id=\"T_23291c5e_2725_11eb_85e2_708bcd8d0740row7_col0\" class=\"data row7 col0\" >pyro_cm22_w02</td>\n                        <td id=\"T_23291c5e_2725_11eb_85e2_708bcd8d0740row7_col1\" class=\"data row7 col1\" >measurementdatetime</td>\n                        <td id=\"T_23291c5e_2725_11eb_85e2_708bcd8d0740row7_col2\" class=\"data row7 col2\" >2006-10-30 12:43:35</td>\n                        <td id=\"T_23291c5e_2725_11eb_85e2_708bcd8d0740row7_col3\" class=\"data row7 col3\" >2016-01-03 23:59:55</td>\n                        <td id=\"T_23291c5e_2725_11eb_85e2_708bcd8d0740row7_col4\" class=\"data row7 col4\" >38608677.000000</td>\n                        <td id=\"T_23291c5e_2725_11eb_85e2_708bcd8d0740row7_col5\" class=\"data row7 col5\" >-3333.000000</td>\n                        <td id=\"T_23291c5e_2725_11eb_85e2_708bcd8d0740row7_col6\" class=\"data row7 col6\" >3333.000000</td>\n                        <td id=\"T_23291c5e_2725_11eb_85e2_708bcd8d0740row7_col7\" class=\"data row7 col7\" >4388886255.452000</td>\n                        <td id=\"T_23291c5e_2725_11eb_85e2_708bcd8d0740row7_col8\" class=\"data row7 col8\" >113.676163</td>\n                        <td id=\"T_23291c5e_2725_11eb_85e2_708bcd8d0740row7_col9\" class=\"data row7 col9\" >7.502287</td>\n            </tr>\n            <tr>\n                        <th id=\"T_23291c5e_2725_11eb_85e2_708bcd8d0740level0_row8\" class=\"row_heading level0 row8\" >8</th>\n                        <td id=\"T_23291c5e_2725_11eb_85e2_708bcd8d0740row8_col0\" class=\"data row8 col0\" >pyro_cm22_w01</td>\n                        <td id=\"T_23291c5e_2725_11eb_85e2_708bcd8d0740row8_col1\" class=\"data row8 col1\" >measurementdatetime</td>\n                        <td id=\"T_23291c5e_2725_11eb_85e2_708bcd8d0740row8_col2\" class=\"data row8 col2\" >2006-10-16 10:20:25</td>\n                        <td id=\"T_23291c5e_2725_11eb_85e2_708bcd8d0740row8_col3\" class=\"data row8 col3\" >2016-01-03 23:59:55</td>\n                        <td id=\"T_23291c5e_2725_11eb_85e2_708bcd8d0740row8_col4\" class=\"data row8 col4\" >56196938.000000</td>\n                        <td id=\"T_23291c5e_2725_11eb_85e2_708bcd8d0740row8_col5\" class=\"data row8 col5\" >-3333.000000</td>\n                        <td id=\"T_23291c5e_2725_11eb_85e2_708bcd8d0740row8_col6\" class=\"data row8 col6\" >3333.000000</td>\n                        <td id=\"T_23291c5e_2725_11eb_85e2_708bcd8d0740row8_col7\" class=\"data row8 col7\" >7863325025.480000</td>\n                        <td id=\"T_23291c5e_2725_11eb_85e2_708bcd8d0740row8_col8\" class=\"data row8 col8\" >139.924439</td>\n                        <td id=\"T_23291c5e_2725_11eb_85e2_708bcd8d0740row8_col9\" class=\"data row8 col9\" >5.175932</td>\n            </tr>\n            <tr>\n                        <th id=\"T_23291c5e_2725_11eb_85e2_708bcd8d0740level0_row9\" class=\"row_heading level0 row9\" >9</th>\n                        <td id=\"T_23291c5e_2725_11eb_85e2_708bcd8d0740row9_col0\" class=\"data row9 col0\" >pyro_cmp11_w07</td>\n                        <td id=\"T_23291c5e_2725_11eb_85e2_708bcd8d0740row9_col1\" class=\"data row9 col1\" >measurementdatetime</td>\n                        <td id=\"T_23291c5e_2725_11eb_85e2_708bcd8d0740row9_col2\" class=\"data row9 col2\" >2015-01-16 15:56:20</td>\n                        <td id=\"T_23291c5e_2725_11eb_85e2_708bcd8d0740row9_col3\" class=\"data row9 col3\" >2016-04-11 12:40:02</td>\n                        <td id=\"T_23291c5e_2725_11eb_85e2_708bcd8d0740row9_col4\" class=\"data row9 col4\" >35537473.000000</td>\n                        <td id=\"T_23291c5e_2725_11eb_85e2_708bcd8d0740row9_col5\" class=\"data row9 col5\" >-6.345000</td>\n                        <td id=\"T_23291c5e_2725_11eb_85e2_708bcd8d0740row9_col6\" class=\"data row9 col6\" >1385.000000</td>\n                        <td id=\"T_23291c5e_2725_11eb_85e2_708bcd8d0740row9_col7\" class=\"data row9 col7\" >3502404799.888000</td>\n                        <td id=\"T_23291c5e_2725_11eb_85e2_708bcd8d0740row9_col8\" class=\"data row9 col8\" >98.555257</td>\n                        <td id=\"T_23291c5e_2725_11eb_85e2_708bcd8d0740row9_col9\" class=\"data row9 col9\" >1.096156</td>\n            </tr>\n            <tr>\n                        <th id=\"T_23291c5e_2725_11eb_85e2_708bcd8d0740level0_row10\" class=\"row_heading level0 row10\" >10</th>\n                        <td id=\"T_23291c5e_2725_11eb_85e2_708bcd8d0740row10_col0\" class=\"data row10 col0\" >pyro_cmp11_w01</td>\n                        <td id=\"T_23291c5e_2725_11eb_85e2_708bcd8d0740row10_col1\" class=\"data row10 col1\" >measurementdatetime</td>\n                        <td id=\"T_23291c5e_2725_11eb_85e2_708bcd8d0740row10_col2\" class=\"data row10 col2\" >2016-02-25 14:26:48</td>\n                        <td id=\"T_23291c5e_2725_11eb_85e2_708bcd8d0740row10_col3\" class=\"data row10 col3\" >2016-04-11 12:40:02</td>\n                        <td id=\"T_23291c5e_2725_11eb_85e2_708bcd8d0740row10_col4\" class=\"data row10 col4\" >3967993.000000</td>\n                        <td id=\"T_23291c5e_2725_11eb_85e2_708bcd8d0740row10_col5\" class=\"data row10 col5\" >-4.127000</td>\n                        <td id=\"T_23291c5e_2725_11eb_85e2_708bcd8d0740row10_col6\" class=\"data row10 col6\" >1095.000000</td>\n                        <td id=\"T_23291c5e_2725_11eb_85e2_708bcd8d0740row10_col7\" class=\"data row10 col7\" >399976458.540000</td>\n                        <td id=\"T_23291c5e_2725_11eb_85e2_708bcd8d0740row10_col8\" class=\"data row10 col8\" >100.800697</td>\n                        <td id=\"T_23291c5e_2725_11eb_85e2_708bcd8d0740row10_col9\" class=\"data row10 col9\" >1.000000</td>\n            </tr>\n            <tr>\n                        <th id=\"T_23291c5e_2725_11eb_85e2_708bcd8d0740level0_row11\" class=\"row_heading level0 row11\" >11</th>\n                        <td id=\"T_23291c5e_2725_11eb_85e2_708bcd8d0740row11_col0\" class=\"data row11 col0\" >pyro_cmp11_w07_voltage</td>\n                        <td id=\"T_23291c5e_2725_11eb_85e2_708bcd8d0740row11_col1\" class=\"data row11 col1\" >measurementdatetime</td>\n                        <td id=\"T_23291c5e_2725_11eb_85e2_708bcd8d0740row11_col2\" class=\"data row11 col2\" >2015-01-16 15:56:20</td>\n                        <td id=\"T_23291c5e_2725_11eb_85e2_708bcd8d0740row11_col3\" class=\"data row11 col3\" >2016-04-11 12:40:02</td>\n                        <td id=\"T_23291c5e_2725_11eb_85e2_708bcd8d0740row11_col4\" class=\"data row11 col4\" >35537473.000000</td>\n                        <td id=\"T_23291c5e_2725_11eb_85e2_708bcd8d0740row11_col5\" class=\"data row11 col5\" >-0.053000</td>\n                        <td id=\"T_23291c5e_2725_11eb_85e2_708bcd8d0740row11_col6\" class=\"data row11 col6\" >11.660000</td>\n                        <td id=\"T_23291c5e_2725_11eb_85e2_708bcd8d0740row11_col7\" class=\"data row11 col7\" >29490122.226000</td>\n                        <td id=\"T_23291c5e_2725_11eb_85e2_708bcd8d0740row11_col8\" class=\"data row11 col8\" >0.829832</td>\n                        <td id=\"T_23291c5e_2725_11eb_85e2_708bcd8d0740row11_col9\" class=\"data row11 col9\" >1.096156</td>\n            </tr>\n            <tr>\n                        <th id=\"T_23291c5e_2725_11eb_85e2_708bcd8d0740level0_row12\" class=\"row_heading level0 row12\" >12</th>\n                        <td id=\"T_23291c5e_2725_11eb_85e2_708bcd8d0740row12_col0\" class=\"data row12 col0\" >pyro_cmp11_w01_voltage</td>\n                        <td id=\"T_23291c5e_2725_11eb_85e2_708bcd8d0740row12_col1\" class=\"data row12 col1\" >measurementdatetime</td>\n                        <td id=\"T_23291c5e_2725_11eb_85e2_708bcd8d0740row12_col2\" class=\"data row12 col2\" >2016-02-25 14:26:48</td>\n                        <td id=\"T_23291c5e_2725_11eb_85e2_708bcd8d0740row12_col3\" class=\"data row12 col3\" >2016-04-11 12:40:02</td>\n                        <td id=\"T_23291c5e_2725_11eb_85e2_708bcd8d0740row12_col4\" class=\"data row12 col4\" >3967993.000000</td>\n                        <td id=\"T_23291c5e_2725_11eb_85e2_708bcd8d0740row12_col5\" class=\"data row12 col5\" >-0.037000</td>\n                        <td id=\"T_23291c5e_2725_11eb_85e2_708bcd8d0740row12_col6\" class=\"data row12 col6\" >9.730000</td>\n                        <td id=\"T_23291c5e_2725_11eb_85e2_708bcd8d0740row12_col7\" class=\"data row12 col7\" >3551761.898000</td>\n                        <td id=\"T_23291c5e_2725_11eb_85e2_708bcd8d0740row12_col8\" class=\"data row12 col8\" >0.895103</td>\n                        <td id=\"T_23291c5e_2725_11eb_85e2_708bcd8d0740row12_col9\" class=\"data row12 col9\" >1.000000</td>\n            </tr>\n            <tr>\n                        <th id=\"T_23291c5e_2725_11eb_85e2_708bcd8d0740level0_row13\" class=\"row_heading level0 row13\" >13</th>\n                        <td id=\"T_23291c5e_2725_11eb_85e2_708bcd8d0740row13_col0\" class=\"data row13 col0\" >pyro_cmp11_w07</td>\n                        <td id=\"T_23291c5e_2725_11eb_85e2_708bcd8d0740row13_col1\" class=\"data row13 col1\" >tmstamp</td>\n                        <td id=\"T_23291c5e_2725_11eb_85e2_708bcd8d0740row13_col2\" class=\"data row13 col2\" >2018-01-01 00:00:01</td>\n                        <td id=\"T_23291c5e_2725_11eb_85e2_708bcd8d0740row13_col3\" class=\"data row13 col3\" >2020-09-30 23:59:59</td>\n                        <td id=\"T_23291c5e_2725_11eb_85e2_708bcd8d0740row13_col4\" class=\"data row13 col4\" >86745217.000000</td>\n                        <td id=\"T_23291c5e_2725_11eb_85e2_708bcd8d0740row13_col5\" class=\"data row13 col5\" >-10.380000</td>\n                        <td id=\"T_23291c5e_2725_11eb_85e2_708bcd8d0740row13_col6\" class=\"data row13 col6\" >1471.000000</td>\n                        <td id=\"T_23291c5e_2725_11eb_85e2_708bcd8d0740row13_col7\" class=\"data row13 col7\" >10853377726.668001</td>\n                        <td id=\"T_23291c5e_2725_11eb_85e2_708bcd8d0740row13_col8\" class=\"data row13 col8\" >125.117881</td>\n                        <td id=\"T_23291c5e_2725_11eb_85e2_708bcd8d0740row13_col9\" class=\"data row13 col9\" >1.000004</td>\n            </tr>\n            <tr>\n                        <th id=\"T_23291c5e_2725_11eb_85e2_708bcd8d0740level0_row14\" class=\"row_heading level0 row14\" >14</th>\n                        <td id=\"T_23291c5e_2725_11eb_85e2_708bcd8d0740row14_col0\" class=\"data row14 col0\" >pyro_cmp11_w08</td>\n                        <td id=\"T_23291c5e_2725_11eb_85e2_708bcd8d0740row14_col1\" class=\"data row14 col1\" >tmstamp</td>\n                        <td id=\"T_23291c5e_2725_11eb_85e2_708bcd8d0740row14_col2\" class=\"data row14 col2\" >2018-01-01 00:00:01</td>\n                        <td id=\"T_23291c5e_2725_11eb_85e2_708bcd8d0740row14_col3\" class=\"data row14 col3\" >2020-09-30 23:59:59</td>\n                        <td id=\"T_23291c5e_2725_11eb_85e2_708bcd8d0740row14_col4\" class=\"data row14 col4\" >86745217.000000</td>\n                        <td id=\"T_23291c5e_2725_11eb_85e2_708bcd8d0740row14_col5\" class=\"data row14 col5\" >-9.480000</td>\n                        <td id=\"T_23291c5e_2725_11eb_85e2_708bcd8d0740row14_col6\" class=\"data row14 col6\" >1077.000000</td>\n                        <td id=\"T_23291c5e_2725_11eb_85e2_708bcd8d0740row14_col7\" class=\"data row14 col7\" >5807469017.864000</td>\n                        <td id=\"T_23291c5e_2725_11eb_85e2_708bcd8d0740row14_col8\" class=\"data row14 col8\" >66.948579</td>\n                        <td id=\"T_23291c5e_2725_11eb_85e2_708bcd8d0740row14_col9\" class=\"data row14 col9\" >1.000004</td>\n            </tr>\n            <tr>\n                        <th id=\"T_23291c5e_2725_11eb_85e2_708bcd8d0740level0_row15\" class=\"row_heading level0 row15\" >15</th>\n                        <td id=\"T_23291c5e_2725_11eb_85e2_708bcd8d0740row15_col0\" class=\"data row15 col0\" >pyro_cmp11_w01</td>\n                        <td id=\"T_23291c5e_2725_11eb_85e2_708bcd8d0740row15_col1\" class=\"data row15 col1\" >tmstamp</td>\n                        <td id=\"T_23291c5e_2725_11eb_85e2_708bcd8d0740row15_col2\" class=\"data row15 col2\" >2018-01-01 00:00:01</td>\n                        <td id=\"T_23291c5e_2725_11eb_85e2_708bcd8d0740row15_col3\" class=\"data row15 col3\" >2020-09-30 23:59:59</td>\n                        <td id=\"T_23291c5e_2725_11eb_85e2_708bcd8d0740row15_col4\" class=\"data row15 col4\" >86745217.000000</td>\n                        <td id=\"T_23291c5e_2725_11eb_85e2_708bcd8d0740row15_col5\" class=\"data row15 col5\" >-6.202000</td>\n                        <td id=\"T_23291c5e_2725_11eb_85e2_708bcd8d0740row15_col6\" class=\"data row15 col6\" >1428.000000</td>\n                        <td id=\"T_23291c5e_2725_11eb_85e2_708bcd8d0740row15_col7\" class=\"data row15 col7\" >10698559474.096001</td>\n                        <td id=\"T_23291c5e_2725_11eb_85e2_708bcd8d0740row15_col8\" class=\"data row15 col8\" >123.333134</td>\n                        <td id=\"T_23291c5e_2725_11eb_85e2_708bcd8d0740row15_col9\" class=\"data row15 col9\" >1.000004</td>\n            </tr>\n            <tr>\n                        <th id=\"T_23291c5e_2725_11eb_85e2_708bcd8d0740level0_row16\" class=\"row_heading level0 row16\" >16</th>\n                        <td id=\"T_23291c5e_2725_11eb_85e2_708bcd8d0740row16_col0\" class=\"data row16 col0\" >g_cmp11_ppuk</td>\n                        <td id=\"T_23291c5e_2725_11eb_85e2_708bcd8d0740row16_col1\" class=\"data row16 col1\" >tmstamp</td>\n                        <td id=\"T_23291c5e_2725_11eb_85e2_708bcd8d0740row16_col2\" class=\"data row16 col2\" >2013-04-24 00:00:00</td>\n                        <td id=\"T_23291c5e_2725_11eb_85e2_708bcd8d0740row16_col3\" class=\"data row16 col3\" >2020-10-01 23:59:59</td>\n                        <td id=\"T_23291c5e_2725_11eb_85e2_708bcd8d0740row16_col4\" class=\"data row16 col4\" >197654350.000000</td>\n                        <td id=\"T_23291c5e_2725_11eb_85e2_708bcd8d0740row16_col5\" class=\"data row16 col5\" >-6.364000</td>\n                        <td id=\"T_23291c5e_2725_11eb_85e2_708bcd8d0740row16_col6\" class=\"data row16 col6\" >1611.364000</td>\n                        <td id=\"T_23291c5e_2725_11eb_85e2_708bcd8d0740row16_col7\" class=\"data row16 col7\" >27894346159.285999</td>\n                        <td id=\"T_23291c5e_2725_11eb_85e2_708bcd8d0740row16_col8\" class=\"data row16 col8\" >141.126902</td>\n                        <td id=\"T_23291c5e_2725_11eb_85e2_708bcd8d0740row16_col9\" class=\"data row16 col9\" >1.188110</td>\n            </tr>\n    </tbody></table>"
     },
     "execution_count": 21,
     "metadata": {},
     "output_type": "execute_result"
    }
   ],
   "source": [
    "%matplotlib inline\n",
    "poa_columns_description[\"resolution_estimated\"] = ((poa_columns_description.timestamp_max - poa_columns_description.timestamp_min)/\n",
    "                                            poa_columns_description[\"count\"])\n",
    "poa_columns_description.resolution_estimated = poa_columns_description.resolution_estimated.transform(lambda x: x.total_seconds())\n",
    "\n",
    "poa_columns_description.style.background_gradient(cmap='vlag')\n",
    "#additional information on colour formatting at:\n",
    "#https://pandas.pydata.org/pandas-docs/stable/user_guide/style.html\n",
    "#https://seaborn.pydata.org/tutorial/color_palettes.html"
   ],
   "metadata": {
    "collapsed": false,
    "pycharm": {
     "name": "#%%\n"
    }
   }
  },
  {
   "cell_type": "markdown",
   "source": [
    "#### Conclusions on PoA dataset\n",
    "Only *g_cmp11_ppuk* is selected for future analysis due the following reasons:\n",
    "- Monitoring up to the present time (since 2013).\n",
    "- High resolution data (1s)\n",
    "- Highest number of valid data (about 200 millions)\n",
    "- Realistic minimum (-6.3 W/m2) and average (141.12 W/m2)\n",
    "\n",
    "Maximum value of 1611 W/m2 seems also quite realistic since the other realistic values correspond to shorter timeframes.\n",
    "\n",
    "Estimated resolution of 1.19 shows the presence of unwanted null values which should be addressed before further analysis."
   ],
   "metadata": {
    "collapsed": false
   }
  },
  {
   "cell_type": "markdown",
   "source": [
    "No information are available on where *g_cmp11_ppuk* is located but '11' sensors are in four locations:\n",
    "Overview table of PoA sensors"
   ],
   "metadata": {
    "collapsed": false,
    "pycharm": {
     "name": "#%% md\n"
    }
   }
  },
  {
   "cell_type": "code",
   "source": [
    "poa_sensors = poa_sensors_info.loc[poa_sensors_info.sensorname.str.contains('11'),\n",
    "                                   [\"sensorname\",\"manufacturerserialnumber\",\"sensorcomment\", \"lastcalibrationdate\", \"nameoflocation\"]]\n",
    "poa_sensors"
   ],
   "metadata": {
    "collapsed": false,
    "pycharm": {
     "name": "#%%\n"
    }
   },
   "execution_count": 8,
   "outputs": [
    {
     "data": {
      "text/plain": "       sensorname manufacturerserialnumber  \\\n1  Pyro_CMP11_W03                   060118   \n2   Pyro_CM11_W01                   027700   \n3  pyro_cmp11_w05                    80286   \n4  pyro_cmp11_w06                   115538   \n5  Pyro_CMP11_W09                   140092   \n\n                                                  sensorcomment  \\\n1                                                          None   \n2                                                    Indoor cal   \n3                    MMS1 on highest rack near lift  indoor cal   \n4                                                    indoor cal   \n5  in CVF4 vent unit, on GRP grid, on southernmost upstand rack   \n\n  lastcalibrationdate                                          nameoflocation  \n1                None           CREST Wroof north end-low upstand South 45deg  \n2          2014-10-31  CREST W roof northerly-high upstand South-facing 45deg  \n3          2014-11-03  CREST W roof northerly-high upstand South-facing 45deg  \n4          2014-10-31             CREST Wroof NE end-low upstand South 34 deg  \n5          2014-01-21         CREST Wroof south-east-area upstand South 34deg  ",
      "text/html": "<div>\n<style scoped>\n    .dataframe tbody tr th:only-of-type {\n        vertical-align: middle;\n    }\n\n    .dataframe tbody tr th {\n        vertical-align: top;\n    }\n\n    .dataframe thead th {\n        text-align: right;\n    }\n</style>\n<table border=\"1\" class=\"dataframe\">\n  <thead>\n    <tr style=\"text-align: right;\">\n      <th></th>\n      <th>sensorname</th>\n      <th>manufacturerserialnumber</th>\n      <th>sensorcomment</th>\n      <th>lastcalibrationdate</th>\n      <th>nameoflocation</th>\n    </tr>\n  </thead>\n  <tbody>\n    <tr>\n      <th>1</th>\n      <td>Pyro_CMP11_W03</td>\n      <td>060118</td>\n      <td>None</td>\n      <td>None</td>\n      <td>CREST Wroof north end-low upstand South 45deg</td>\n    </tr>\n    <tr>\n      <th>2</th>\n      <td>Pyro_CM11_W01</td>\n      <td>027700</td>\n      <td>Indoor cal</td>\n      <td>2014-10-31</td>\n      <td>CREST W roof northerly-high upstand South-facing 45deg</td>\n    </tr>\n    <tr>\n      <th>3</th>\n      <td>pyro_cmp11_w05</td>\n      <td>80286</td>\n      <td>MMS1 on highest rack near lift  indoor cal</td>\n      <td>2014-11-03</td>\n      <td>CREST W roof northerly-high upstand South-facing 45deg</td>\n    </tr>\n    <tr>\n      <th>4</th>\n      <td>pyro_cmp11_w06</td>\n      <td>115538</td>\n      <td>indoor cal</td>\n      <td>2014-10-31</td>\n      <td>CREST Wroof NE end-low upstand South 34 deg</td>\n    </tr>\n    <tr>\n      <th>5</th>\n      <td>Pyro_CMP11_W09</td>\n      <td>140092</td>\n      <td>in CVF4 vent unit, on GRP grid, on southernmost upstand rack</td>\n      <td>2014-01-21</td>\n      <td>CREST Wroof south-east-area upstand South 34deg</td>\n    </tr>\n  </tbody>\n</table>\n</div>"
     },
     "execution_count": 8,
     "metadata": {},
     "output_type": "execute_result"
    }
   ]
  },
  {
   "cell_type": "markdown",
   "source": [
    "Unique locations found:"
   ],
   "metadata": {
    "collapsed": false,
    "pycharm": {
     "name": "#%% md\n"
    }
   }
  },
  {
   "cell_type": "code",
   "source": [
    "[print(location) for location in poa_sensors[\"nameoflocation\"].unique().tolist()]"
   ],
   "metadata": {
    "collapsed": false,
    "pycharm": {
     "name": "#%%\n"
    }
   },
   "execution_count": 12,
   "outputs": [
    {
     "name": "stdout",
     "output_type": "stream",
     "text": [
      "CREST Wroof north end-low upstand South 45deg\n",
      "CREST W roof northerly-high upstand South-facing 45deg\n",
      "CREST Wroof NE end-low upstand South 34 deg\n",
      "CREST Wroof south-east-area upstand South 34deg\n"
     ]
    },
    {
     "data": {
      "text/plain": "[None, None, None, None]"
     },
     "execution_count": 12,
     "metadata": {},
     "output_type": "execute_result"
    }
   ]
  },
  {
   "cell_type": "markdown",
   "source": [
    "For *pyro_cmp11_w06* (id 115538) KZ calibration certificate 005897115538 was found (21 November 2011).\n",
    "No information about the abovementioned id is found among the indoor calibration files (starting from 29/07/2015).\n",
    "Among the PoA sensor only one calibration (file dated 20/07/20) is found and it is related to serial number 060118."
   ],
   "metadata": {
    "collapsed": false
   }
  },
  {
   "cell_type": "markdown",
   "source": [
    "**UPDATE 2/12/20 (email)**\n",
    "It is confirmed that *g_cmp11_ppuk* refers to *pyro_cmp11_W06* and that the sensor is not ventilated\n",
    "(ventilation was not mentioned in the description). Original found calibration date of 21/11/20 is also confirmed.\n",
    "Sensor was recalibrated indoor on 31/10/2014 (confirmed sensitivity of 8.80 uV/Wm-2)\n",
    "but no calibration file is available in the availabe series from 2015."
   ],
   "metadata": {
    "collapsed": false
   }
  },
  {
   "cell_type": "code",
   "execution_count": 20,
   "outputs": [
    {
     "data": {
      "text/plain": "                                                filename    sample_id  \\\n0  WAC-010-20180720123750-CMP11060118-000-RESTRICTED.txt  CMP11060118   \n\n  sample_type sample_details  reference_id reference_type  \\\n0       CMP11             \"\"  CMP21-140465            K&Z   \n\n  reference_sensitivity [uV/Wm-2]     wacom_id wacom_type meas_temp  \\\n0                  8.610000000E+0  RCCWAR-Q087       c-Si     25.02   \n\n            meas_time response_av [uV/Wm-2] response_std [uV/Wm-2]  \\\n0 2018-07-20 09:32:14        8.705891315E+0         4.548413755E-3   \n\n  irradiance_av [uV/Wm-2] irradiance_std [uV/Wm-2]  \n0          1.246032938E+3           2.298632090E-1  ",
      "text/html": "<div>\n<style scoped>\n    .dataframe tbody tr th:only-of-type {\n        vertical-align: middle;\n    }\n\n    .dataframe tbody tr th {\n        vertical-align: top;\n    }\n\n    .dataframe thead th {\n        text-align: right;\n    }\n</style>\n<table border=\"1\" class=\"dataframe\">\n  <thead>\n    <tr style=\"text-align: right;\">\n      <th></th>\n      <th>filename</th>\n      <th>sample_id</th>\n      <th>sample_type</th>\n      <th>sample_details</th>\n      <th>reference_id</th>\n      <th>reference_type</th>\n      <th>reference_sensitivity [uV/Wm-2]</th>\n      <th>wacom_id</th>\n      <th>wacom_type</th>\n      <th>meas_temp</th>\n      <th>meas_time</th>\n      <th>response_av [uV/Wm-2]</th>\n      <th>response_std [uV/Wm-2]</th>\n      <th>irradiance_av [uV/Wm-2]</th>\n      <th>irradiance_std [uV/Wm-2]</th>\n    </tr>\n  </thead>\n  <tbody>\n    <tr>\n      <th>0</th>\n      <td>WAC-010-20180720123750-CMP11060118-000-RESTRICTED.txt</td>\n      <td>CMP11060118</td>\n      <td>CMP11</td>\n      <td>\"\"</td>\n      <td>CMP21-140465</td>\n      <td>K&amp;Z</td>\n      <td>8.610000000E+0</td>\n      <td>RCCWAR-Q087</td>\n      <td>c-Si</td>\n      <td>25.02</td>\n      <td>2018-07-20 09:32:14</td>\n      <td>8.705891315E+0</td>\n      <td>4.548413755E-3</td>\n      <td>1.246032938E+3</td>\n      <td>2.298632090E-1</td>\n    </tr>\n  </tbody>\n</table>\n</div>"
     },
     "execution_count": 20,
     "metadata": {},
     "output_type": "execute_result"
    }
   ],
   "source": [
    "calibrations_info = clb._main_info_to_dataframe()\n",
    "search_str = \"|\".join(poa_sensors.manufacturerserialnumber.to_list())\n",
    "calibration_info_poa_sensors = pd.DataFrame(columns=calibrations_info.columns)\n",
    "columns_to_be_explored = ['filename', 'sample_id', 'sample_type', 'sample_details']\n",
    "#aggregate detailed information into one field for better visualisation\n",
    "calibrations_info['sample_details'] = calibrations_info['sample_details'].transform(lambda x: \" \".join([x for x in x]))\n",
    "for i, row in calibrations_info[columns_to_be_explored].iterrows():\n",
    "    #look for found manufacturer serial numbers in the dataset\n",
    "    _ = row.str.contains(search_str)\n",
    "    if any(_):\n",
    "        calibration_info_poa_sensors = calibration_info_poa_sensors.append(calibrations_info.loc[i,:], ignore_index=True)\n",
    "calibration_info_poa_sensors"
   ],
   "metadata": {
    "collapsed": false,
    "pycharm": {
     "name": "#%%\n"
    }
   }
  },
  {
   "cell_type": "markdown",
   "source": [
    "### Modules measurement datasets\n",
    "To fulfill research objectives, modules monitored along *g_cmp11_ppuk* are first identified based on the found locations.\n",
    "\n",
    "#### Extracting aggregate functions to analyse PoA parameters\n",
    "First isc columns are described similary to what done for the poa irradiance parameters."
   ],
   "metadata": {
    "collapsed": false,
    "pycharm": {
     "name": "#%% md\n"
    }
   }
  },
  {
   "cell_type": "code",
   "execution_count": 5,
   "outputs": [
    {
     "data": {
      "text/plain": "  table_schema  table_name          column_name data_type     timestamp_column\n0       w_meas   mms1v1met     isc_refmod_sharp   numeric  measurementdatetime\n1       w_meas   mms1v1met  isc_refmod_sunpower   numeric  measurementdatetime\n2       w_meas   mms1v1met       isc_refmod_rec   numeric  measurementdatetime\n3       w_meas   mms1v1met    isc_refmod_yingli   numeric  measurementdatetime\n4       w_meas   mms1v1met     isc_refmod_wurth   numeric  measurementdatetime\n5       w_meas  pv_ivt_tom                  isc   numeric         obstimestamp",
      "text/html": "<div>\n<style scoped>\n    .dataframe tbody tr th:only-of-type {\n        vertical-align: middle;\n    }\n\n    .dataframe tbody tr th {\n        vertical-align: top;\n    }\n\n    .dataframe thead th {\n        text-align: right;\n    }\n</style>\n<table border=\"1\" class=\"dataframe\">\n  <thead>\n    <tr style=\"text-align: right;\">\n      <th></th>\n      <th>table_schema</th>\n      <th>table_name</th>\n      <th>column_name</th>\n      <th>data_type</th>\n      <th>timestamp_column</th>\n    </tr>\n  </thead>\n  <tbody>\n    <tr>\n      <th>0</th>\n      <td>w_meas</td>\n      <td>mms1v1met</td>\n      <td>isc_refmod_sharp</td>\n      <td>numeric</td>\n      <td>measurementdatetime</td>\n    </tr>\n    <tr>\n      <th>1</th>\n      <td>w_meas</td>\n      <td>mms1v1met</td>\n      <td>isc_refmod_sunpower</td>\n      <td>numeric</td>\n      <td>measurementdatetime</td>\n    </tr>\n    <tr>\n      <th>2</th>\n      <td>w_meas</td>\n      <td>mms1v1met</td>\n      <td>isc_refmod_rec</td>\n      <td>numeric</td>\n      <td>measurementdatetime</td>\n    </tr>\n    <tr>\n      <th>3</th>\n      <td>w_meas</td>\n      <td>mms1v1met</td>\n      <td>isc_refmod_yingli</td>\n      <td>numeric</td>\n      <td>measurementdatetime</td>\n    </tr>\n    <tr>\n      <th>4</th>\n      <td>w_meas</td>\n      <td>mms1v1met</td>\n      <td>isc_refmod_wurth</td>\n      <td>numeric</td>\n      <td>measurementdatetime</td>\n    </tr>\n    <tr>\n      <th>5</th>\n      <td>w_meas</td>\n      <td>pv_ivt_tom</td>\n      <td>isc</td>\n      <td>numeric</td>\n      <td>obstimestamp</td>\n    </tr>\n  </tbody>\n</table>\n</div>"
     },
     "execution_count": 5,
     "metadata": {},
     "output_type": "execute_result"
    }
   ],
   "source": [
    "isc_columns_information = engine.get_columns_information_schema(column_numbers_included = [''],\n",
    "    column_strings_included = [\"isc\"])\n",
    "isc_columns_information"
   ],
   "metadata": {
    "collapsed": false,
    "pycharm": {
     "name": "#%%\n"
    }
   }
  },
  {
   "cell_type": "markdown",
   "source": [
    "1h of processing is required thus information is stored into file \"isc_columns_description.csv\"."
   ],
   "metadata": {
    "collapsed": false
   }
  },
  {
   "cell_type": "code",
   "source": [
    "text_stream =  open(\"isc_columns_description.csv\", 'w')\n",
    "\n",
    "clm_inf = engine.get_columns_description(\n",
    "    column_numbers_included = [''],\n",
    "    column_strings_included = [\"isc\"],\n",
    "    text_stream= text_stream)"
   ],
   "metadata": {
    "collapsed": false,
    "pycharm": {
     "name": "#%%\n"
    }
   },
   "execution_count": null,
   "outputs": []
  },
  {
   "cell_type": "code",
   "execution_count": 2,
   "outputs": [
    {
     "data": {
      "text/plain": "<pandas.io.formats.style.Styler at 0x18cfef58788>",
      "text/html": "<style  type=\"text/css\" >\n#T_1055df6c_274c_11eb_ac2f_708bcd8d0740row0_col4,#T_1055df6c_274c_11eb_ac2f_708bcd8d0740row1_col4,#T_1055df6c_274c_11eb_ac2f_708bcd8d0740row2_col4,#T_1055df6c_274c_11eb_ac2f_708bcd8d0740row3_col4,#T_1055df6c_274c_11eb_ac2f_708bcd8d0740row3_col6,#T_1055df6c_274c_11eb_ac2f_708bcd8d0740row5_col5,#T_1055df6c_274c_11eb_ac2f_708bcd8d0740row5_col7,#T_1055df6c_274c_11eb_ac2f_708bcd8d0740row5_col8,#T_1055df6c_274c_11eb_ac2f_708bcd8d0740row5_col9{\n            background-color:  #a9373b;\n            color:  #f1f1f1;\n        }#T_1055df6c_274c_11eb_ac2f_708bcd8d0740row0_col5,#T_1055df6c_274c_11eb_ac2f_708bcd8d0740row0_col7,#T_1055df6c_274c_11eb_ac2f_708bcd8d0740row0_col9,#T_1055df6c_274c_11eb_ac2f_708bcd8d0740row1_col5,#T_1055df6c_274c_11eb_ac2f_708bcd8d0740row1_col7,#T_1055df6c_274c_11eb_ac2f_708bcd8d0740row1_col9,#T_1055df6c_274c_11eb_ac2f_708bcd8d0740row2_col5,#T_1055df6c_274c_11eb_ac2f_708bcd8d0740row2_col7,#T_1055df6c_274c_11eb_ac2f_708bcd8d0740row2_col9,#T_1055df6c_274c_11eb_ac2f_708bcd8d0740row3_col5,#T_1055df6c_274c_11eb_ac2f_708bcd8d0740row3_col7,#T_1055df6c_274c_11eb_ac2f_708bcd8d0740row3_col9,#T_1055df6c_274c_11eb_ac2f_708bcd8d0740row4_col5,#T_1055df6c_274c_11eb_ac2f_708bcd8d0740row4_col6,#T_1055df6c_274c_11eb_ac2f_708bcd8d0740row4_col7,#T_1055df6c_274c_11eb_ac2f_708bcd8d0740row4_col8,#T_1055df6c_274c_11eb_ac2f_708bcd8d0740row4_col9,#T_1055df6c_274c_11eb_ac2f_708bcd8d0740row5_col4{\n            background-color:  #2369bd;\n            color:  #f1f1f1;\n        }#T_1055df6c_274c_11eb_ac2f_708bcd8d0740row0_col6{\n            background-color:  #f9efee;\n            color:  #000000;\n        }#T_1055df6c_274c_11eb_ac2f_708bcd8d0740row0_col8,#T_1055df6c_274c_11eb_ac2f_708bcd8d0740row1_col8,#T_1055df6c_274c_11eb_ac2f_708bcd8d0740row3_col8{\n            background-color:  #266abd;\n            color:  #f1f1f1;\n        }#T_1055df6c_274c_11eb_ac2f_708bcd8d0740row1_col6{\n            background-color:  #b3bfd3;\n            color:  #000000;\n        }#T_1055df6c_274c_11eb_ac2f_708bcd8d0740row2_col6{\n            background-color:  #f8edeb;\n            color:  #000000;\n        }#T_1055df6c_274c_11eb_ac2f_708bcd8d0740row2_col8{\n            background-color:  #296cbc;\n            color:  #f1f1f1;\n        }#T_1055df6c_274c_11eb_ac2f_708bcd8d0740row4_col4{\n            background-color:  #aa3a3e;\n            color:  #f1f1f1;\n        }#T_1055df6c_274c_11eb_ac2f_708bcd8d0740row5_col6{\n            background-color:  #e2e3ea;\n            color:  #000000;\n        }</style><table id=\"T_1055df6c_274c_11eb_ac2f_708bcd8d0740\" ><thead>    <tr>        <th class=\"blank level0\" ></th>        <th class=\"col_heading level0 col0\" >column_name</th>        <th class=\"col_heading level0 col1\" >timestamp_column</th>        <th class=\"col_heading level0 col2\" >timestamp_min</th>        <th class=\"col_heading level0 col3\" >timestamp_max</th>        <th class=\"col_heading level0 col4\" >count</th>        <th class=\"col_heading level0 col5\" >min</th>        <th class=\"col_heading level0 col6\" >max</th>        <th class=\"col_heading level0 col7\" >sum</th>        <th class=\"col_heading level0 col8\" >avg</th>        <th class=\"col_heading level0 col9\" >resolution_estimated</th>    </tr></thead><tbody>\n                <tr>\n                        <th id=\"T_1055df6c_274c_11eb_ac2f_708bcd8d0740level0_row0\" class=\"row_heading level0 row0\" >0</th>\n                        <td id=\"T_1055df6c_274c_11eb_ac2f_708bcd8d0740row0_col0\" class=\"data row0 col0\" >isc_refmod_sharp</td>\n                        <td id=\"T_1055df6c_274c_11eb_ac2f_708bcd8d0740row0_col1\" class=\"data row0 col1\" >measurementdatetime</td>\n                        <td id=\"T_1055df6c_274c_11eb_ac2f_708bcd8d0740row0_col2\" class=\"data row0 col2\" >2009-11-26 02:01:22</td>\n                        <td id=\"T_1055df6c_274c_11eb_ac2f_708bcd8d0740row0_col3\" class=\"data row0 col3\" >2014-12-31 00:00:00</td>\n                        <td id=\"T_1055df6c_274c_11eb_ac2f_708bcd8d0740row0_col4\" class=\"data row0 col4\" >116432681.000000</td>\n                        <td id=\"T_1055df6c_274c_11eb_ac2f_708bcd8d0740row0_col5\" class=\"data row0 col5\" >-9999.000000</td>\n                        <td id=\"T_1055df6c_274c_11eb_ac2f_708bcd8d0740row0_col6\" class=\"data row0 col6\" >14.190000</td>\n                        <td id=\"T_1055df6c_274c_11eb_ac2f_708bcd8d0740row0_col7\" class=\"data row0 col7\" >-103354741982.028015</td>\n                        <td id=\"T_1055df6c_274c_11eb_ac2f_708bcd8d0740row0_col8\" class=\"data row0 col8\" >-887.678108</td>\n                        <td id=\"T_1055df6c_274c_11eb_ac2f_708bcd8d0740row0_col9\" class=\"data row0 col9\" >1.380910</td>\n            </tr>\n            <tr>\n                        <th id=\"T_1055df6c_274c_11eb_ac2f_708bcd8d0740level0_row1\" class=\"row_heading level0 row1\" >1</th>\n                        <td id=\"T_1055df6c_274c_11eb_ac2f_708bcd8d0740row1_col0\" class=\"data row1 col0\" >isc_refmod_sunpower</td>\n                        <td id=\"T_1055df6c_274c_11eb_ac2f_708bcd8d0740row1_col1\" class=\"data row1 col1\" >measurementdatetime</td>\n                        <td id=\"T_1055df6c_274c_11eb_ac2f_708bcd8d0740row1_col2\" class=\"data row1 col2\" >2009-11-26 02:01:22</td>\n                        <td id=\"T_1055df6c_274c_11eb_ac2f_708bcd8d0740row1_col3\" class=\"data row1 col3\" >2014-12-31 00:00:00</td>\n                        <td id=\"T_1055df6c_274c_11eb_ac2f_708bcd8d0740row1_col4\" class=\"data row1 col4\" >116432681.000000</td>\n                        <td id=\"T_1055df6c_274c_11eb_ac2f_708bcd8d0740row1_col5\" class=\"data row1 col5\" >-9999.000000</td>\n                        <td id=\"T_1055df6c_274c_11eb_ac2f_708bcd8d0740row1_col6\" class=\"data row1 col6\" >9.993000</td>\n                        <td id=\"T_1055df6c_274c_11eb_ac2f_708bcd8d0740row1_col7\" class=\"data row1 col7\" >-103308416975.416992</td>\n                        <td id=\"T_1055df6c_274c_11eb_ac2f_708bcd8d0740row1_col8\" class=\"data row1 col8\" >-887.280239</td>\n                        <td id=\"T_1055df6c_274c_11eb_ac2f_708bcd8d0740row1_col9\" class=\"data row1 col9\" >1.380910</td>\n            </tr>\n            <tr>\n                        <th id=\"T_1055df6c_274c_11eb_ac2f_708bcd8d0740level0_row2\" class=\"row_heading level0 row2\" >2</th>\n                        <td id=\"T_1055df6c_274c_11eb_ac2f_708bcd8d0740row2_col0\" class=\"data row2 col0\" >isc_refmod_rec</td>\n                        <td id=\"T_1055df6c_274c_11eb_ac2f_708bcd8d0740row2_col1\" class=\"data row2 col1\" >measurementdatetime</td>\n                        <td id=\"T_1055df6c_274c_11eb_ac2f_708bcd8d0740row2_col2\" class=\"data row2 col2\" >2009-11-26 02:01:22</td>\n                        <td id=\"T_1055df6c_274c_11eb_ac2f_708bcd8d0740row2_col3\" class=\"data row2 col3\" >2014-12-31 00:00:00</td>\n                        <td id=\"T_1055df6c_274c_11eb_ac2f_708bcd8d0740row2_col4\" class=\"data row2 col4\" >116432681.000000</td>\n                        <td id=\"T_1055df6c_274c_11eb_ac2f_708bcd8d0740row2_col5\" class=\"data row2 col5\" >-9999.000000</td>\n                        <td id=\"T_1055df6c_274c_11eb_ac2f_708bcd8d0740row2_col6\" class=\"data row2 col6\" >14.327000</td>\n                        <td id=\"T_1055df6c_274c_11eb_ac2f_708bcd8d0740row2_col7\" class=\"data row2 col7\" >-103264179877.225998</td>\n                        <td id=\"T_1055df6c_274c_11eb_ac2f_708bcd8d0740row2_col8\" class=\"data row2 col8\" >-886.900301</td>\n                        <td id=\"T_1055df6c_274c_11eb_ac2f_708bcd8d0740row2_col9\" class=\"data row2 col9\" >1.380910</td>\n            </tr>\n            <tr>\n                        <th id=\"T_1055df6c_274c_11eb_ac2f_708bcd8d0740level0_row3\" class=\"row_heading level0 row3\" >3</th>\n                        <td id=\"T_1055df6c_274c_11eb_ac2f_708bcd8d0740row3_col0\" class=\"data row3 col0\" >isc_refmod_yingli</td>\n                        <td id=\"T_1055df6c_274c_11eb_ac2f_708bcd8d0740row3_col1\" class=\"data row3 col1\" >measurementdatetime</td>\n                        <td id=\"T_1055df6c_274c_11eb_ac2f_708bcd8d0740row3_col2\" class=\"data row3 col2\" >2009-11-26 02:01:22</td>\n                        <td id=\"T_1055df6c_274c_11eb_ac2f_708bcd8d0740row3_col3\" class=\"data row3 col3\" >2014-12-31 00:00:00</td>\n                        <td id=\"T_1055df6c_274c_11eb_ac2f_708bcd8d0740row3_col4\" class=\"data row3 col4\" >116432681.000000</td>\n                        <td id=\"T_1055df6c_274c_11eb_ac2f_708bcd8d0740row3_col5\" class=\"data row3 col5\" >-9999.000000</td>\n                        <td id=\"T_1055df6c_274c_11eb_ac2f_708bcd8d0740row3_col6\" class=\"data row3 col6\" >23.230000</td>\n                        <td id=\"T_1055df6c_274c_11eb_ac2f_708bcd8d0740row3_col7\" class=\"data row3 col7\" >-103328010308.554001</td>\n                        <td id=\"T_1055df6c_274c_11eb_ac2f_708bcd8d0740row3_col8\" class=\"data row3 col8\" >-887.448519</td>\n                        <td id=\"T_1055df6c_274c_11eb_ac2f_708bcd8d0740row3_col9\" class=\"data row3 col9\" >1.380910</td>\n            </tr>\n            <tr>\n                        <th id=\"T_1055df6c_274c_11eb_ac2f_708bcd8d0740level0_row4\" class=\"row_heading level0 row4\" >4</th>\n                        <td id=\"T_1055df6c_274c_11eb_ac2f_708bcd8d0740row4_col0\" class=\"data row4 col0\" >isc_refmod_wurth</td>\n                        <td id=\"T_1055df6c_274c_11eb_ac2f_708bcd8d0740row4_col1\" class=\"data row4 col1\" >measurementdatetime</td>\n                        <td id=\"T_1055df6c_274c_11eb_ac2f_708bcd8d0740row4_col2\" class=\"data row4 col2\" >2009-11-26 02:01:22</td>\n                        <td id=\"T_1055df6c_274c_11eb_ac2f_708bcd8d0740row4_col3\" class=\"data row4 col3\" >2014-12-11 14:17:15</td>\n                        <td id=\"T_1055df6c_274c_11eb_ac2f_708bcd8d0740row4_col4\" class=\"data row4 col4\" >115596099.000000</td>\n                        <td id=\"T_1055df6c_274c_11eb_ac2f_708bcd8d0740row4_col5\" class=\"data row4 col5\" >-9999.000000</td>\n                        <td id=\"T_1055df6c_274c_11eb_ac2f_708bcd8d0740row4_col6\" class=\"data row4 col6\" >4.012000</td>\n                        <td id=\"T_1055df6c_274c_11eb_ac2f_708bcd8d0740row4_col7\" class=\"data row4 col7\" >-103362268323.975998</td>\n                        <td id=\"T_1055df6c_274c_11eb_ac2f_708bcd8d0740row4_col8\" class=\"data row4 col8\" >-894.167444</td>\n                        <td id=\"T_1055df6c_274c_11eb_ac2f_708bcd8d0740row4_col9\" class=\"data row4 col9\" >1.376400</td>\n            </tr>\n            <tr>\n                        <th id=\"T_1055df6c_274c_11eb_ac2f_708bcd8d0740level0_row5\" class=\"row_heading level0 row5\" >5</th>\n                        <td id=\"T_1055df6c_274c_11eb_ac2f_708bcd8d0740row5_col0\" class=\"data row5 col0\" >isc</td>\n                        <td id=\"T_1055df6c_274c_11eb_ac2f_708bcd8d0740row5_col1\" class=\"data row5 col1\" >numeric</td>\n                        <td id=\"T_1055df6c_274c_11eb_ac2f_708bcd8d0740row5_col2\" class=\"data row5 col2\" >2013-03-04 15:56:00</td>\n                        <td id=\"T_1055df6c_274c_11eb_ac2f_708bcd8d0740row5_col3\" class=\"data row5 col3\" >2020-06-30 23:59:02</td>\n                        <td id=\"T_1055df6c_274c_11eb_ac2f_708bcd8d0740row5_col4\" class=\"data row5 col4\" >32383354.000000</td>\n                        <td id=\"T_1055df6c_274c_11eb_ac2f_708bcd8d0740row5_col5\" class=\"data row5 col5\" >-0.018000</td>\n                        <td id=\"T_1055df6c_274c_11eb_ac2f_708bcd8d0740row5_col6\" class=\"data row5 col6\" >12.174000</td>\n                        <td id=\"T_1055df6c_274c_11eb_ac2f_708bcd8d0740row5_col7\" class=\"data row5 col7\" >31750457.859000</td>\n                        <td id=\"T_1055df6c_274c_11eb_ac2f_708bcd8d0740row5_col8\" class=\"data row5 col8\" >0.980456</td>\n                        <td id=\"T_1055df6c_274c_11eb_ac2f_708bcd8d0740row5_col9\" class=\"data row5 col9\" >7.137895</td>\n            </tr>\n    </tbody></table>"
     },
     "execution_count": 2,
     "metadata": {},
     "output_type": "execute_result"
    }
   ],
   "source": [
    "isc_columns_description  = pd.read_csv(\"isc_columns_description.csv\",\n",
    "                                   infer_datetime_format = True,\n",
    "                                   usecols = ['column_name', 'timestamp_column', 'timestamp_min',\n",
    "                                              'timestamp_max',\t'count', 'min', 'max', 'sum', 'avg'],\n",
    "                                   converters= {'timestamp_min': lambda x: format_timestamp(x),\n",
    "                                              'timestamp_max': lambda x: format_timestamp(x)})\n",
    "\n",
    "%matplotlib inline\n",
    "isc_columns_description[\"resolution_estimated\"] = ((isc_columns_description.timestamp_max - isc_columns_description.timestamp_min)/\n",
    "                                            isc_columns_description[\"count\"])\n",
    "isc_columns_description.resolution_estimated = isc_columns_description.resolution_estimated.transform(lambda x: x.total_seconds())\n",
    "\n",
    "isc_columns_description.style.background_gradient(cmap='vlag')"
   ],
   "metadata": {
    "collapsed": false,
    "pycharm": {
     "name": "#%%\n"
    }
   }
  },
  {
   "cell_type": "markdown",
   "source": [
    "#### Conclusions on isc dataset\n",
    "Only *isc* is selected for future analysis due the following reasons:\n",
    "- Monitoring up to the present time (since 2013).\n",
    "- Realistic minimum (-0.018000) and average (0.980456) value.\n",
    "- Highest number of valid data (about 32 millions)\n",
    "\n",
    "Maximum value of 12.17 far from 23.23 (isc_refmod_yingli) but still in line with other isc parameters.\n",
    "Estimated resolution of 7.14 to be explored further for each module inside the dataset.\n",
    "\n",
    "### pv_ivt_tom dataset\n",
    "Before retrieving modules data, isc pv_ivt_tom table  needs to be explored further.\n",
    "Null information are removed and information shared by all the parameters are stored separately."
   ],
   "metadata": {
    "collapsed": false,
    "pycharm": {
     "name": "#%% md\n"
    }
   }
  },
  {
   "cell_type": "code",
   "execution_count": 88,
   "outputs": [
    {
     "name": "stdout",
     "output_type": "stream",
     "text": [
      "{'table_catalog': 'APVDBV3', 'table_schema': 'w_meas', 'table_name': 'pv_ivt_tom', 'udt_catalog': 'APVDBV3', 'udt_schema': 'pg_catalog', 'is_self_referencing': 'NO', 'is_identity': 'NO', 'is_generated': 'NEVER', 'is_updatable': 'YES'}\n",
      "\n"
     ]
    },
    {
     "data": {
      "text/plain": "           column_name  ordinal_position column_default is_nullable  \\\n0        channelnumber                 1           None          NO   \n1         obstimestamp                 2           None          NO   \n2                 impp                 3           None         YES   \n3                 vmpp                 4           None         YES   \n4                  isc                 5           None         YES   \n5                  voc                 6           None         YES   \n6   moduletemperature1                 7           None         YES   \n7   moduletemperature2                 8           None         YES   \n8     iv_sweep_endtime                 9           None          NO   \n9         no_of_points                10           None         YES   \n10             i_array                11           None         YES   \n11             v_array                12           None         YES   \n12          errorflags                13              0         YES   \n\n                      data_type  numeric_precision  numeric_precision_radix  \\\n0                      smallint               16.0                      2.0   \n1   timestamp without time zone                NaN                      NaN   \n2                       numeric                5.0                     10.0   \n3                       numeric                6.0                     10.0   \n4                       numeric                5.0                     10.0   \n5                       numeric                6.0                     10.0   \n6                       numeric                6.0                     10.0   \n7                       numeric                6.0                     10.0   \n8   timestamp without time zone                NaN                      NaN   \n9                      smallint               16.0                      2.0   \n10                        ARRAY                NaN                      NaN   \n11                        ARRAY                NaN                      NaN   \n12                     smallint               16.0                      2.0   \n\n    numeric_scale  datetime_precision   udt_name dtd_identifier  \\\n0             0.0                 NaN       int2              1   \n1             NaN                 6.0  timestamp              2   \n2             3.0                 NaN    numeric              3   \n3             3.0                 NaN    numeric              4   \n4             3.0                 NaN    numeric              5   \n5             3.0                 NaN    numeric              6   \n6             3.0                 NaN    numeric              7   \n7             3.0                 NaN    numeric              8   \n8             NaN                 6.0  timestamp              9   \n9             0.0                 NaN       int2             10   \n10            NaN                 NaN   _numeric             11   \n11            NaN                 NaN   _numeric             12   \n12            0.0                 NaN       int2             13   \n\n                                          description  \n0   Channels in the 800s range are Egnitec COMS4 h...  \n1                                                None  \n2                                                None  \n3                                                None  \n4                                                None  \n5                                                None  \n6                                                None  \n7                                                None  \n8                                                None  \n9                                                None  \n10                                               None  \n11                                               None  \n12  Error flags are bitwise: right-most bit has va...  ",
      "text/html": "<div>\n<style scoped>\n    .dataframe tbody tr th:only-of-type {\n        vertical-align: middle;\n    }\n\n    .dataframe tbody tr th {\n        vertical-align: top;\n    }\n\n    .dataframe thead th {\n        text-align: right;\n    }\n</style>\n<table border=\"1\" class=\"dataframe\">\n  <thead>\n    <tr style=\"text-align: right;\">\n      <th></th>\n      <th>column_name</th>\n      <th>ordinal_position</th>\n      <th>column_default</th>\n      <th>is_nullable</th>\n      <th>data_type</th>\n      <th>numeric_precision</th>\n      <th>numeric_precision_radix</th>\n      <th>numeric_scale</th>\n      <th>datetime_precision</th>\n      <th>udt_name</th>\n      <th>dtd_identifier</th>\n      <th>description</th>\n    </tr>\n  </thead>\n  <tbody>\n    <tr>\n      <th>0</th>\n      <td>channelnumber</td>\n      <td>1</td>\n      <td>None</td>\n      <td>NO</td>\n      <td>smallint</td>\n      <td>16.0</td>\n      <td>2.0</td>\n      <td>0.0</td>\n      <td>NaN</td>\n      <td>int2</td>\n      <td>1</td>\n      <td>Channels in the 800s range are Egnitec COMS4 h...</td>\n    </tr>\n    <tr>\n      <th>1</th>\n      <td>obstimestamp</td>\n      <td>2</td>\n      <td>None</td>\n      <td>NO</td>\n      <td>timestamp without time zone</td>\n      <td>NaN</td>\n      <td>NaN</td>\n      <td>NaN</td>\n      <td>6.0</td>\n      <td>timestamp</td>\n      <td>2</td>\n      <td>None</td>\n    </tr>\n    <tr>\n      <th>2</th>\n      <td>impp</td>\n      <td>3</td>\n      <td>None</td>\n      <td>YES</td>\n      <td>numeric</td>\n      <td>5.0</td>\n      <td>10.0</td>\n      <td>3.0</td>\n      <td>NaN</td>\n      <td>numeric</td>\n      <td>3</td>\n      <td>None</td>\n    </tr>\n    <tr>\n      <th>3</th>\n      <td>vmpp</td>\n      <td>4</td>\n      <td>None</td>\n      <td>YES</td>\n      <td>numeric</td>\n      <td>6.0</td>\n      <td>10.0</td>\n      <td>3.0</td>\n      <td>NaN</td>\n      <td>numeric</td>\n      <td>4</td>\n      <td>None</td>\n    </tr>\n    <tr>\n      <th>4</th>\n      <td>isc</td>\n      <td>5</td>\n      <td>None</td>\n      <td>YES</td>\n      <td>numeric</td>\n      <td>5.0</td>\n      <td>10.0</td>\n      <td>3.0</td>\n      <td>NaN</td>\n      <td>numeric</td>\n      <td>5</td>\n      <td>None</td>\n    </tr>\n    <tr>\n      <th>5</th>\n      <td>voc</td>\n      <td>6</td>\n      <td>None</td>\n      <td>YES</td>\n      <td>numeric</td>\n      <td>6.0</td>\n      <td>10.0</td>\n      <td>3.0</td>\n      <td>NaN</td>\n      <td>numeric</td>\n      <td>6</td>\n      <td>None</td>\n    </tr>\n    <tr>\n      <th>6</th>\n      <td>moduletemperature1</td>\n      <td>7</td>\n      <td>None</td>\n      <td>YES</td>\n      <td>numeric</td>\n      <td>6.0</td>\n      <td>10.0</td>\n      <td>3.0</td>\n      <td>NaN</td>\n      <td>numeric</td>\n      <td>7</td>\n      <td>None</td>\n    </tr>\n    <tr>\n      <th>7</th>\n      <td>moduletemperature2</td>\n      <td>8</td>\n      <td>None</td>\n      <td>YES</td>\n      <td>numeric</td>\n      <td>6.0</td>\n      <td>10.0</td>\n      <td>3.0</td>\n      <td>NaN</td>\n      <td>numeric</td>\n      <td>8</td>\n      <td>None</td>\n    </tr>\n    <tr>\n      <th>8</th>\n      <td>iv_sweep_endtime</td>\n      <td>9</td>\n      <td>None</td>\n      <td>NO</td>\n      <td>timestamp without time zone</td>\n      <td>NaN</td>\n      <td>NaN</td>\n      <td>NaN</td>\n      <td>6.0</td>\n      <td>timestamp</td>\n      <td>9</td>\n      <td>None</td>\n    </tr>\n    <tr>\n      <th>9</th>\n      <td>no_of_points</td>\n      <td>10</td>\n      <td>None</td>\n      <td>YES</td>\n      <td>smallint</td>\n      <td>16.0</td>\n      <td>2.0</td>\n      <td>0.0</td>\n      <td>NaN</td>\n      <td>int2</td>\n      <td>10</td>\n      <td>None</td>\n    </tr>\n    <tr>\n      <th>10</th>\n      <td>i_array</td>\n      <td>11</td>\n      <td>None</td>\n      <td>YES</td>\n      <td>ARRAY</td>\n      <td>NaN</td>\n      <td>NaN</td>\n      <td>NaN</td>\n      <td>NaN</td>\n      <td>_numeric</td>\n      <td>11</td>\n      <td>None</td>\n    </tr>\n    <tr>\n      <th>11</th>\n      <td>v_array</td>\n      <td>12</td>\n      <td>None</td>\n      <td>YES</td>\n      <td>ARRAY</td>\n      <td>NaN</td>\n      <td>NaN</td>\n      <td>NaN</td>\n      <td>NaN</td>\n      <td>_numeric</td>\n      <td>12</td>\n      <td>None</td>\n    </tr>\n    <tr>\n      <th>12</th>\n      <td>errorflags</td>\n      <td>13</td>\n      <td>0</td>\n      <td>YES</td>\n      <td>smallint</td>\n      <td>16.0</td>\n      <td>2.0</td>\n      <td>0.0</td>\n      <td>NaN</td>\n      <td>int2</td>\n      <td>13</td>\n      <td>Error flags are bitwise: right-most bit has va...</td>\n    </tr>\n  </tbody>\n</table>\n</div>"
     },
     "execution_count": 88,
     "metadata": {},
     "output_type": "execute_result"
    }
   ],
   "source": [
    "pv_ivt_info_per_column, pv_ivt_info_all_columns = engine.get_table_information()\n",
    "print(pv_ivt_info_all_columns)\n",
    "pv_ivt_info_per_column"
   ],
   "metadata": {
    "collapsed": false,
    "pycharm": {
     "name": "#%%\n"
    }
   }
  },
  {
   "cell_type": "markdown",
   "source": [
    "Assuming the sweep time very short comparing to the interval between each sweep,\n",
    "*iv_sweep_endtime* can be identified as reference timestamp for isc.\n",
    "Only rows having a value of 1 should be considered for *errorflag* following the column description."
   ],
   "metadata": {
    "collapsed": false
   }
  },
  {
   "cell_type": "markdown",
   "source": [
    "Closing connection to the database at the end."
   ],
   "metadata": {
    "collapsed": false
   }
  },
  {
   "cell_type": "code",
   "execution_count": 14,
   "outputs": [],
   "source": [
    "#ending connection always to be started\n",
    "engine.connection.close()"
   ],
   "metadata": {
    "collapsed": false,
    "pycharm": {
     "name": "#%%\n"
    }
   }
  }
 ],
 "metadata": {
  "kernelspec": {
   "display_name": "Python 3",
   "language": "python",
   "name": "python3"
  },
  "language_info": {
   "codemirror_mode": {
    "name": "ipython",
    "version": 2
   },
   "file_extension": ".py",
   "mimetype": "text/x-python",
   "name": "python",
   "nbconvert_exporter": "python",
   "pygments_lexer": "ipython2",
   "version": "2.7.6"
  }
 },
 "nbformat": 4,
 "nbformat_minor": 0
}