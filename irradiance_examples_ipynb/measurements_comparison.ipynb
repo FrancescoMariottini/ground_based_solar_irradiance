{
 "cells": [
  {
   "cell_type": "markdown",
   "source": [
    "# Comparison of hourly spot values #\n",
    "Possible installation issues are first verified by comparing modules y_cln against hrly PoA irradiance spot measurements.\n",
    "1. *obstimestamp* is the start of the I-V measurement\n",
    "1. *iv_sweep_endtime* is the time the I-V measurement sweep was completed (takes a few seconds)\n",
    "\n",
    "The I-V curves are measured by separate loads for each module, so not necessarily synchronised.\n",
    "Thus for each hr, the first *iv_sweep_endtime* is selected\n",
    "and that is joined with the corresponding hrly irradiance measurement.\n",
    "\n",
    "Due to memory restrictions found in SQL manager (see later), only 2019 data were evaluated.\n",
    "Data were also imported separately for each module as csv file before merging them.\n",
    "**SQL manager memory error**\n",
    "~~~~postgresql\n",
    "ERROR:  out of memory\n",
    "DETAIL:  Failed on request of size 12201600.\n",
    "(execution time: 00:18:37; total time: 00:18:38)\n",
    "~~~~"
   ],
   "metadata": {
    "collapsed": false
   }
  },
  {
   "cell_type": "code",
   "execution_count": 1,
   "outputs": [],
   "source": [
    "%store -r"
   ],
   "metadata": {
    "collapsed": false,
    "pycharm": {
     "name": "#%%\n"
    }
   }
  },
  {
   "cell_type": "code",
   "execution_count": null,
   "outputs": [],
   "source": [
    "#import libraries\n",
    "import os\n",
    "import pandas as pd\n",
    "#importin heatmap from seaborn\n",
    "from seaborn import heatmap\n",
    "#importing triu for triangular\n",
    "from numpy import triu, datetime64\n",
    "#enabling visualisation in matplotlib\n",
    "%matplotlib inline\n",
    "# module for connecting to CREST db1\n",
    "import database_operations as db\n",
    "# module for operation on dataset\n",
    "import data_operations as mc\n",
    "# for str search\n",
    "import re\n",
    "\n",
    "ISC_IRRADIANCE_FILES_FOLDER = os.path.join(os.path.dirname(os.getcwd())+r\"/assets/isc_irradiance_files/\")"
   ],
   "metadata": {
    "collapsed": false,
    "pycharm": {
     "name": "#%%\n"
    }
   }
  },
  {
   "cell_type": "markdown",
   "source": [
    "## Hourly spot values evaluation ##\n",
    "First files are merged together."
   ],
   "metadata": {
    "collapsed": false
   }
  },
  {
   "cell_type": "code",
   "source": [
    "df = mc.merge_datetime_csvs(csvs_folderpath=ISC_IRRADIANCE_FILES_FOLDER,\n",
    "                            columns_to_exclude=['pt1000_ppuk_sensol'],\n",
    "                         datetime_column= \"date_trunc\")"
   ],
   "metadata": {
    "collapsed": false,
    "pycharm": {
     "name": "#%%\n"
    }
   },
   "execution_count": 2,
   "outputs": [
    {
     "name": "stdout",
     "output_type": "stream",
     "text": [
      "ch1.csv adding columns: isc_1,mt1_1,mt2_1,iv_sweep_endtime_1,channelnumber_1,date_trunc\n",
      "ch10.csv adding columns: isc_10,mt1_10,mt2_10,iv_sweep_endtime_10,channelnumber_10,date_trunc\n",
      "ch11.csv adding columns: isc_11,mt1_11,mt2_11,iv_sweep_endtime_11,channelnumber_11,date_trunc\n",
      "ch12.csv adding columns: isc_12,mt1_12,mt2_12,iv_sweep_endtime_12,channelnumber_12,date_trunc\n",
      "ch13.csv adding columns: isc_13,mt1_13,mt2_13,iv_sweep_endtime_13,channelnumber_13,date_trunc\n",
      "ch14.csv adding columns: isc_14,mt1_14,mt2_14,iv_sweep_endtime_14,channelnumber_14,date_trunc\n",
      "ch2.csv adding columns: isc_2,mt1_2,mt2_2,iv_sweep_endtime_2,channelnumber_2,date_trunc\n",
      "ch3.csv adding columns: isc_3,mt1_3,mt2_3,iv_sweep_endtime_3,channelnumber_3,date_trunc\n",
      "ch4.csv adding columns: isc_4,mt1_4,mt2_4,iv_sweep_endtime_4,channelnumber_4,date_trunc\n",
      "ch6.csv adding columns: isc_6,mt1_6,mt2_6,iv_sweep_endtime_6,channelnumber_6,date_trunc\n",
      "ch7.csv adding columns: isc_7,mt1_7,mt2_7,iv_sweep_endtime_7,channelnumber_7,date_trunc\n",
      "ch8.csv adding columns: isc_8,mt1_8,mt2_8,iv_sweep_endtime_8,channelnumber_8,date_trunc\n",
      "ch9.csv adding columns: isc_9,mt1_9,mt2_9,iv_sweep_endtime_9,channelnumber_9,date_trunc\n",
      "chpoa.csv adding columns: g_cmp11_ppuk_poa,tmstamp_poa,date_trunc\n",
      "chrcell.csv adding columns: sensol_ppuk_rcell,tmstamp_rcell,date_trunc\n"
     ]
    }
   ]
  },
  {
   "cell_type": "markdown",
   "source": [
    "### Preliminary evaluation of correlation between the different measurements ###\n",
    "For a first analysis only the short circuit current values and irradiance values are selected."
   ],
   "metadata": {
    "collapsed": false,
    "pycharm": {
     "name": "#%% md\n"
    }
   }
  },
  {
   "cell_type": "code",
   "execution_count": 3,
   "outputs": [],
   "source": [
    "df_y_cln = df.copy(deep = True)\n",
    "columns_to_drop = [c for c in df_y_cln.columns.tolist() if len(re.findall('mt|cha|tms|iv_sweep', c))>0]\n",
    "df_y_cln.drop(columns=columns_to_drop, inplace=True)"
   ],
   "metadata": {
    "collapsed": false,
    "pycharm": {
     "name": "#%%\n"
    }
   }
  },
  {
   "cell_type": "markdown",
   "source": [
    "Then the only the records for which PoA irradiance is higher than 0 are selected.\n",
    "A first overview shows that short circuit current 1 and short circuit current 5 have respectively few and no data.\n",
    "Since two modules per technology are installed, each in different positions,\n",
    "short circuit current 1, short circuit current 2, short circuit current 5 and short circuit current 6 won't be further considered."
   ],
   "metadata": {
    "collapsed": false,
    "pycharm": {
     "name": "#%% md\n"
    }
   }
  },
  {
   "cell_type": "code",
   "execution_count": 4,
   "outputs": [
    {
     "data": {
      "text/plain": "            isc_1      isc_10      isc_11      isc_12      isc_13      isc_14  \\\ncount  257.000000  257.000000  257.000000  257.000000  257.000000  257.000000   \nmean     0.476949    0.339284    0.339226    0.343078    0.510848    0.517654   \nstd      1.695506    1.129252    1.122527    1.124268    1.694234    1.696235   \nmin     -0.015000   -0.001000    0.002000    0.005000   -0.001000    0.008000   \n25%     -0.015000   -0.001000    0.002000    0.005000   -0.001000    0.008000   \n50%     -0.015000   -0.001000    0.002000    0.005000   -0.001000    0.008000   \n75%     -0.010000    0.009000    0.016000    0.013000    0.025000    0.019000   \nmax     10.511000    6.000000    6.009000    6.011000    9.005000    9.046000   \n\n            isc_2       isc_3       isc_4       isc_6       isc_7       isc_8  \\\ncount  257.000000  257.000000  257.000000  257.000000  257.000000  257.000000   \nmean     0.513708    0.506261    0.516798    0.494397    0.329027    0.319237   \nstd      1.659993    1.696150    1.702662    1.654021    1.088626    1.088621   \nmin      0.006000   -0.003000    0.002000   -0.005000    0.000000   -0.008000   \n25%      0.009000   -0.003000    0.002000   -0.005000    0.000000   -0.008000   \n50%      0.009000   -0.003000    0.002000   -0.005000    0.000000   -0.008000   \n75%      0.038000    0.010000    0.025000    0.017000    0.009000    0.000000   \nmax      8.814000    9.012000    9.041000    8.779000    5.794000    5.775000   \n\n            isc_9  g_cmp11_ppuk_poa  sensol_ppuk_rcell  \ncount  257.000000        257.000000         257.000000  \nmean     0.342829         56.186377          61.407191  \nstd      1.130061        173.917395         202.583915  \nmin      0.000000          0.114000           0.000000  \n25%      0.000000          0.682000           0.000000  \n50%      0.000000          4.318000           0.084000  \n75%      0.019000         16.364000           3.395000  \nmax      6.011000       1071.591000        1073.277000  ",
      "text/html": "<div>\n<style scoped>\n    .dataframe tbody tr th:only-of-type {\n        vertical-align: middle;\n    }\n\n    .dataframe tbody tr th {\n        vertical-align: top;\n    }\n\n    .dataframe thead th {\n        text-align: right;\n    }\n</style>\n<table border=\"1\" class=\"dataframe\">\n  <thead>\n    <tr style=\"text-align: right;\">\n      <th></th>\n      <th>isc_1</th>\n      <th>isc_10</th>\n      <th>isc_11</th>\n      <th>isc_12</th>\n      <th>isc_13</th>\n      <th>isc_14</th>\n      <th>isc_2</th>\n      <th>isc_3</th>\n      <th>isc_4</th>\n      <th>isc_6</th>\n      <th>isc_7</th>\n      <th>isc_8</th>\n      <th>isc_9</th>\n      <th>g_cmp11_ppuk_poa</th>\n      <th>sensol_ppuk_rcell</th>\n    </tr>\n  </thead>\n  <tbody>\n    <tr>\n      <th>count</th>\n      <td>257.000000</td>\n      <td>257.000000</td>\n      <td>257.000000</td>\n      <td>257.000000</td>\n      <td>257.000000</td>\n      <td>257.000000</td>\n      <td>257.000000</td>\n      <td>257.000000</td>\n      <td>257.000000</td>\n      <td>257.000000</td>\n      <td>257.000000</td>\n      <td>257.000000</td>\n      <td>257.000000</td>\n      <td>257.000000</td>\n      <td>257.000000</td>\n    </tr>\n    <tr>\n      <th>mean</th>\n      <td>0.476949</td>\n      <td>0.339284</td>\n      <td>0.339226</td>\n      <td>0.343078</td>\n      <td>0.510848</td>\n      <td>0.517654</td>\n      <td>0.513708</td>\n      <td>0.506261</td>\n      <td>0.516798</td>\n      <td>0.494397</td>\n      <td>0.329027</td>\n      <td>0.319237</td>\n      <td>0.342829</td>\n      <td>56.186377</td>\n      <td>61.407191</td>\n    </tr>\n    <tr>\n      <th>std</th>\n      <td>1.695506</td>\n      <td>1.129252</td>\n      <td>1.122527</td>\n      <td>1.124268</td>\n      <td>1.694234</td>\n      <td>1.696235</td>\n      <td>1.659993</td>\n      <td>1.696150</td>\n      <td>1.702662</td>\n      <td>1.654021</td>\n      <td>1.088626</td>\n      <td>1.088621</td>\n      <td>1.130061</td>\n      <td>173.917395</td>\n      <td>202.583915</td>\n    </tr>\n    <tr>\n      <th>min</th>\n      <td>-0.015000</td>\n      <td>-0.001000</td>\n      <td>0.002000</td>\n      <td>0.005000</td>\n      <td>-0.001000</td>\n      <td>0.008000</td>\n      <td>0.006000</td>\n      <td>-0.003000</td>\n      <td>0.002000</td>\n      <td>-0.005000</td>\n      <td>0.000000</td>\n      <td>-0.008000</td>\n      <td>0.000000</td>\n      <td>0.114000</td>\n      <td>0.000000</td>\n    </tr>\n    <tr>\n      <th>25%</th>\n      <td>-0.015000</td>\n      <td>-0.001000</td>\n      <td>0.002000</td>\n      <td>0.005000</td>\n      <td>-0.001000</td>\n      <td>0.008000</td>\n      <td>0.009000</td>\n      <td>-0.003000</td>\n      <td>0.002000</td>\n      <td>-0.005000</td>\n      <td>0.000000</td>\n      <td>-0.008000</td>\n      <td>0.000000</td>\n      <td>0.682000</td>\n      <td>0.000000</td>\n    </tr>\n    <tr>\n      <th>50%</th>\n      <td>-0.015000</td>\n      <td>-0.001000</td>\n      <td>0.002000</td>\n      <td>0.005000</td>\n      <td>-0.001000</td>\n      <td>0.008000</td>\n      <td>0.009000</td>\n      <td>-0.003000</td>\n      <td>0.002000</td>\n      <td>-0.005000</td>\n      <td>0.000000</td>\n      <td>-0.008000</td>\n      <td>0.000000</td>\n      <td>4.318000</td>\n      <td>0.084000</td>\n    </tr>\n    <tr>\n      <th>75%</th>\n      <td>-0.010000</td>\n      <td>0.009000</td>\n      <td>0.016000</td>\n      <td>0.013000</td>\n      <td>0.025000</td>\n      <td>0.019000</td>\n      <td>0.038000</td>\n      <td>0.010000</td>\n      <td>0.025000</td>\n      <td>0.017000</td>\n      <td>0.009000</td>\n      <td>0.000000</td>\n      <td>0.019000</td>\n      <td>16.364000</td>\n      <td>3.395000</td>\n    </tr>\n    <tr>\n      <th>max</th>\n      <td>10.511000</td>\n      <td>6.000000</td>\n      <td>6.009000</td>\n      <td>6.011000</td>\n      <td>9.005000</td>\n      <td>9.046000</td>\n      <td>8.814000</td>\n      <td>9.012000</td>\n      <td>9.041000</td>\n      <td>8.779000</td>\n      <td>5.794000</td>\n      <td>5.775000</td>\n      <td>6.011000</td>\n      <td>1071.591000</td>\n      <td>1073.277000</td>\n    </tr>\n  </tbody>\n</table>\n</div>"
     },
     "execution_count": 4,
     "metadata": {},
     "output_type": "execute_result"
    }
   ],
   "source": [
    "df_p = df_y_cln.copy(deep = True)\n",
    "df_p = df_p.loc[df.g_cmp11_ppuk_gpoa>0]\n",
    "df_p.describe()"
   ],
   "metadata": {
    "collapsed": false,
    "pycharm": {
     "name": "#%%\n"
    }
   }
  },
  {
   "cell_type": "markdown",
   "source": [
    "Statistical parameters seem to suggest an high correlation between the irradiance sensors and some modules.\n",
    "This is further verified by extract a Pearson correlation matrix.\n",
    "y_cln1, y_cln2, y_cln5 and y_cln6 are excluded for a better visualisation.\n",
    "Found correlation for positive values of irradiance is higher than 0.99."
   ],
   "metadata": {
    "collapsed": false,
    "pycharm": {
     "name": "#%% md\n"
    }
   }
  },
  {
   "cell_type": "code",
   "execution_count": 5,
   "outputs": [],
   "source": [
    "y_cln_excluded = ['isc_1', 'isc_2', 'isc_5', 'isc_6']\n",
    "y_cln_selection = [c for c in df_p.columns if c not in y_cln_excluded]\n",
    "df_p_corr = df_p.loc[:,y_cln_selection].corr()"
   ],
   "metadata": {
    "collapsed": false,
    "pycharm": {
     "name": "#%%\n"
    }
   }
  },
  {
   "cell_type": "code",
   "execution_count": 6,
   "outputs": [
    {
     "data": {
      "text/plain": "<AxesSubplot:>"
     },
     "execution_count": 6,
     "metadata": {},
     "output_type": "execute_result"
    },
    {
     "data": {
      "text/plain": "<Figure size 432x288 with 2 Axes>",
      "image/png": "[encoded data removed]"
     },
     "metadata": {
      "needs_background": "light"
     },
     "output_type": "display_data"
    }
   ],
   "source": [
    "mask = triu(df_p_corr)\n",
    "heatmap(df_p_corr, annot=True, mask=mask)"
   ],
   "metadata": {
    "collapsed": false,
    "pycharm": {
     "name": "#%%\n"
    }
   }
  },
  {
   "cell_type": "markdown",
   "source": [
    "Interactions could be better appreciated by looking at interactions generated\n",
    "through a complete preliminary analysis (not required)."
   ],
   "metadata": {
    "collapsed": false
   }
  },
  {
   "cell_type": "code",
   "execution_count": null,
   "outputs": [],
   "source": [
    "# optional profiling (preliminary analysis) not necessary\n",
    "# from pandas_profiling import ProfileReport\n",
    "# profile = ProfileReport(df_y_cln, title='Pandas Profiling Report')\n",
    "# profile.to_widgets()"
   ],
   "metadata": {
    "collapsed": false,
    "pycharm": {
     "name": "#%%\n"
    }
   }
  },
  {
   "cell_type": "markdown",
   "source": [
    "### Evaluation of min and max values for PoA measurements ###\n",
    "For each day, the datetimes corresponding to the to when the sensor, oriented to-wards the equator,\n",
    "receives the first and last ray of sun based on sun path and irradiance peak,\n",
    "as well the datetime corresponding to the maximum value, are extracted.\n",
    "Datetimes of first and last minimum measurements are also extracted.\n",
    "\n",
    "**SQL queries**\n",
    "<br>\n",
    "For PoA and reference cell measuremets:\n",
    "```postgresql\n",
    "SELECT DISTINCT ON(date_trunc('hr', i.tmstamp)) i.sensol_ppuk,\n",
    "i.tmstamp, date_trunc('hr', i.tmstamp) as date_trunc\n",
    "FROM w_meas.mms1_cr1000_tom as i WHERE\n",
    "i.tmstamp >= '01/01/2019  00:00:00'\n",
    "AND i.tmstamp < '01/01/2020  00:00:00'\n",
    "ORDER BY date_trunc('hr', i.tmstamp), i.tmstamp\n",
    "```"
   ],
   "metadata": {
    "collapsed": false,
    "pycharm": {
     "name": "#%% md\n"
    }
   }
  },
  {
   "cell_type": "code",
   "execution_count": 7,
   "outputs": [],
   "source": [
    "# loading poa only for testing (without merging csv)\n",
    "df_gpoa, errors = mc.csv_read_datetime_format(filepath=os.path.join(ISC_IRRADIANCE_FILES_FOLDER,'chpoa_y19.csv'),\n",
    "                                     datetime_column=\"date_trunc\")\n",
    "\n",
    "gpoa_daily = mc.get_min_max_by_date(values= pd.Series(df_gpoa.g_cmp11_ppuk.values, index = df_gpoa.date_trunc.values),\n",
    "                                    parameter=\"poa\")"
   ],
   "metadata": {
    "collapsed": false,
    "pycharm": {
     "name": "#%%\n"
    }
   }
  },
  {
   "cell_type": "markdown",
   "source": [],
   "metadata": {
    "collapsed": false,
    "pycharm": {
     "name": "#%% md\n"
    }
   }
  }
 ],
 "metadata": {
  "kernelspec": {
   "display_name": "Python 3",
   "language": "python",
   "name": "python3"
  },
  "language_info": {
   "codemirror_mode": {
    "name": "ipython",
    "version": 2
   },
   "file_extension": ".py",
   "mimetype": "text/x-python",
   "name": "python",
   "nbconvert_exporter": "python",
   "pygments_lexer": "ipython2",
   "version": "2.7.6"
  }
 },
 "nbformat": 4,
 "nbformat_minor": 0
}